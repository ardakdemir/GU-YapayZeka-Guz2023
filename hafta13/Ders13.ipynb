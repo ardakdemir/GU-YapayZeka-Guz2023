{
 "cells": [
  {
   "cell_type": "code",
   "execution_count": 1,
   "id": "47e3816b",
   "metadata": {},
   "outputs": [],
   "source": [
    "# imports\n",
    "import torch\n",
    "import torch.nn.functional as F\n",
    "import matplotlib.pyplot as plt\n",
    "import numpy as np\n",
    "%matplotlib inline"
   ]
  },
  {
   "cell_type": "code",
   "execution_count": 2,
   "id": "1018764a",
   "metadata": {},
   "outputs": [
    {
     "data": {
      "text/plain": [
       "['emma', 'olivia', 'ava', 'isabella', 'sophia', 'charlotte', 'mia', 'amelia']"
      ]
     },
     "execution_count": 2,
     "metadata": {},
     "output_type": "execute_result"
    }
   ],
   "source": [
    "# read all words\n",
    "words = open('../hafta12/assets/names.txt','r').read().splitlines()\n",
    "words[:8]"
   ]
  },
  {
   "cell_type": "code",
   "execution_count": 3,
   "id": "31c91ac5",
   "metadata": {},
   "outputs": [
    {
     "data": {
      "text/plain": [
       "32033"
      ]
     },
     "execution_count": 3,
     "metadata": {},
     "output_type": "execute_result"
    }
   ],
   "source": [
    "len(words)"
   ]
  },
  {
   "cell_type": "code",
   "execution_count": 4,
   "id": "92980313",
   "metadata": {},
   "outputs": [
    {
     "name": "stdout",
     "output_type": "stream",
     "text": [
      "{1: 'a', 2: 'b', 3: 'c', 4: 'd', 5: 'e', 6: 'f', 7: 'g', 8: 'h', 9: 'i', 10: 'j', 11: 'k', 12: 'l', 13: 'm', 14: 'n', 15: 'o', 16: 'p', 17: 'q', 18: 'r', 19: 's', 20: 't', 21: 'u', 22: 'v', 23: 'w', 24: 'x', 25: 'y', 26: 'z', 0: '.'}\n"
     ]
    }
   ],
   "source": [
    "special_char = '.'\n",
    "chars = sorted(list(set(''.join(words))))\n",
    "stoi = {s:i+1 for i,s in enumerate(chars)}\n",
    "stoi[special_char] = 0\n",
    "itos = {i:s for s,i in stoi.items()}\n",
    "print(itos)"
   ]
  },
  {
   "cell_type": "code",
   "execution_count": 5,
   "id": "85ebb693",
   "metadata": {
    "scrolled": true
   },
   "outputs": [
    {
     "name": "stdout",
     "output_type": "stream",
     "text": [
      "emma\n",
      "... ---> e\n",
      "..e ---> m\n",
      ".em ---> m\n",
      "emm ---> a\n",
      "mma ---> .\n",
      "olivia\n",
      "... ---> o\n",
      "..o ---> l\n",
      ".ol ---> i\n",
      "oli ---> v\n",
      "liv ---> i\n",
      "ivi ---> a\n",
      "via ---> .\n",
      "ava\n",
      "... ---> a\n",
      "..a ---> v\n",
      ".av ---> a\n",
      "ava ---> .\n",
      "isabella\n",
      "... ---> i\n",
      "..i ---> s\n",
      ".is ---> a\n",
      "isa ---> b\n",
      "sab ---> e\n",
      "abe ---> l\n",
      "bel ---> l\n",
      "ell ---> a\n",
      "lla ---> .\n",
      "sophia\n",
      "... ---> s\n",
      "..s ---> o\n",
      ".so ---> p\n",
      "sop ---> h\n",
      "oph ---> i\n",
      "phi ---> a\n",
      "hia ---> .\n"
     ]
    }
   ],
   "source": [
    "block_size = 3 # context length\n",
    "\n",
    "X,Y = [], []\n",
    "for w in words[:5]:\n",
    "    \n",
    "    print(w)\n",
    "    context = [0]*block_size\n",
    "    for ch in w + '.':\n",
    "        ix = stoi[ch]\n",
    "        X.append(context)\n",
    "        Y.append(ix)\n",
    "        print(''.join(itos[i] for i in context), '--->',itos[ix])\n",
    "        context = context[1:] + [ix] # crop and append\n",
    "        \n",
    "X = torch.tensor(X)\n",
    "Y = torch.tensor(Y)"
   ]
  },
  {
   "cell_type": "code",
   "execution_count": 6,
   "id": "16be9bbc",
   "metadata": {},
   "outputs": [
    {
     "data": {
      "text/plain": [
       "(torch.Size([32, 3]), torch.int64, torch.Size([32]), torch.int64)"
      ]
     },
     "execution_count": 6,
     "metadata": {},
     "output_type": "execute_result"
    }
   ],
   "source": [
    "X.shape, X.dtype, Y.shape, Y.dtype"
   ]
  },
  {
   "cell_type": "code",
   "execution_count": 7,
   "id": "c70e52bd",
   "metadata": {},
   "outputs": [],
   "source": [
    "output_dim = 2 #acceptable since we only have 27 chars in our model\n",
    "vocab_size = 27\n",
    "C = torch.randn((vocab_size,output_dim))\n"
   ]
  },
  {
   "cell_type": "code",
   "execution_count": 8,
   "id": "a709a475",
   "metadata": {},
   "outputs": [
    {
     "data": {
      "text/plain": [
       "5"
      ]
     },
     "execution_count": 8,
     "metadata": {},
     "output_type": "execute_result"
    }
   ],
   "source": [
    "stoi['e']"
   ]
  },
  {
   "cell_type": "code",
   "execution_count": 9,
   "id": "a000ba12",
   "metadata": {},
   "outputs": [
    {
     "data": {
      "text/plain": [
       "tensor([-0.0610,  1.2185])"
      ]
     },
     "execution_count": 9,
     "metadata": {},
     "output_type": "execute_result"
    }
   ],
   "source": [
    "C[stoi['e']]"
   ]
  },
  {
   "cell_type": "code",
   "execution_count": 10,
   "id": "d1b5abfe",
   "metadata": {},
   "outputs": [],
   "source": [
    "# One-hot\n",
    "# remember casting to float\n",
    "index = F.one_hot(torch.tensor(5),num_classes=vocab_size).float()"
   ]
  },
  {
   "cell_type": "code",
   "execution_count": 11,
   "id": "5fbd4cea",
   "metadata": {},
   "outputs": [
    {
     "data": {
      "text/plain": [
       "tensor([-0.0610,  1.2185])"
      ]
     },
     "execution_count": 11,
     "metadata": {},
     "output_type": "execute_result"
    }
   ],
   "source": [
    "#identical \n",
    "index @ C "
   ]
  },
  {
   "cell_type": "code",
   "execution_count": 12,
   "id": "7ebbd0cb",
   "metadata": {},
   "outputs": [
    {
     "data": {
      "text/plain": [
       "tensor([-0.0610,  1.2185])"
      ]
     },
     "execution_count": 12,
     "metadata": {},
     "output_type": "execute_result"
    }
   ],
   "source": [
    "C[5]"
   ]
  },
  {
   "cell_type": "code",
   "execution_count": 13,
   "id": "9a7e07cc",
   "metadata": {},
   "outputs": [
    {
     "data": {
      "text/plain": [
       "tensor([-0.0610,  1.2185])"
      ]
     },
     "execution_count": 13,
     "metadata": {},
     "output_type": "execute_result"
    }
   ],
   "source": [
    "C[5]"
   ]
  },
  {
   "cell_type": "code",
   "execution_count": 14,
   "id": "b3d34af0",
   "metadata": {},
   "outputs": [
    {
     "data": {
      "text/plain": [
       "torch.Size([32, 3])"
      ]
     },
     "execution_count": 14,
     "metadata": {},
     "output_type": "execute_result"
    }
   ],
   "source": [
    "X.shape"
   ]
  },
  {
   "cell_type": "code",
   "execution_count": 15,
   "id": "16354b40",
   "metadata": {},
   "outputs": [],
   "source": [
    "emb = C[X]"
   ]
  },
  {
   "cell_type": "code",
   "execution_count": 16,
   "id": "09721b5b",
   "metadata": {},
   "outputs": [
    {
     "data": {
      "text/plain": [
       "tensor([-0.0239, -0.3540])"
      ]
     },
     "execution_count": 16,
     "metadata": {},
     "output_type": "execute_result"
    }
   ],
   "source": [
    "emb[0,2]"
   ]
  },
  {
   "cell_type": "code",
   "execution_count": 17,
   "id": "179ee4f3",
   "metadata": {},
   "outputs": [
    {
     "data": {
      "text/plain": [
       "torch.Size([32, 3, 2])"
      ]
     },
     "execution_count": 17,
     "metadata": {},
     "output_type": "execute_result"
    }
   ],
   "source": [
    "emb.shape"
   ]
  },
  {
   "cell_type": "code",
   "execution_count": 18,
   "id": "2bdc1a18",
   "metadata": {},
   "outputs": [
    {
     "data": {
      "text/plain": [
       "tensor([-0.5693,  0.2761])"
      ]
     },
     "execution_count": 18,
     "metadata": {},
     "output_type": "execute_result"
    }
   ],
   "source": [
    "emb[10,1]"
   ]
  },
  {
   "cell_type": "code",
   "execution_count": 19,
   "id": "496e0808",
   "metadata": {},
   "outputs": [],
   "source": [
    "W1 = torch.randn((6,100))\n",
    "b1 = torch.randn(100)"
   ]
  },
  {
   "cell_type": "code",
   "execution_count": 20,
   "id": "17f294e3",
   "metadata": {},
   "outputs": [
    {
     "data": {
      "text/plain": [
       "(tensor([-0.0239, -0.3540]),\n",
       " tensor([-0.0239, -0.3540]),\n",
       " tensor([-0.0239, -0.3540]))"
      ]
     },
     "execution_count": 20,
     "metadata": {},
     "output_type": "execute_result"
    }
   ],
   "source": [
    "emb[0,0],emb[0,1],emb[0,2]"
   ]
  },
  {
   "cell_type": "code",
   "execution_count": 21,
   "id": "e6ff9795",
   "metadata": {},
   "outputs": [
    {
     "data": {
      "text/plain": [
       "torch.Size([32, 6])"
      ]
     },
     "execution_count": 21,
     "metadata": {},
     "output_type": "execute_result"
    }
   ],
   "source": [
    "torch.cat([emb[:,0,:],emb[:,1,:],emb[:,2,:]],dim=1).shape"
   ]
  },
  {
   "cell_type": "code",
   "execution_count": 36,
   "id": "1b95f799",
   "metadata": {},
   "outputs": [
    {
     "data": {
      "text/plain": [
       "(tensor([1, 2]), tensor([2, 3]))"
      ]
     },
     "execution_count": 36,
     "metadata": {},
     "output_type": "execute_result"
    }
   ],
   "source": [
    "torch.unbind(torch.tensor([[1,2],[2,3]]))"
   ]
  },
  {
   "cell_type": "code",
   "execution_count": 37,
   "id": "2f04fbef",
   "metadata": {},
   "outputs": [
    {
     "data": {
      "text/plain": [
       "3"
      ]
     },
     "execution_count": 37,
     "metadata": {},
     "output_type": "execute_result"
    }
   ],
   "source": [
    "len(torch.unbind(emb,dim=1))"
   ]
  },
  {
   "cell_type": "code",
   "execution_count": 22,
   "id": "7f7a90b6",
   "metadata": {},
   "outputs": [],
   "source": [
    "emb_ = torch.unbind(emb,dim=1)\n",
    "con_emb_ = torch.cat(emb_,dim=1)"
   ]
  },
  {
   "cell_type": "code",
   "execution_count": 23,
   "id": "506eb19f",
   "metadata": {},
   "outputs": [
    {
     "data": {
      "text/plain": [
       "torch.Size([32, 6])"
      ]
     },
     "execution_count": 23,
     "metadata": {},
     "output_type": "execute_result"
    }
   ],
   "source": [
    "con_emb_.shape"
   ]
  },
  {
   "cell_type": "code",
   "execution_count": 24,
   "id": "9ecdaafe",
   "metadata": {},
   "outputs": [
    {
     "data": {
      "text/plain": [
       "tensor([ 0,  1,  2,  3,  4,  5,  6,  7,  8,  9, 10, 11, 12, 13, 14, 15, 16, 17])"
      ]
     },
     "execution_count": 24,
     "metadata": {},
     "output_type": "execute_result"
    }
   ],
   "source": [
    "a = torch.arange(18)\n",
    "a"
   ]
  },
  {
   "cell_type": "code",
   "execution_count": 27,
   "id": "4bd9a53a",
   "metadata": {},
   "outputs": [
    {
     "data": {
      "text/plain": [
       "tensor([[ 0,  1],\n",
       "        [ 2,  3],\n",
       "        [ 4,  5],\n",
       "        [ 6,  7],\n",
       "        [ 8,  9],\n",
       "        [10, 11],\n",
       "        [12, 13],\n",
       "        [14, 15],\n",
       "        [16, 17]])"
      ]
     },
     "execution_count": 27,
     "metadata": {},
     "output_type": "execute_result"
    }
   ],
   "source": [
    "a.view(9,2)"
   ]
  },
  {
   "cell_type": "code",
   "execution_count": 28,
   "id": "f3f70fc8",
   "metadata": {},
   "outputs": [
    {
     "data": {
      "text/plain": [
       "tensor([[[[ 0,  1,  2]],\n",
       "\n",
       "         [[ 3,  4,  5]],\n",
       "\n",
       "         [[ 6,  7,  8]]],\n",
       "\n",
       "\n",
       "        [[[ 9, 10, 11]],\n",
       "\n",
       "         [[12, 13, 14]],\n",
       "\n",
       "         [[15, 16, 17]]]])"
      ]
     },
     "execution_count": 28,
     "metadata": {},
     "output_type": "execute_result"
    }
   ],
   "source": [
    "a.view(2,3,1,3)"
   ]
  },
  {
   "cell_type": "code",
   "execution_count": 31,
   "id": "ef33c293",
   "metadata": {},
   "outputs": [
    {
     "name": "stderr",
     "output_type": "stream",
     "text": [
      "/var/folders/t_/wsj99tvd57j356g69px3zny00000gn/T/ipykernel_13834/214256462.py:1: UserWarning: TypedStorage is deprecated. It will be removed in the future and UntypedStorage will be the only storage class. This should only matter to you if you are using storages directly.  To access UntypedStorage directly, use tensor.untyped_storage() instead of tensor.storage()\n",
      "  a.storage()\n"
     ]
    },
    {
     "data": {
      "text/plain": [
       " 0\n",
       " 1\n",
       " 2\n",
       " 3\n",
       " 4\n",
       " 5\n",
       " 6\n",
       " 7\n",
       " 8\n",
       " 9\n",
       " 10\n",
       " 11\n",
       " 12\n",
       " 13\n",
       " 14\n",
       " 15\n",
       " 16\n",
       " 17\n",
       "[torch.storage.TypedStorage(dtype=torch.int64, device=cpu) of size 18]"
      ]
     },
     "execution_count": 31,
     "metadata": {},
     "output_type": "execute_result"
    }
   ],
   "source": [
    "a.storage()"
   ]
  },
  {
   "cell_type": "code",
   "execution_count": 35,
   "id": "bb0d237a",
   "metadata": {},
   "outputs": [],
   "source": [
    "h = emb.view(emb.shape[0],6) @ W1 + b1"
   ]
  },
  {
   "cell_type": "code",
   "execution_count": 36,
   "id": "d3011f36",
   "metadata": {},
   "outputs": [
    {
     "data": {
      "text/plain": [
       "torch.Size([32, 100])"
      ]
     },
     "execution_count": 36,
     "metadata": {},
     "output_type": "execute_result"
    }
   ],
   "source": [
    "h.shape"
   ]
  },
  {
   "cell_type": "code",
   "execution_count": 37,
   "id": "17f04516",
   "metadata": {},
   "outputs": [],
   "source": [
    "h = torch.tanh(h)"
   ]
  },
  {
   "cell_type": "code",
   "execution_count": 38,
   "id": "d908e53b",
   "metadata": {},
   "outputs": [],
   "source": [
    "W2 = torch.randn((100,27))\n",
    "b2 = torch.randn(27)"
   ]
  },
  {
   "cell_type": "code",
   "execution_count": 39,
   "id": "60c6868a",
   "metadata": {},
   "outputs": [],
   "source": [
    "logits = h@ W2 +b2"
   ]
  },
  {
   "cell_type": "code",
   "execution_count": 40,
   "id": "a282d927",
   "metadata": {},
   "outputs": [
    {
     "data": {
      "text/plain": [
       "torch.Size([32, 27])"
      ]
     },
     "execution_count": 40,
     "metadata": {},
     "output_type": "execute_result"
    }
   ],
   "source": [
    "logits.shape"
   ]
  },
  {
   "cell_type": "code",
   "execution_count": 41,
   "id": "198c16dc",
   "metadata": {},
   "outputs": [],
   "source": [
    "counts = logits.exp()\n",
    "prob = counts / counts.sum(1,keepdims=True)"
   ]
  },
  {
   "cell_type": "code",
   "execution_count": 44,
   "id": "f5d06230",
   "metadata": {},
   "outputs": [
    {
     "data": {
      "text/plain": [
       "tensor(1.0000)"
      ]
     },
     "execution_count": 44,
     "metadata": {},
     "output_type": "execute_result"
    }
   ],
   "source": [
    "sum(prob[0])"
   ]
  },
  {
   "cell_type": "code",
   "execution_count": 47,
   "id": "69dce17e",
   "metadata": {},
   "outputs": [
    {
     "data": {
      "text/plain": [
       "tensor([1.3487e-07, 9.9459e-01, 1.2242e-10, 4.1110e-06, 3.4077e-02, 1.7999e-07,\n",
       "        2.6193e-07, 1.9907e-13, 8.5234e-08, 9.1077e-14, 2.6085e-03, 1.3922e-06,\n",
       "        5.4480e-05, 4.9832e-06, 1.2914e-08, 4.5704e-05, 1.3739e-11, 3.2650e-07,\n",
       "        1.8317e-06, 1.7511e-07, 7.3633e-09, 3.8155e-08, 3.3649e-10, 1.7545e-01,\n",
       "        1.5464e-05, 5.9514e-05, 6.1656e-06, 5.2414e-09, 9.9202e-08, 5.4649e-07,\n",
       "        1.3019e-03, 1.1142e-03])"
      ]
     },
     "execution_count": 47,
     "metadata": {},
     "output_type": "execute_result"
    }
   ],
   "source": [
    "prob[torch.arange(32),Y]"
   ]
  },
  {
   "cell_type": "code",
   "execution_count": 48,
   "id": "32ca1a42",
   "metadata": {},
   "outputs": [
    {
     "data": {
      "text/plain": [
       "tensor(14.1943)"
      ]
     },
     "execution_count": 48,
     "metadata": {},
     "output_type": "execute_result"
    }
   ],
   "source": [
    "loss = -prob[torch.arange(32),Y].log().mean()\n",
    "loss"
   ]
  },
  {
   "cell_type": "code",
   "execution_count": 77,
   "id": "e5b03d82",
   "metadata": {},
   "outputs": [],
   "source": [
    "block_size = 3 # context length\n",
    "\n",
    "X,Y = [], []\n",
    "for w in words:\n",
    "    \n",
    "    context = [0]*block_size\n",
    "    for ch in w + '.':\n",
    "        ix = stoi[ch]\n",
    "        X.append(context)\n",
    "        Y.append(ix)\n",
    "        context = context[1:] + [ix] # crop and append\n",
    "        \n",
    "X = torch.tensor(X)\n",
    "Y = torch.tensor(Y)"
   ]
  },
  {
   "cell_type": "code",
   "execution_count": 78,
   "id": "f958ec87",
   "metadata": {},
   "outputs": [
    {
     "data": {
      "text/plain": [
       "torch.Size([228146, 3])"
      ]
     },
     "execution_count": 78,
     "metadata": {},
     "output_type": "execute_result"
    }
   ],
   "source": [
    "X.shape"
   ]
  },
  {
   "cell_type": "code",
   "execution_count": 79,
   "id": "e5f41766",
   "metadata": {},
   "outputs": [],
   "source": [
    "g = torch.Generator().manual_seed(2147483647)\n",
    "output_dim = 2 #acceptable since we only have 27 chars in our model\n",
    "vocab_size = 27\n",
    "C = torch.randn((vocab_size,output_dim),generator=g)\n",
    "W1 = torch.randn((6,100),generator=g)\n",
    "b1 = torch.randn(100,generator=g)\n",
    "W2 = torch.randn((100,27),generator=g)\n",
    "b2 = torch.randn(27,generator=g)\n",
    "parameters = [C,W1,b1,W2,b2]"
   ]
  },
  {
   "cell_type": "code",
   "execution_count": 80,
   "id": "5232cefc",
   "metadata": {},
   "outputs": [
    {
     "data": {
      "text/plain": [
       "3481"
      ]
     },
     "execution_count": 80,
     "metadata": {},
     "output_type": "execute_result"
    }
   ],
   "source": [
    "sum(p.nelement() for p in parameters)"
   ]
  },
  {
   "cell_type": "code",
   "execution_count": 81,
   "id": "9ea58c60",
   "metadata": {},
   "outputs": [
    {
     "data": {
      "text/plain": [
       "tensor(19.5052)"
      ]
     },
     "execution_count": 81,
     "metadata": {},
     "output_type": "execute_result"
    }
   ],
   "source": [
    "# forward pass\n",
    "h = torch.tanh(C[X].view(-1,6)@ W1+b1)\n",
    "logits = h @ W2 + b2\n",
    "# counts = logits.exp()\n",
    "# prob = counts / counts.sum(1,keepdims=True)\n",
    "# loss = -prob[torch.arange(32),Y].log().mean()\n",
    "loss2 = F.cross_entropy(logits,Y)\n",
    "loss2"
   ]
  },
  {
   "cell_type": "code",
   "execution_count": 82,
   "id": "5a834cc3",
   "metadata": {},
   "outputs": [],
   "source": [
    "for p in parameters:\n",
    "    p.requires_grad= True"
   ]
  },
  {
   "cell_type": "code",
   "execution_count": 85,
   "id": "a0945468",
   "metadata": {
    "scrolled": true
   },
   "outputs": [
    {
     "name": "stdout",
     "output_type": "stream",
     "text": [
      "8.722230911254883\n",
      "8.521748542785645\n",
      "8.32922649383545\n",
      "8.144325256347656\n",
      "7.966790676116943\n",
      "7.796450614929199\n",
      "7.633184909820557\n",
      "7.476907253265381\n",
      "7.327520370483398\n",
      "7.184885025024414\n",
      "7.048791885375977\n",
      "6.918952465057373\n",
      "6.795018196105957\n",
      "6.676602840423584\n",
      "6.563317775726318\n",
      "6.454789161682129\n",
      "6.350668907165527\n",
      "6.250642776489258\n",
      "6.154431343078613\n",
      "6.061785697937012\n",
      "5.972482204437256\n",
      "5.886327743530273\n",
      "5.803146839141846\n",
      "5.722784042358398\n",
      "5.645094394683838\n",
      "5.569945335388184\n",
      "5.497213363647461\n",
      "5.4267802238464355\n",
      "5.358535289764404\n",
      "5.292375087738037\n",
      "5.228203296661377\n",
      "5.165927886962891\n",
      "5.105468273162842\n",
      "5.04674768447876\n",
      "4.98969841003418\n",
      "4.934261322021484\n",
      "4.880379676818848\n",
      "4.828005790710449\n",
      "4.777095794677734\n",
      "4.727609157562256\n",
      "4.679513454437256\n",
      "4.632778644561768\n",
      "4.587378025054932\n",
      "4.543288230895996\n",
      "4.500490665435791\n",
      "4.4589667320251465\n",
      "4.418700218200684\n",
      "4.379675388336182\n",
      "4.3418779373168945\n",
      "4.305292129516602\n",
      "4.269898891448975\n",
      "4.235679626464844\n",
      "4.202611923217773\n",
      "4.1706695556640625\n",
      "4.139823913574219\n",
      "4.110044002532959\n",
      "4.081292629241943\n",
      "4.053531169891357\n",
      "4.02672004699707\n",
      "4.00081729888916\n",
      "3.9757795333862305\n",
      "3.951563596725464\n",
      "3.9281280040740967\n",
      "3.905430793762207\n",
      "3.8834331035614014\n",
      "3.862098217010498\n",
      "3.8413913249969482\n",
      "3.821279764175415\n",
      "3.80173397064209\n",
      "3.782726526260376\n",
      "3.764232873916626\n",
      "3.746229410171509\n",
      "3.7286951541900635\n",
      "3.711611032485962\n",
      "3.6949589252471924\n",
      "3.678723096847534\n",
      "3.662886619567871\n",
      "3.647437334060669\n",
      "3.6323606967926025\n",
      "3.617645025253296\n",
      "3.603278398513794\n",
      "3.589249610900879\n",
      "3.575546979904175\n",
      "3.562162160873413\n",
      "3.549084424972534\n",
      "3.5363049507141113\n",
      "3.5238139629364014\n",
      "3.511603593826294\n",
      "3.499664783477783\n",
      "3.4879894256591797\n",
      "3.476569890975952\n",
      "3.4653987884521484\n",
      "3.454468011856079\n",
      "3.4437708854675293\n",
      "3.433300495147705\n",
      "3.4230494499206543\n",
      "3.4130120277404785\n",
      "3.403181552886963\n",
      "3.39355206489563\n",
      "3.3841166496276855\n",
      "3.3841166496276855\n"
     ]
    }
   ],
   "source": [
    "epoch = 100\n",
    "for _ in range(epoch):\n",
    "    # forward pass\n",
    "    emb = C[X] # shape (32,3,2)\n",
    "    h = torch.tanh(emb.view(-1,6) @ W1+b1)\n",
    "    logits = h @ W2 + b2\n",
    "    loss = F.cross_entropy(logits,Y)\n",
    "    print(loss.item())\n",
    "    #backward pass\n",
    "    for p in parameters:\n",
    "        p.grad = None\n",
    "    loss.backward()\n",
    "    #update\n",
    "    for p in parameters:\n",
    "        p.data += -0.1 * p.grad\n",
    "print(loss.item())"
   ]
  },
  {
   "cell_type": "code",
   "execution_count": 119,
   "id": "693a5d82",
   "metadata": {},
   "outputs": [],
   "source": [
    "# Mini-batch GD\n",
    "epoch = 20000\n",
    "batch_size = 64\n",
    "for _ in range(epoch):\n",
    "    # construct mini-batch\n",
    "    ixs = torch.randint(0,X.shape[0],(batch_size,))\n",
    "    mini_batch = X[ixs,:]\n",
    "    mini_batch_y = Y[ixs]\n",
    "    \n",
    "    # forward pass\n",
    "    emb = C[mini_batch]\n",
    "    h = torch.tanh(emb.view(-1,6) @ W1+b1)\n",
    "    logits = h @ W2 + b2\n",
    "    loss = F.cross_entropy(logits, mini_batch_y)\n",
    "#     print(loss.item())\n",
    "    \n",
    "    #backward pass\n",
    "    for p in parameters:\n",
    "        p.grad = None\n",
    "    loss.backward()\n",
    "    \n",
    "    #update\n",
    "    for p in parameters:\n",
    "        p.data += -0.005 * p.grad"
   ]
  },
  {
   "cell_type": "code",
   "execution_count": 120,
   "id": "4a70d320",
   "metadata": {},
   "outputs": [
    {
     "data": {
      "text/plain": [
       "2.3829360008239746"
      ]
     },
     "execution_count": 120,
     "metadata": {},
     "output_type": "execute_result"
    }
   ],
   "source": [
    "emb = C[X]\n",
    "h = torch.tanh(emb.view(-1,6) @ W1+b1)\n",
    "logits = h @ W2 + b2\n",
    "loss = F.cross_entropy(logits, Y)\n",
    "loss.item()"
   ]
  },
  {
   "cell_type": "code",
   "execution_count": null,
   "id": "d01423f6",
   "metadata": {},
   "outputs": [],
   "source": [
    "2.09"
   ]
  },
  {
   "cell_type": "code",
   "execution_count": null,
   "id": "b16ff538",
   "metadata": {},
   "outputs": [],
   "source": []
  },
  {
   "cell_type": "code",
   "execution_count": null,
   "id": "9f560029",
   "metadata": {},
   "outputs": [],
   "source": []
  },
  {
   "cell_type": "code",
   "execution_count": null,
   "id": "adb60e01",
   "metadata": {},
   "outputs": [],
   "source": []
  },
  {
   "cell_type": "code",
   "execution_count": null,
   "id": "7f7d6d02",
   "metadata": {},
   "outputs": [],
   "source": []
  },
  {
   "cell_type": "code",
   "execution_count": null,
   "id": "beba9972",
   "metadata": {},
   "outputs": [],
   "source": []
  },
  {
   "cell_type": "code",
   "execution_count": null,
   "id": "bfe206a0",
   "metadata": {},
   "outputs": [],
   "source": []
  },
  {
   "cell_type": "code",
   "execution_count": null,
   "id": "81c2ad10",
   "metadata": {},
   "outputs": [],
   "source": []
  },
  {
   "cell_type": "code",
   "execution_count": null,
   "id": "458ddc22",
   "metadata": {},
   "outputs": [],
   "source": []
  },
  {
   "cell_type": "code",
   "execution_count": null,
   "id": "caab5b26",
   "metadata": {},
   "outputs": [],
   "source": []
  },
  {
   "cell_type": "code",
   "execution_count": null,
   "id": "e71792f4",
   "metadata": {},
   "outputs": [],
   "source": []
  },
  {
   "cell_type": "code",
   "execution_count": null,
   "id": "df5d3392",
   "metadata": {},
   "outputs": [],
   "source": []
  }
 ],
 "metadata": {
  "kernelspec": {
   "display_name": "venv-karpathy",
   "language": "python",
   "name": "venv-karpathy"
  },
  "language_info": {
   "codemirror_mode": {
    "name": "ipython",
    "version": 3
   },
   "file_extension": ".py",
   "mimetype": "text/x-python",
   "name": "python",
   "nbconvert_exporter": "python",
   "pygments_lexer": "ipython3",
   "version": "3.11.6"
  }
 },
 "nbformat": 4,
 "nbformat_minor": 5
}
