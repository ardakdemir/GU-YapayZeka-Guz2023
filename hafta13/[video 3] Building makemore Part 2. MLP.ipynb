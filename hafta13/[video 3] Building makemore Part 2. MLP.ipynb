{
 "cells": [
  {
   "cell_type": "markdown",
   "id": "76c1d6b0",
   "metadata": {},
   "source": [
    "Reference MLP paper: https://www.jmlr.org/papers/volume3/bengio03a/bengio03a.pdf"
   ]
  },
  {
   "cell_type": "markdown",
   "id": "182fdf3c",
   "metadata": {},
   "source": [
    "- The vectors will start all randomly placed in the 30dim space.\n",
    "- As we train the model, it will learn the semantically similar words will get closer to each other.\n",
    "- This helps us to generalize to unseen cases. If we know cat-dog are similar and likewise for (a,the) we can generalize to many unseen words."
   ]
  },
  {
   "cell_type": "markdown",
   "id": "605e1648",
   "metadata": {},
   "source": [
    "#### Go over the neural architecture diagram\n",
    "- Input: some context window of words\n",
    "- The lookup table is shared for all timestamps\n",
    "- Some number of hidden units (hyperparam) with tanh activation\n",
    "- Softmax at the latest layer to predict the next word\n",
    "- During training, maximize the probability of the next words\n",
    "- Learned through backprop\n",
    "- Ignore the residual connections!"
   ]
  },
  {
   "cell_type": "code",
   "execution_count": 132,
   "id": "7256e536",
   "metadata": {},
   "outputs": [],
   "source": [
    "# imports\n",
    "import torch\n",
    "import torch.nn.functional as F\n",
    "import matplotlib.pyplot as plt\n",
    "import numpy as np\n",
    "%matplotlib inline"
   ]
  },
  {
   "cell_type": "code",
   "execution_count": 134,
   "id": "20548ae9",
   "metadata": {},
   "outputs": [
    {
     "data": {
      "text/plain": [
       "['emma', 'olivia', 'ava', 'isabella', 'sophia', 'charlotte', 'mia', 'amelia']"
      ]
     },
     "execution_count": 134,
     "metadata": {},
     "output_type": "execute_result"
    }
   ],
   "source": [
    "# read all words\n",
    "words = open('../hafta12/assets/names.txt','r').read().splitlines()\n",
    "words[:8]"
   ]
  },
  {
   "cell_type": "code",
   "execution_count": 135,
   "id": "a2a25c19",
   "metadata": {},
   "outputs": [
    {
     "data": {
      "text/plain": [
       "32033"
      ]
     },
     "execution_count": 135,
     "metadata": {},
     "output_type": "execute_result"
    }
   ],
   "source": [
    "len(words)"
   ]
  },
  {
   "cell_type": "code",
   "execution_count": 136,
   "id": "64cf592f",
   "metadata": {},
   "outputs": [
    {
     "name": "stdout",
     "output_type": "stream",
     "text": [
      "{1: 'a', 2: 'b', 3: 'c', 4: 'd', 5: 'e', 6: 'f', 7: 'g', 8: 'h', 9: 'i', 10: 'j', 11: 'k', 12: 'l', 13: 'm', 14: 'n', 15: 'o', 16: 'p', 17: 'q', 18: 'r', 19: 's', 20: 't', 21: 'u', 22: 'v', 23: 'w', 24: 'x', 25: 'y', 26: 'z', 0: '.'}\n"
     ]
    }
   ],
   "source": [
    "special_char = '.'\n",
    "chars = sorted(list(set(''.join(words))))\n",
    "stoi = {s:i+1 for i,s in enumerate(chars)}\n",
    "stoi[special_char] = 0\n",
    "itos = {i:s for s,i in stoi.items()}\n",
    "print(itos)"
   ]
  },
  {
   "cell_type": "markdown",
   "id": "dc4a416f",
   "metadata": {},
   "source": [
    "### Build the dataset\n",
    "Explain what is Y and block size"
   ]
  },
  {
   "cell_type": "code",
   "execution_count": 11,
   "id": "669324b2",
   "metadata": {
    "scrolled": true
   },
   "outputs": [
    {
     "name": "stdout",
     "output_type": "stream",
     "text": [
      "emma\n",
      "... ---> e\n",
      "..e ---> m\n",
      ".em ---> m\n",
      "emm ---> a\n",
      "mma ---> .\n",
      "olivia\n",
      "... ---> o\n",
      "..o ---> l\n",
      ".ol ---> i\n",
      "oli ---> v\n",
      "liv ---> i\n",
      "ivi ---> a\n",
      "via ---> .\n",
      "ava\n",
      "... ---> a\n",
      "..a ---> v\n",
      ".av ---> a\n",
      "ava ---> .\n",
      "isabella\n",
      "... ---> i\n",
      "..i ---> s\n",
      ".is ---> a\n",
      "isa ---> b\n",
      "sab ---> e\n",
      "abe ---> l\n",
      "bel ---> l\n",
      "ell ---> a\n",
      "lla ---> .\n",
      "sophia\n",
      "... ---> s\n",
      "..s ---> o\n",
      ".so ---> p\n",
      "sop ---> h\n",
      "oph ---> i\n",
      "phi ---> a\n",
      "hia ---> .\n"
     ]
    }
   ],
   "source": [
    "block_size = 3 # context length\n",
    "\n",
    "X,Y = [], []\n",
    "for w in words[:5]:\n",
    "    \n",
    "    print(w)\n",
    "    context = [0]*block_size\n",
    "    for ch in w + '.':\n",
    "        ix = stoi[ch]\n",
    "        X.append(context)\n",
    "        Y.append(ix)\n",
    "        print(''.join(itos[i] for i in context), '--->',itos[ix])\n",
    "        context = context[1:] + [ix] # crop and append\n",
    "        \n",
    "X = torch.tensor(X)\n",
    "Y = torch.tensor(Y)"
   ]
  },
  {
   "cell_type": "code",
   "execution_count": 13,
   "id": "7f6c711b",
   "metadata": {},
   "outputs": [
    {
     "data": {
      "text/plain": [
       "(torch.Size([32, 3]), torch.int64, torch.Size([32]), torch.int64)"
      ]
     },
     "execution_count": 13,
     "metadata": {},
     "output_type": "execute_result"
    }
   ],
   "source": [
    "X.shape, X.dtype, Y.shape, Y.dtype"
   ]
  },
  {
   "cell_type": "code",
   "execution_count": 53,
   "id": "2f54c6e2",
   "metadata": {},
   "outputs": [],
   "source": [
    "output_dim = 2 #acceptable since we only have 27 chars in our model\n",
    "vocab_size = 27\n",
    "C = torch.randn((vocab_size,output_dim))\n"
   ]
  },
  {
   "cell_type": "code",
   "execution_count": 17,
   "id": "326d75c1",
   "metadata": {},
   "outputs": [
    {
     "data": {
      "text/plain": [
       "tensor([ 1.1187, -0.2084])"
      ]
     },
     "execution_count": 17,
     "metadata": {},
     "output_type": "execute_result"
    }
   ],
   "source": [
    "# How to access\n",
    "C[5]"
   ]
  },
  {
   "cell_type": "code",
   "execution_count": 30,
   "id": "a1220aca",
   "metadata": {},
   "outputs": [],
   "source": [
    "# One-hot\n",
    "# remember casting to float\n",
    "index = F.one_hot(torch.tensor(5),num_classes=vocab_size).float()"
   ]
  },
  {
   "cell_type": "code",
   "execution_count": 31,
   "id": "5cb268ca",
   "metadata": {},
   "outputs": [
    {
     "data": {
      "text/plain": [
       "tensor([0., 0., 0., 0., 0., 1., 0., 0., 0., 0., 0., 0., 0., 0., 0., 0., 0., 0.,\n",
       "        0., 0., 0., 0., 0., 0., 0., 0., 0.])"
      ]
     },
     "execution_count": 31,
     "metadata": {},
     "output_type": "execute_result"
    }
   ],
   "source": [
    "index"
   ]
  },
  {
   "cell_type": "code",
   "execution_count": 33,
   "id": "387d58e3",
   "metadata": {},
   "outputs": [
    {
     "data": {
      "text/plain": [
       "tensor([ 1.1187, -0.2084])"
      ]
     },
     "execution_count": 33,
     "metadata": {},
     "output_type": "execute_result"
    }
   ],
   "source": [
    "#identical \n",
    "index @ C "
   ]
  },
  {
   "cell_type": "markdown",
   "id": "2c9f70b9",
   "metadata": {},
   "source": [
    "Since it is the same thing, we will basically index and discard the one-hot approach."
   ]
  },
  {
   "cell_type": "code",
   "execution_count": 35,
   "id": "6eb4cf56",
   "metadata": {},
   "outputs": [
    {
     "data": {
      "text/plain": [
       "tensor([[ 2.9992, -1.2235],\n",
       "        [ 0.4842,  0.3169],\n",
       "        [ 0.7539, -1.5278],\n",
       "        [ 0.7539, -1.5278],\n",
       "        [ 0.7539, -1.5278]])"
      ]
     },
     "execution_count": 35,
     "metadata": {},
     "output_type": "execute_result"
    }
   ],
   "source": [
    "# Pytorch indexing is highly flexible\n",
    "# It can be array as well\n",
    "C[torch.tensor([1,2,3,3,3])]"
   ]
  },
  {
   "cell_type": "code",
   "execution_count": 36,
   "id": "7f1dfc8d",
   "metadata": {},
   "outputs": [
    {
     "data": {
      "text/plain": [
       "torch.Size([32, 3, 2])"
      ]
     },
     "execution_count": 36,
     "metadata": {},
     "output_type": "execute_result"
    }
   ],
   "source": [
    "# We can even do this\n",
    "C[X].shape"
   ]
  },
  {
   "cell_type": "code",
   "execution_count": 37,
   "id": "4d75471f",
   "metadata": {},
   "outputs": [
    {
     "data": {
      "text/plain": [
       "tensor(1)"
      ]
     },
     "execution_count": 37,
     "metadata": {},
     "output_type": "execute_result"
    }
   ],
   "source": [
    "X[13,2]"
   ]
  },
  {
   "cell_type": "code",
   "execution_count": 38,
   "id": "f9878076",
   "metadata": {},
   "outputs": [
    {
     "data": {
      "text/plain": [
       "tensor([ 2.9992, -1.2235])"
      ]
     },
     "execution_count": 38,
     "metadata": {},
     "output_type": "execute_result"
    }
   ],
   "source": [
    "C[X][13,2]"
   ]
  },
  {
   "cell_type": "code",
   "execution_count": 39,
   "id": "63d38498",
   "metadata": {},
   "outputs": [
    {
     "data": {
      "text/plain": [
       "tensor([ 2.9992, -1.2235])"
      ]
     },
     "execution_count": 39,
     "metadata": {},
     "output_type": "execute_result"
    }
   ],
   "source": [
    "C[1]"
   ]
  },
  {
   "cell_type": "code",
   "execution_count": 40,
   "id": "0b681c28",
   "metadata": {},
   "outputs": [
    {
     "data": {
      "text/plain": [
       "torch.Size([32, 3, 2])"
      ]
     },
     "execution_count": 40,
     "metadata": {},
     "output_type": "execute_result"
    }
   ],
   "source": [
    "# Embed everything simultaneously\n",
    "emb = C[X]\n",
    "emb.shape"
   ]
  },
  {
   "cell_type": "code",
   "execution_count": 41,
   "id": "228fa2fc",
   "metadata": {},
   "outputs": [],
   "source": [
    "# initialize the model\n",
    "W1 = torch.randn((6, 100))\n",
    "b1 = torch.randn(100)"
   ]
  },
  {
   "cell_type": "code",
   "execution_count": 42,
   "id": "79553946",
   "metadata": {},
   "outputs": [],
   "source": [
    "# How to concat the three inputs so we can multiply with W\n",
    "# Maaaany ways to achieve this "
   ]
  },
  {
   "cell_type": "markdown",
   "id": "e3356349",
   "metadata": {},
   "source": [
    "one way: https://pytorch.org/docs/stable/generated/torch.cat.html#torch.cat "
   ]
  },
  {
   "cell_type": "code",
   "execution_count": 52,
   "id": "4014bd07",
   "metadata": {},
   "outputs": [
    {
     "data": {
      "text/plain": [
       "torch.Size([32, 6])"
      ]
     },
     "execution_count": 52,
     "metadata": {},
     "output_type": "execute_result"
    }
   ],
   "source": [
    "# Manual\n",
    "torch.cat([emb[:,0,:],emb[:,1,:],emb[:,2,:],],dim=1).shape"
   ]
  },
  {
   "cell_type": "code",
   "execution_count": 53,
   "id": "5da8629b",
   "metadata": {},
   "outputs": [],
   "source": [
    "# Generalized way\n",
    "# Use unbind which removes a tensor dimension"
   ]
  },
  {
   "cell_type": "markdown",
   "id": "15362287",
   "metadata": {},
   "source": [
    "https://pytorch.org/docs/stable/generated/torch.unbind.html#torch.unbind "
   ]
  },
  {
   "cell_type": "code",
   "execution_count": 54,
   "id": "693c0505",
   "metadata": {},
   "outputs": [
    {
     "data": {
      "text/plain": [
       "(tensor([1, 2]), tensor([2, 3]))"
      ]
     },
     "execution_count": 54,
     "metadata": {},
     "output_type": "execute_result"
    }
   ],
   "source": [
    "torch.unbind(torch.tensor([[1,2],[2,3]]))"
   ]
  },
  {
   "cell_type": "code",
   "execution_count": 56,
   "id": "6a87948b",
   "metadata": {},
   "outputs": [
    {
     "data": {
      "text/plain": [
       "torch.Size([32, 2])"
      ]
     },
     "execution_count": 56,
     "metadata": {},
     "output_type": "execute_result"
    }
   ],
   "source": [
    "torch.unbind(emb,dim=1)[0].shape"
   ]
  },
  {
   "cell_type": "code",
   "execution_count": 57,
   "id": "4a080763",
   "metadata": {},
   "outputs": [
    {
     "data": {
      "text/plain": [
       "3"
      ]
     },
     "execution_count": 57,
     "metadata": {},
     "output_type": "execute_result"
    }
   ],
   "source": [
    "len(torch.unbind(emb,dim=1))"
   ]
  },
  {
   "cell_type": "code",
   "execution_count": 58,
   "id": "0ec34692",
   "metadata": {},
   "outputs": [
    {
     "data": {
      "text/plain": [
       "torch.Size([32, 3, 2])"
      ]
     },
     "execution_count": 58,
     "metadata": {},
     "output_type": "execute_result"
    }
   ],
   "source": [
    "emb = C[X]\n",
    "emb.shape"
   ]
  },
  {
   "cell_type": "code",
   "execution_count": 59,
   "id": "e41225ac",
   "metadata": {},
   "outputs": [],
   "source": [
    "emb_ = torch.unbind(emb,dim=1)"
   ]
  },
  {
   "cell_type": "code",
   "execution_count": 60,
   "id": "3a0616b6",
   "metadata": {},
   "outputs": [
    {
     "data": {
      "text/plain": [
       "(3, torch.Size([32, 2]))"
      ]
     },
     "execution_count": 60,
     "metadata": {},
     "output_type": "execute_result"
    }
   ],
   "source": [
    "len(emb_),emb_[0].shape"
   ]
  },
  {
   "cell_type": "code",
   "execution_count": 61,
   "id": "6bd5e6a4",
   "metadata": {},
   "outputs": [],
   "source": [
    "con_emb_ = torch.cat(emb_,dim=1)"
   ]
  },
  {
   "cell_type": "code",
   "execution_count": 62,
   "id": "fb746a4e",
   "metadata": {},
   "outputs": [
    {
     "data": {
      "text/plain": [
       "torch.Size([32, 6])"
      ]
     },
     "execution_count": 62,
     "metadata": {},
     "output_type": "execute_result"
    }
   ],
   "source": [
    "con_emb_.shape"
   ]
  },
  {
   "cell_type": "code",
   "execution_count": 63,
   "id": "bb344555",
   "metadata": {},
   "outputs": [
    {
     "data": {
      "text/plain": [
       "tensor([ 0,  1,  2,  3,  4,  5,  6,  7,  8,  9, 10, 11, 12, 13, 14, 15, 16, 17])"
      ]
     },
     "execution_count": 63,
     "metadata": {},
     "output_type": "execute_result"
    }
   ],
   "source": [
    "# There is actually much more efficient way of doint this\n",
    "# Without swapping memories\n",
    "a = torch.arange(18)\n",
    "a"
   ]
  },
  {
   "cell_type": "code",
   "execution_count": 64,
   "id": "35735aa8",
   "metadata": {},
   "outputs": [
    {
     "data": {
      "text/plain": [
       "torch.Size([18])"
      ]
     },
     "execution_count": 64,
     "metadata": {},
     "output_type": "execute_result"
    }
   ],
   "source": [
    "a.shape"
   ]
  },
  {
   "cell_type": "code",
   "execution_count": 65,
   "id": "697a3b93",
   "metadata": {},
   "outputs": [
    {
     "data": {
      "text/plain": [
       "tensor([[ 0,  1],\n",
       "        [ 2,  3],\n",
       "        [ 4,  5],\n",
       "        [ 6,  7],\n",
       "        [ 8,  9],\n",
       "        [10, 11],\n",
       "        [12, 13],\n",
       "        [14, 15],\n",
       "        [16, 17]])"
      ]
     },
     "execution_count": 65,
     "metadata": {},
     "output_type": "execute_result"
    }
   ],
   "source": [
    "a.view(9,2)"
   ]
  },
  {
   "cell_type": "markdown",
   "id": "d653eca1",
   "metadata": {},
   "source": [
    "Extremely efficient because the underlying storage doesn't change!! \n",
    "We are only manipulating how this sequence is interpreted so we don't make any memory operations!! see `a.storage()`.\n",
    "\n",
    "Optional reading on this: http://blog.ezyang.com/2019/05/pytorch-internals/"
   ]
  },
  {
   "cell_type": "code",
   "execution_count": 68,
   "id": "049684a9",
   "metadata": {},
   "outputs": [
    {
     "data": {
      "text/plain": [
       " 0\n",
       " 1\n",
       " 2\n",
       " 3\n",
       " 4\n",
       " 5\n",
       " 6\n",
       " 7\n",
       " 8\n",
       " 9\n",
       " 10\n",
       " 11\n",
       " 12\n",
       " 13\n",
       " 14\n",
       " 15\n",
       " 16\n",
       " 17\n",
       "[torch.storage.TypedStorage(dtype=torch.int64, device=cpu) of size 18]"
      ]
     },
     "execution_count": 68,
     "metadata": {},
     "output_type": "execute_result"
    }
   ],
   "source": [
    "a.storage()"
   ]
  },
  {
   "cell_type": "code",
   "execution_count": 69,
   "id": "9d6995f4",
   "metadata": {},
   "outputs": [
    {
     "data": {
      "text/plain": [
       "torch.Size([32, 3, 2])"
      ]
     },
     "execution_count": 69,
     "metadata": {},
     "output_type": "execute_result"
    }
   ],
   "source": [
    "emb.shape"
   ]
  },
  {
   "cell_type": "code",
   "execution_count": 71,
   "id": "67e9c97e",
   "metadata": {},
   "outputs": [
    {
     "data": {
      "text/plain": [
       "tensor([[True, True, True, True, True, True],\n",
       "        [True, True, True, True, True, True],\n",
       "        [True, True, True, True, True, True],\n",
       "        [True, True, True, True, True, True],\n",
       "        [True, True, True, True, True, True],\n",
       "        [True, True, True, True, True, True],\n",
       "        [True, True, True, True, True, True],\n",
       "        [True, True, True, True, True, True],\n",
       "        [True, True, True, True, True, True],\n",
       "        [True, True, True, True, True, True],\n",
       "        [True, True, True, True, True, True],\n",
       "        [True, True, True, True, True, True],\n",
       "        [True, True, True, True, True, True],\n",
       "        [True, True, True, True, True, True],\n",
       "        [True, True, True, True, True, True],\n",
       "        [True, True, True, True, True, True],\n",
       "        [True, True, True, True, True, True],\n",
       "        [True, True, True, True, True, True],\n",
       "        [True, True, True, True, True, True],\n",
       "        [True, True, True, True, True, True],\n",
       "        [True, True, True, True, True, True],\n",
       "        [True, True, True, True, True, True],\n",
       "        [True, True, True, True, True, True],\n",
       "        [True, True, True, True, True, True],\n",
       "        [True, True, True, True, True, True],\n",
       "        [True, True, True, True, True, True],\n",
       "        [True, True, True, True, True, True],\n",
       "        [True, True, True, True, True, True],\n",
       "        [True, True, True, True, True, True],\n",
       "        [True, True, True, True, True, True],\n",
       "        [True, True, True, True, True, True],\n",
       "        [True, True, True, True, True, True]])"
      ]
     },
     "execution_count": 71,
     "metadata": {},
     "output_type": "execute_result"
    }
   ],
   "source": [
    "emb.view(32,6) == con_emb_"
   ]
  },
  {
   "cell_type": "code",
   "execution_count": 73,
   "id": "b543b53a",
   "metadata": {},
   "outputs": [
    {
     "data": {
      "text/plain": [
       "tensor([[[ 0,  1],\n",
       "         [ 2,  3],\n",
       "         [ 4,  5],\n",
       "         [ 6,  7]],\n",
       "\n",
       "        [[ 8,  9],\n",
       "         [10, 11],\n",
       "         [12, 13],\n",
       "         [14, 15]],\n",
       "\n",
       "        [[16, 17],\n",
       "         [18, 19],\n",
       "         [20, 21],\n",
       "         [22, 23]]])"
      ]
     },
     "execution_count": 73,
     "metadata": {},
     "output_type": "execute_result"
    }
   ],
   "source": [
    "a = torch.arange(24)\n",
    "a.view(3,4,2)"
   ]
  },
  {
   "cell_type": "code",
   "execution_count": 74,
   "id": "8de27fda",
   "metadata": {},
   "outputs": [
    {
     "data": {
      "text/plain": [
       "tensor([[ 0,  1,  2,  3],\n",
       "        [ 4,  5,  6,  7],\n",
       "        [ 8,  9, 10, 11],\n",
       "        [12, 13, 14, 15],\n",
       "        [16, 17, 18, 19],\n",
       "        [20, 21, 22, 23]])"
      ]
     },
     "execution_count": 74,
     "metadata": {},
     "output_type": "execute_result"
    }
   ],
   "source": [
    "a.view(6,4)"
   ]
  },
  {
   "cell_type": "code",
   "execution_count": 75,
   "id": "b0a5f29e",
   "metadata": {},
   "outputs": [],
   "source": [
    "# alternatively you can also use -1 for the first dim\n",
    "h = emb.view(emb.shape[0],6) @ W1 +b1"
   ]
  },
  {
   "cell_type": "code",
   "execution_count": 77,
   "id": "7ac4c515",
   "metadata": {},
   "outputs": [],
   "source": [
    "h = torch.tanh(h)"
   ]
  },
  {
   "cell_type": "code",
   "execution_count": 78,
   "id": "ad41beeb",
   "metadata": {},
   "outputs": [
    {
     "data": {
      "text/plain": [
       "torch.Size([32, 100])"
      ]
     },
     "execution_count": 78,
     "metadata": {},
     "output_type": "execute_result"
    }
   ],
   "source": [
    "h.shape"
   ]
  },
  {
   "cell_type": "code",
   "execution_count": 79,
   "id": "28024387",
   "metadata": {},
   "outputs": [],
   "source": [
    "# reminder about broadcasting of b1\n",
    "# 32, 100\n",
    "# (1) 100\n",
    "# to be safe you can also declare b1 as torch.randn((1,100))"
   ]
  },
  {
   "cell_type": "code",
   "execution_count": 80,
   "id": "4be33a7f",
   "metadata": {},
   "outputs": [],
   "source": [
    "W2 = torch.randn((100,27))\n",
    "b2 = torch.randn(27)"
   ]
  },
  {
   "cell_type": "code",
   "execution_count": 81,
   "id": "357daa11",
   "metadata": {},
   "outputs": [],
   "source": [
    "logits = h@ W2 +b2"
   ]
  },
  {
   "cell_type": "code",
   "execution_count": 82,
   "id": "9899753b",
   "metadata": {},
   "outputs": [
    {
     "data": {
      "text/plain": [
       "torch.Size([32, 27])"
      ]
     },
     "execution_count": 82,
     "metadata": {},
     "output_type": "execute_result"
    }
   ],
   "source": [
    "logits.shape"
   ]
  },
  {
   "cell_type": "code",
   "execution_count": 83,
   "id": "277498f5",
   "metadata": {},
   "outputs": [],
   "source": [
    "# exponentiate to get the fake counts\n",
    "counts = logits.exp()"
   ]
  },
  {
   "cell_type": "code",
   "execution_count": 87,
   "id": "6ec8435c",
   "metadata": {},
   "outputs": [],
   "source": [
    "# another broadcasting here\n",
    "prob = counts / counts.sum(1,keepdims=True)"
   ]
  },
  {
   "cell_type": "code",
   "execution_count": 89,
   "id": "db4ef3b7",
   "metadata": {},
   "outputs": [
    {
     "data": {
      "text/plain": [
       "torch.Size([32, 27])"
      ]
     },
     "execution_count": 89,
     "metadata": {},
     "output_type": "execute_result"
    }
   ],
   "source": [
    "prob.shape"
   ]
  },
  {
   "cell_type": "code",
   "execution_count": 92,
   "id": "96d26af4",
   "metadata": {},
   "outputs": [
    {
     "data": {
      "text/plain": [
       "tensor([4.4364e-08, 4.6486e-07, 6.0307e-09, 9.3952e-12, 4.2877e-03, 4.5098e-08,\n",
       "        2.2291e-07, 2.3784e-05, 2.3665e-10, 2.0776e-06, 8.2781e-07, 4.2196e-02,\n",
       "        1.8992e-05, 2.2370e-05, 1.5717e-03, 9.9949e-06, 3.0955e-07, 9.1311e-10,\n",
       "        2.2856e-03, 2.0201e-05, 2.7432e-08, 5.1033e-16, 6.4684e-11, 7.3463e-09,\n",
       "        1.0098e-13, 3.5404e-10, 4.9650e-08, 1.1677e-10, 1.3497e-03, 2.6709e-07,\n",
       "        1.0573e-05, 6.5300e-07])"
      ]
     },
     "execution_count": 92,
     "metadata": {},
     "output_type": "execute_result"
    }
   ],
   "source": [
    "#get probs for correct continuations\n",
    "# how to index it\n",
    "prob[torch.arange(32),Y]"
   ]
  },
  {
   "cell_type": "code",
   "execution_count": 93,
   "id": "faed2283",
   "metadata": {},
   "outputs": [
    {
     "data": {
      "text/plain": [
       "tensor(15.7016)"
      ]
     },
     "execution_count": 93,
     "metadata": {},
     "output_type": "execute_result"
    }
   ],
   "source": [
    "#MLE!! negative log likelihood\n",
    "loss = -prob[torch.arange(32),Y].log().mean()\n",
    "loss"
   ]
  },
  {
   "cell_type": "code",
   "execution_count": 94,
   "id": "16a2fdcc",
   "metadata": {},
   "outputs": [
    {
     "data": {
      "text/plain": [
       "(torch.Size([32, 3]), torch.Size([32]))"
      ]
     },
     "execution_count": 94,
     "metadata": {},
     "output_type": "execute_result"
    }
   ],
   "source": [
    "# -------- putting it all together ----------------\n",
    "X.shape, Y.shape"
   ]
  },
  {
   "cell_type": "code",
   "execution_count": 100,
   "id": "12b3f075",
   "metadata": {},
   "outputs": [],
   "source": [
    "g = torch.Generator().manual_seed(2147483647)\n",
    "W1 = torch.randn((6,100))\n",
    "b1 = torch.randn(100)\n",
    "W2 = torch.randn((100,27))\n",
    "b2 = torch.randn(27)\n",
    "parameters = [C,W1,b1,W2,b2]"
   ]
  },
  {
   "cell_type": "code",
   "execution_count": 101,
   "id": "4e177918",
   "metadata": {},
   "outputs": [
    {
     "data": {
      "text/plain": [
       "3481"
      ]
     },
     "execution_count": 101,
     "metadata": {},
     "output_type": "execute_result"
    }
   ],
   "source": [
    "sum(p.nelement() for p in parameters)"
   ]
  },
  {
   "cell_type": "code",
   "execution_count": 105,
   "id": "7fe77125",
   "metadata": {},
   "outputs": [
    {
     "data": {
      "text/plain": [
       "tensor(16.8879)"
      ]
     },
     "execution_count": 105,
     "metadata": {},
     "output_type": "execute_result"
    }
   ],
   "source": [
    "# forward pass\n",
    "h = torch.tanh(C[X].view(-1,6)@ W1+b1)\n",
    "logits = h @ W2 + b2\n",
    "counts = logits.exp()\n",
    "prob = counts / counts.sum(1,keepdims=True)\n",
    "loss = -prob[torch.arange(32),Y].log().mean()\n",
    "loss"
   ]
  },
  {
   "cell_type": "markdown",
   "id": "21dace0f",
   "metadata": {},
   "source": [
    "further improve. Lets not reinvent the wheel. Since we are doing classification, we can use the pre-built cross_entropy from torch. \n",
    "\n",
    "Reference: https://pytorch.org/docs/stable/generated/torch.nn.functional.cross_entropy.html"
   ]
  },
  {
   "cell_type": "code",
   "execution_count": 106,
   "id": "90d06ffa",
   "metadata": {},
   "outputs": [
    {
     "data": {
      "text/plain": [
       "tensor(16.8879)"
      ]
     },
     "execution_count": 106,
     "metadata": {},
     "output_type": "execute_result"
    }
   ],
   "source": [
    "# Get the same thing!\n",
    "loss2 = F.cross_entropy(logits,Y)\n",
    "loss2"
   ]
  },
  {
   "cell_type": "code",
   "execution_count": 107,
   "id": "17ef84cc",
   "metadata": {},
   "outputs": [],
   "source": [
    "# forward pass\n",
    "h = torch.tanh(C[X].view(-1,6)@ W1+b1)\n",
    "logits = h @ W2 + b2\n",
    "loss = F.cross_entropy(logits,Y)"
   ]
  },
  {
   "cell_type": "markdown",
   "id": "ffbe19bc",
   "metadata": {},
   "source": [
    "Why actually always use F.cross_entropy?\n",
    "\n",
    "1. Efficiency: \n",
    "\n",
    "- PyTorch uses fused kernels for fast calculation\n",
    "- Since the expression is pre-built, pytorch knows exactly what to do on the backward step.\n",
    "- On the contrary, if we hand write the long expression, pytorch will have to make 3-4 separate backward steps.\n",
    "- This is similar to the case the we built the `_backward()` operation for `tanh()` in lecture 1. In that case the backward was single operation. we did not calculate the backward for all individual steps like `2*x` or `math.exp(.)` \n",
    "\n",
    "2. Numerically well behaved!!\n"
   ]
  },
  {
   "cell_type": "code",
   "execution_count": null,
   "id": "288b3c80",
   "metadata": {},
   "outputs": [],
   "source": [
    "# Explain 2"
   ]
  },
  {
   "cell_type": "code",
   "execution_count": 108,
   "id": "c24b5435",
   "metadata": {},
   "outputs": [],
   "source": [
    "# forward pass\n",
    "h = torch.tanh(C[X].view(-1,6)@ W1+b1)\n",
    "logits = h @ W2 + b2\n",
    "loss = F.cross_entropy(logits,Y)"
   ]
  },
  {
   "cell_type": "code",
   "execution_count": 111,
   "id": "a71daa83",
   "metadata": {},
   "outputs": [
    {
     "data": {
      "text/plain": [
       "tensor([0., 0., 0., nan])"
      ]
     },
     "execution_count": 111,
     "metadata": {},
     "output_type": "execute_result"
    }
   ],
   "source": [
    "logits = torch.tensor([-2,-3,-0,1000])\n",
    "counts = logits.exp()\n",
    "probs = counts/counts.sum()\n",
    "probs"
   ]
  },
  {
   "cell_type": "code",
   "execution_count": 113,
   "id": "3f81346a",
   "metadata": {},
   "outputs": [
    {
     "data": {
      "text/plain": [
       "tensor([0.1353, 0.0498, 1.0000,    inf])"
      ]
     },
     "execution_count": 113,
     "metadata": {},
     "output_type": "execute_result"
    }
   ],
   "source": [
    "# because e^1000 is overflowing\n",
    "counts"
   ]
  },
  {
   "cell_type": "code",
   "execution_count": 115,
   "id": "1e66fa81",
   "metadata": {},
   "outputs": [
    {
     "data": {
      "text/plain": [
       "tensor([0., 0., 0., 1.])"
      ]
     },
     "execution_count": 115,
     "metadata": {},
     "output_type": "execute_result"
    }
   ],
   "source": [
    "# subtract the max  trick for preventing overflow\n",
    "logits = torch.tensor([-5,-3,0,1000]) - 1000\n",
    "counts = logits.exp()\n",
    "probs = counts / counts.sum()\n",
    "probs"
   ]
  },
  {
   "cell_type": "code",
   "execution_count": 116,
   "id": "c068ed2d",
   "metadata": {},
   "outputs": [],
   "source": [
    "# Continue training from here"
   ]
  },
  {
   "cell_type": "code",
   "execution_count": 117,
   "id": "995f2994",
   "metadata": {},
   "outputs": [],
   "source": [
    "g = torch.Generator().manual_seed(2147483647)\n",
    "W1 = torch.randn((6,100))\n",
    "b1 = torch.randn(100)\n",
    "W2 = torch.randn((100,27))\n",
    "b2 = torch.randn(27)\n",
    "parameters = [C,W1,b1,W2,b2]"
   ]
  },
  {
   "cell_type": "code",
   "execution_count": 118,
   "id": "e34ae304",
   "metadata": {},
   "outputs": [
    {
     "data": {
      "text/plain": [
       "3481"
      ]
     },
     "execution_count": 118,
     "metadata": {},
     "output_type": "execute_result"
    }
   ],
   "source": [
    "sum(p.nelement() for p in parameters)"
   ]
  },
  {
   "cell_type": "code",
   "execution_count": 119,
   "id": "b3cecba7",
   "metadata": {},
   "outputs": [],
   "source": [
    "for p in parameters:\n",
    "    p.requires_grad= True"
   ]
  },
  {
   "cell_type": "code",
   "execution_count": 121,
   "id": "908658dc",
   "metadata": {},
   "outputs": [
    {
     "name": "stdout",
     "output_type": "stream",
     "text": [
      "0.2849053740501404\n"
     ]
    }
   ],
   "source": [
    "epoch = 100\n",
    "for _ in range(epoch):\n",
    "    # forward pass\n",
    "    emb = C[X] # shape (32,3,2)\n",
    "    h = torch.tanh(emb.view(-1,6) @ W1+b1)\n",
    "    logits = h @ W2 + b2\n",
    "    loss = F.cross_entropy(logits,Y)\n",
    "\n",
    "    #backward pass\n",
    "    for p in parameters:\n",
    "        p.grad = None\n",
    "    loss.backward()\n",
    "    #update\n",
    "    for p in parameters:\n",
    "        p.data += -0.1 * p.grad\n",
    "print(loss.item())"
   ]
  },
  {
   "cell_type": "markdown",
   "id": "4a266006",
   "metadata": {},
   "source": [
    "Loss is super low because we are overfitting to 32 samples!! We have 3481 params to fit 32 samples"
   ]
  },
  {
   "cell_type": "markdown",
   "id": "36b53fd5",
   "metadata": {},
   "source": [
    "Go over why it is not zero? Because there are some ambiguous cases such as \"...\" -> \"e\" or \"o\".\n",
    "\n",
    "We could only overfit to cases where there is one single answer!!"
   ]
  },
  {
   "cell_type": "code",
   "execution_count": 124,
   "id": "1bac73e6",
   "metadata": {},
   "outputs": [
    {
     "data": {
      "text/plain": [
       "torch.return_types.max(\n",
       "values=tensor([ 8.6770, 13.5366, 12.1110, 12.9143, 16.6655,  8.6770, 14.2060, 13.1895,\n",
       "        11.1739, 13.4428, 15.1191, 20.6045,  8.6770, 14.8853, 10.4620, 15.5376,\n",
       "         8.6770, 12.6185, 14.6243, 14.3542, 13.2918, 15.6934, 13.5731, 16.5784,\n",
       "        18.7177,  8.6770, 14.3525, 14.5067, 18.2000, 12.0925, 17.6595, 18.2331],\n",
       "       grad_fn=<MaxBackward0>),\n",
       "indices=tensor([19, 13, 13,  1,  0, 19, 12,  9, 22,  9,  1,  0, 19, 22,  1,  0, 19, 19,\n",
       "         1,  2,  5, 12, 12,  1,  0, 19, 15, 16,  8,  9,  1,  0]))"
      ]
     },
     "execution_count": 124,
     "metadata": {},
     "output_type": "execute_result"
    }
   ],
   "source": [
    "logits.max(1)"
   ]
  },
  {
   "cell_type": "code",
   "execution_count": 125,
   "id": "fc7c66c1",
   "metadata": {},
   "outputs": [
    {
     "data": {
      "text/plain": [
       "tensor([ 5, 13, 13,  1,  0, 15, 12,  9, 22,  9,  1,  0,  1, 22,  1,  0,  9, 19,\n",
       "         1,  2,  5, 12, 12,  1,  0, 19, 15, 16,  8,  9,  1,  0])"
      ]
     },
     "execution_count": 125,
     "metadata": {},
     "output_type": "execute_result"
    }
   ],
   "source": [
    "Y"
   ]
  },
  {
   "cell_type": "markdown",
   "id": "58c34893",
   "metadata": {},
   "source": [
    "### Let's fit the whole dataset!"
   ]
  },
  {
   "cell_type": "code",
   "execution_count": 137,
   "id": "12c94624",
   "metadata": {},
   "outputs": [],
   "source": [
    "block_size = 3 # context length\n",
    "\n",
    "X,Y = [], []\n",
    "for w in words:\n",
    "    \n",
    "    context = [0]*block_size\n",
    "    for ch in w + '.':\n",
    "        ix = stoi[ch]\n",
    "        X.append(context)\n",
    "        Y.append(ix)\n",
    "        context = context[1:] + [ix] # crop and append\n",
    "        \n",
    "X = torch.tensor(X)\n",
    "Y = torch.tensor(Y)"
   ]
  },
  {
   "cell_type": "code",
   "execution_count": 138,
   "id": "62723243",
   "metadata": {},
   "outputs": [
    {
     "data": {
      "text/plain": [
       "(torch.Size([228146, 3]), torch.Size([228146]))"
      ]
     },
     "execution_count": 138,
     "metadata": {},
     "output_type": "execute_result"
    }
   ],
   "source": [
    "X.shape, Y.shape"
   ]
  },
  {
   "cell_type": "code",
   "execution_count": 141,
   "id": "0fd0b0f4",
   "metadata": {},
   "outputs": [],
   "source": [
    "g = torch.Generator().manual_seed(2147483647)\n",
    "W1 = torch.randn((6,100))\n",
    "b1 = torch.randn(100)\n",
    "W2 = torch.randn((100,27))\n",
    "b2 = torch.randn(27)\n",
    "parameters = [C,W1,b1,W2,b2]"
   ]
  },
  {
   "cell_type": "code",
   "execution_count": 142,
   "id": "404b6cf4",
   "metadata": {},
   "outputs": [],
   "source": [
    "for p in parameters:\n",
    "    p.requires_grad= True"
   ]
  },
  {
   "cell_type": "code",
   "execution_count": 136,
   "id": "a049b1c2",
   "metadata": {},
   "outputs": [
    {
     "name": "stdout",
     "output_type": "stream",
     "text": [
      "16.261137008666992\n",
      "14.354217529296875\n",
      "13.208730697631836\n",
      "12.27278995513916\n",
      "11.476091384887695\n",
      "10.803886413574219\n",
      "10.234297752380371\n",
      "9.751381874084473\n",
      "9.338600158691406\n",
      "8.974411010742188\n"
     ]
    }
   ],
   "source": [
    "epoch = 10\n",
    "for _ in range(epoch):\n",
    "    # forward pass\n",
    "    emb = C[X] # \n",
    "    h = torch.tanh(emb.view(-1,6) @ W1+b1)\n",
    "    logits = h @ W2 + b2\n",
    "    loss = F.cross_entropy(logits,Y)\n",
    "    print(loss.item())\n",
    "    #backward pass\n",
    "    for p in parameters:\n",
    "        p.grad = None\n",
    "    loss.backward()\n",
    "    #update\n",
    "    for p in parameters:\n",
    "        p.data += -0.1 * p.grad\n"
   ]
  },
  {
   "cell_type": "markdown",
   "id": "617dfbd1",
   "metadata": {},
   "source": [
    "#### Each pass is taking super long. Let's fix that by using mini-batch GD"
   ]
  },
  {
   "cell_type": "code",
   "execution_count": 138,
   "id": "962a8a24",
   "metadata": {},
   "outputs": [
    {
     "data": {
      "text/plain": [
       "tensor([ 16484, 106304, 205810,  72380,  25389, 216832,  46905,   2905, 142763,\n",
       "        119890,  12897,  95169, 136946, 128679,  97235,  52561,  97842, 217865,\n",
       "           298,  62415, 106205, 122780, 160425, 221446, 155054,  43179,  32255,\n",
       "        225916, 201485,  64244, 116188, 127472])"
      ]
     },
     "execution_count": 138,
     "metadata": {},
     "output_type": "execute_result"
    }
   ],
   "source": [
    "torch.randint(0,X.shape[0],(32,))"
   ]
  },
  {
   "cell_type": "code",
   "execution_count": 139,
   "id": "5fff04b3",
   "metadata": {},
   "outputs": [],
   "source": [
    "ixs = torch.randint(0,X.shape[0],(32,))"
   ]
  },
  {
   "cell_type": "code",
   "execution_count": 143,
   "id": "8a3cb883",
   "metadata": {},
   "outputs": [
    {
     "data": {
      "text/plain": [
       "torch.Size([32])"
      ]
     },
     "execution_count": 143,
     "metadata": {},
     "output_type": "execute_result"
    }
   ],
   "source": [
    "ixs.shape"
   ]
  },
  {
   "cell_type": "code",
   "execution_count": 145,
   "id": "f44edb0d",
   "metadata": {},
   "outputs": [],
   "source": [
    "mini_batch = C[X[ixs,:]]"
   ]
  },
  {
   "cell_type": "code",
   "execution_count": 146,
   "id": "2e8af45c",
   "metadata": {},
   "outputs": [
    {
     "data": {
      "text/plain": [
       "torch.Size([32, 3, 2])"
      ]
     },
     "execution_count": 146,
     "metadata": {},
     "output_type": "execute_result"
    }
   ],
   "source": [
    "mini_batch.shape"
   ]
  },
  {
   "cell_type": "code",
   "execution_count": 149,
   "id": "fdc3c842",
   "metadata": {},
   "outputs": [
    {
     "data": {
      "text/plain": [
       "torch.Size([32])"
      ]
     },
     "execution_count": 149,
     "metadata": {},
     "output_type": "execute_result"
    }
   ],
   "source": [
    "Y[ixs].shape"
   ]
  },
  {
   "cell_type": "code",
   "execution_count": 143,
   "id": "f7b632e1",
   "metadata": {},
   "outputs": [
    {
     "name": "stdout",
     "output_type": "stream",
     "text": [
      "17.66386604309082\n",
      "16.80512046813965\n",
      "14.54172420501709\n",
      "16.965679168701172\n",
      "14.482089042663574\n",
      "13.866053581237793\n",
      "15.381904602050781\n",
      "14.528257369995117\n",
      "16.104402542114258\n",
      "15.2438383102417\n",
      "15.150202751159668\n",
      "14.86290168762207\n",
      "16.770986557006836\n",
      "15.984189987182617\n",
      "17.569469451904297\n",
      "17.20720100402832\n",
      "17.67346954345703\n",
      "17.00666046142578\n",
      "18.211076736450195\n",
      "16.926029205322266\n",
      "15.183862686157227\n",
      "15.703333854675293\n",
      "16.09029769897461\n",
      "15.9874267578125\n",
      "14.462736129760742\n",
      "17.46344566345215\n",
      "16.339752197265625\n",
      "15.467147827148438\n",
      "16.498010635375977\n",
      "15.533029556274414\n",
      "14.210094451904297\n",
      "16.04230499267578\n",
      "16.50210189819336\n",
      "15.29912281036377\n",
      "14.606714248657227\n",
      "13.556679725646973\n",
      "16.71527671813965\n",
      "18.471139907836914\n",
      "17.770780563354492\n",
      "15.8822021484375\n",
      "15.6151762008667\n",
      "14.615019798278809\n",
      "17.767473220825195\n",
      "15.124529838562012\n",
      "15.287827491760254\n",
      "14.83635139465332\n",
      "15.445048332214355\n",
      "16.588775634765625\n",
      "16.365819931030273\n",
      "18.2918643951416\n",
      "16.30055046081543\n",
      "17.702749252319336\n",
      "15.829741477966309\n",
      "17.26885414123535\n",
      "15.46982479095459\n",
      "17.62657928466797\n",
      "16.180805206298828\n",
      "17.03679084777832\n",
      "17.769224166870117\n",
      "17.550086975097656\n",
      "18.208608627319336\n",
      "15.103398323059082\n",
      "13.521224021911621\n",
      "16.509525299072266\n",
      "18.14450454711914\n",
      "16.785022735595703\n",
      "15.520075798034668\n",
      "14.922189712524414\n",
      "18.422893524169922\n",
      "14.913581848144531\n",
      "16.343351364135742\n",
      "16.15606689453125\n",
      "15.493406295776367\n",
      "16.60373878479004\n",
      "16.989797592163086\n",
      "15.017641067504883\n",
      "15.100790977478027\n",
      "16.716075897216797\n",
      "14.137527465820312\n",
      "18.406538009643555\n",
      "17.61903953552246\n",
      "14.945555686950684\n",
      "14.778594017028809\n",
      "17.83794593811035\n",
      "17.5674991607666\n",
      "14.92607593536377\n",
      "16.367446899414062\n",
      "14.230802536010742\n",
      "15.394211769104004\n",
      "15.575614929199219\n",
      "15.311424255371094\n",
      "14.688569068908691\n",
      "16.127933502197266\n",
      "14.453714370727539\n",
      "14.22185230255127\n",
      "15.807016372680664\n",
      "14.88661003112793\n",
      "16.703224182128906\n",
      "18.795988082885742\n",
      "16.500333786010742\n",
      "16.90620231628418\n",
      "15.167367935180664\n",
      "16.58053970336914\n",
      "14.02656078338623\n",
      "18.501739501953125\n",
      "15.459648132324219\n",
      "17.702810287475586\n",
      "15.527256965637207\n",
      "17.063385009765625\n",
      "15.900362968444824\n",
      "17.938081741333008\n",
      "16.319198608398438\n",
      "16.652841567993164\n",
      "13.94896411895752\n",
      "13.690056800842285\n",
      "16.63943099975586\n",
      "15.247961044311523\n",
      "16.206096649169922\n",
      "16.845857620239258\n",
      "16.456684112548828\n",
      "16.949251174926758\n",
      "16.02824592590332\n",
      "16.117006301879883\n",
      "13.981721878051758\n",
      "14.218896865844727\n",
      "14.294672966003418\n",
      "17.10240364074707\n",
      "16.093730926513672\n",
      "14.813054084777832\n",
      "14.79873275756836\n",
      "14.556008338928223\n",
      "15.637730598449707\n",
      "14.536689758300781\n",
      "18.814428329467773\n",
      "17.098608016967773\n",
      "17.305639266967773\n",
      "15.35075569152832\n",
      "15.217652320861816\n",
      "16.304122924804688\n",
      "16.2274169921875\n",
      "13.804131507873535\n",
      "16.203475952148438\n",
      "16.18583869934082\n",
      "15.852994918823242\n",
      "16.86968231201172\n",
      "16.488527297973633\n",
      "17.04836654663086\n",
      "14.73826789855957\n",
      "13.948991775512695\n",
      "14.655984878540039\n",
      "16.966718673706055\n",
      "13.825486183166504\n",
      "15.369470596313477\n",
      "15.441972732543945\n",
      "17.405494689941406\n",
      "16.141611099243164\n",
      "17.926063537597656\n",
      "15.864960670471191\n",
      "12.967212677001953\n",
      "18.392253875732422\n",
      "17.821670532226562\n",
      "17.74009132385254\n",
      "14.825629234313965\n",
      "15.512874603271484\n",
      "17.231977462768555\n",
      "16.614078521728516\n",
      "15.30491828918457\n",
      "15.903766632080078\n",
      "17.26310157775879\n",
      "13.899075508117676\n",
      "16.53995132446289\n",
      "16.494186401367188\n",
      "15.703666687011719\n",
      "16.37702178955078\n",
      "15.216015815734863\n",
      "17.050701141357422\n",
      "16.180362701416016\n",
      "16.897727966308594\n",
      "14.846920013427734\n",
      "14.588214874267578\n",
      "18.610828399658203\n",
      "17.256574630737305\n",
      "16.83763885498047\n",
      "14.995518684387207\n",
      "16.708690643310547\n",
      "17.302661895751953\n",
      "16.22650909423828\n",
      "17.360031127929688\n",
      "17.116559982299805\n",
      "17.026737213134766\n",
      "17.731163024902344\n",
      "16.905620574951172\n",
      "16.49074935913086\n",
      "14.219017028808594\n",
      "15.483689308166504\n",
      "14.894962310791016\n",
      "16.151472091674805\n",
      "15.74321174621582\n",
      "18.44824981689453\n",
      "17.644393920898438\n",
      "15.478425979614258\n",
      "16.189029693603516\n",
      "15.3696870803833\n",
      "14.858046531677246\n",
      "18.034626007080078\n",
      "14.952648162841797\n",
      "15.445110321044922\n",
      "16.2141056060791\n",
      "15.393281936645508\n",
      "16.35083770751953\n",
      "19.297161102294922\n",
      "18.500120162963867\n",
      "14.201835632324219\n",
      "15.439665794372559\n",
      "16.420682907104492\n",
      "15.678449630737305\n",
      "16.816930770874023\n",
      "14.756057739257812\n",
      "15.453497886657715\n",
      "16.660634994506836\n",
      "14.600048065185547\n",
      "14.69910717010498\n",
      "15.633360862731934\n",
      "17.46652603149414\n",
      "15.597304344177246\n",
      "18.04790496826172\n",
      "15.522865295410156\n",
      "15.7000732421875\n",
      "15.848005294799805\n",
      "15.380764961242676\n",
      "16.098960876464844\n",
      "17.651906967163086\n",
      "18.06841468811035\n",
      "17.68665885925293\n",
      "13.746983528137207\n",
      "16.858654022216797\n",
      "16.243980407714844\n",
      "16.322086334228516\n",
      "15.672893524169922\n",
      "13.876168251037598\n",
      "17.728862762451172\n",
      "17.52089500427246\n",
      "18.714683532714844\n",
      "17.5530948638916\n",
      "12.348276138305664\n",
      "16.334531784057617\n",
      "16.389972686767578\n",
      "15.346826553344727\n",
      "13.384121894836426\n",
      "15.11477279663086\n",
      "16.126937866210938\n",
      "15.389114379882812\n",
      "16.10783576965332\n",
      "18.465965270996094\n",
      "15.415201187133789\n",
      "15.640453338623047\n",
      "15.709454536437988\n",
      "16.851320266723633\n",
      "16.9515323638916\n",
      "17.479143142700195\n",
      "19.537376403808594\n",
      "17.23372459411621\n",
      "15.61102294921875\n",
      "15.936094284057617\n",
      "18.38752555847168\n",
      "15.399374008178711\n",
      "16.470998764038086\n",
      "17.486854553222656\n",
      "15.4253568649292\n",
      "17.723121643066406\n",
      "14.556686401367188\n",
      "14.974014282226562\n",
      "16.94625473022461\n",
      "16.684560775756836\n",
      "15.813556671142578\n",
      "14.917404174804688\n",
      "15.779580116271973\n",
      "17.002704620361328\n",
      "15.002619743347168\n",
      "15.359189987182617\n",
      "15.6764554977417\n",
      "18.185213088989258\n",
      "15.690190315246582\n",
      "15.49404525756836\n",
      "17.075551986694336\n",
      "17.27460289001465\n",
      "15.819860458374023\n",
      "15.84318733215332\n",
      "16.10499382019043\n",
      "16.440471649169922\n",
      "15.758703231811523\n",
      "16.396488189697266\n",
      "15.90181827545166\n",
      "15.873649597167969\n",
      "16.696956634521484\n",
      "14.71118450164795\n",
      "17.024986267089844\n",
      "18.16529083251953\n",
      "15.954549789428711\n",
      "14.479536056518555\n",
      "15.79705810546875\n",
      "15.521943092346191\n",
      "16.968412399291992\n",
      "15.360834121704102\n",
      "16.011661529541016\n",
      "13.829158782958984\n",
      "13.231654167175293\n",
      "18.036603927612305\n",
      "16.89740562438965\n",
      "15.948671340942383\n",
      "15.401249885559082\n",
      "15.75819206237793\n",
      "17.067855834960938\n",
      "18.05760383605957\n",
      "14.763195037841797\n",
      "15.64600944519043\n",
      "15.349120140075684\n",
      "15.635557174682617\n",
      "12.920099258422852\n",
      "15.610164642333984\n",
      "16.334396362304688\n",
      "14.739562034606934\n",
      "15.094305038452148\n",
      "15.782033920288086\n",
      "17.793392181396484\n",
      "15.626293182373047\n",
      "15.149141311645508\n",
      "15.684550285339355\n",
      "15.77538776397705\n",
      "15.16024398803711\n",
      "15.91016960144043\n",
      "16.428787231445312\n",
      "16.089582443237305\n",
      "16.60890769958496\n",
      "16.85090446472168\n",
      "17.779010772705078\n",
      "16.2371826171875\n",
      "16.28234100341797\n",
      "17.551794052124023\n",
      "15.564695358276367\n",
      "17.054636001586914\n",
      "14.625958442687988\n",
      "16.374488830566406\n",
      "18.01047134399414\n",
      "14.838705062866211\n",
      "15.064945220947266\n",
      "15.316243171691895\n",
      "15.256377220153809\n",
      "15.035249710083008\n",
      "15.421770095825195\n",
      "16.23647117614746\n",
      "18.184507369995117\n",
      "17.056777954101562\n",
      "17.23568344116211\n",
      "17.12751007080078\n",
      "16.1595458984375\n",
      "15.626416206359863\n",
      "18.1781005859375\n",
      "15.074438095092773\n",
      "16.83308982849121\n",
      "16.04785919189453\n",
      "17.742717742919922\n",
      "14.267171859741211\n",
      "18.750288009643555\n",
      "19.812864303588867\n",
      "17.82084083557129\n",
      "15.816892623901367\n",
      "16.846830368041992\n",
      "15.153658866882324\n",
      "15.088851928710938\n",
      "16.620834350585938\n",
      "18.081256866455078\n",
      "15.347705841064453\n",
      "17.401535034179688\n",
      "15.394775390625\n",
      "15.191328048706055\n",
      "13.915252685546875\n",
      "15.388891220092773\n",
      "14.719290733337402\n",
      "14.481411933898926\n",
      "16.950063705444336\n",
      "18.760595321655273\n",
      "14.045978546142578\n",
      "12.240694999694824\n",
      "16.8669490814209\n",
      "17.517969131469727\n",
      "14.862491607666016\n",
      "14.795947074890137\n",
      "16.254924774169922\n",
      "17.35993003845215\n",
      "13.920448303222656\n",
      "15.86718463897705\n",
      "16.68760871887207\n",
      "15.304122924804688\n",
      "17.382265090942383\n",
      "15.897730827331543\n",
      "14.195693969726562\n",
      "18.581016540527344\n",
      "16.098453521728516\n",
      "14.856863975524902\n",
      "15.396195411682129\n",
      "16.033716201782227\n",
      "19.274587631225586\n",
      "16.096988677978516\n",
      "16.235963821411133\n",
      "15.496681213378906\n",
      "17.297096252441406\n",
      "17.14359474182129\n",
      "13.943410873413086\n",
      "15.43333625793457\n",
      "14.974364280700684\n",
      "17.13763427734375\n",
      "14.7108736038208\n",
      "18.389326095581055\n",
      "14.715944290161133\n",
      "15.843432426452637\n",
      "17.446210861206055\n",
      "16.82978630065918\n",
      "15.231062889099121\n",
      "16.284847259521484\n",
      "18.148115158081055\n",
      "14.948274612426758\n",
      "15.546801567077637\n",
      "18.17066192626953\n",
      "15.800658226013184\n",
      "18.366470336914062\n",
      "15.048359870910645\n",
      "17.92312240600586\n",
      "14.6119384765625\n",
      "17.84373664855957\n",
      "16.422786712646484\n",
      "19.45840835571289\n",
      "17.834569931030273\n",
      "16.34619140625\n",
      "14.78273868560791\n",
      "15.914725303649902\n",
      "16.04677963256836\n",
      "16.433025360107422\n",
      "14.968537330627441\n",
      "15.221870422363281\n",
      "17.136869430541992\n",
      "16.313247680664062\n",
      "15.29454517364502\n",
      "14.43508243560791\n",
      "16.872129440307617\n",
      "14.0785493850708\n",
      "17.106040954589844\n",
      "16.068208694458008\n",
      "17.33487892150879\n",
      "15.985486030578613\n",
      "14.101688385009766\n",
      "13.85794734954834\n",
      "16.306428909301758\n",
      "19.066049575805664\n",
      "16.294639587402344\n",
      "13.868799209594727\n",
      "17.42784309387207\n",
      "15.992307662963867\n",
      "14.176624298095703\n",
      "14.694721221923828\n",
      "16.942485809326172\n",
      "13.797359466552734\n",
      "16.544422149658203\n",
      "14.368706703186035\n",
      "16.33404541015625\n",
      "15.880058288574219\n",
      "16.001256942749023\n",
      "14.831324577331543\n",
      "16.41280746459961\n",
      "17.571348190307617\n",
      "14.816305160522461\n",
      "17.229764938354492\n",
      "17.462383270263672\n",
      "15.065185546875\n",
      "18.248273849487305\n",
      "16.845199584960938\n",
      "14.67917251586914\n",
      "15.4118013381958\n",
      "19.621614456176758\n",
      "16.42070198059082\n",
      "16.142826080322266\n",
      "16.948287963867188\n",
      "15.735235214233398\n",
      "17.852230072021484\n",
      "16.426734924316406\n",
      "18.903553009033203\n",
      "13.48434066772461\n",
      "16.982332229614258\n",
      "17.513784408569336\n",
      "14.939857482910156\n",
      "16.36454963684082\n",
      "18.69413948059082\n",
      "14.767142295837402\n",
      "16.139286041259766\n",
      "17.60236358642578\n",
      "17.40000343322754\n",
      "17.013776779174805\n",
      "18.679365158081055\n",
      "15.649599075317383\n",
      "16.876676559448242\n",
      "17.091840744018555\n",
      "16.503408432006836\n",
      "16.543716430664062\n",
      "17.22207260131836\n",
      "15.632814407348633\n",
      "16.933717727661133\n",
      "16.96460723876953\n",
      "17.748294830322266\n",
      "15.886518478393555\n",
      "15.712065696716309\n",
      "15.662211418151855\n",
      "19.269533157348633\n",
      "16.873008728027344\n",
      "16.83495330810547\n",
      "15.087323188781738\n",
      "13.888279914855957\n",
      "15.836310386657715\n",
      "15.276684761047363\n",
      "15.10849380493164\n",
      "14.748867988586426\n",
      "15.351469993591309\n",
      "16.267911911010742\n",
      "15.452940940856934\n",
      "14.041053771972656\n",
      "14.240432739257812\n",
      "15.599705696105957\n",
      "15.64448070526123\n",
      "17.26852035522461\n",
      "16.740297317504883\n",
      "15.680326461791992\n",
      "16.802669525146484\n",
      "15.068192481994629\n",
      "16.864742279052734\n",
      "16.082096099853516\n",
      "15.827099800109863\n",
      "16.14140510559082\n",
      "16.60385513305664\n",
      "18.76527214050293\n",
      "15.374369621276855\n",
      "15.772993087768555\n",
      "16.142629623413086\n",
      "15.853032112121582\n",
      "17.675188064575195\n",
      "14.633100509643555\n",
      "13.787522315979004\n",
      "18.1105899810791\n",
      "14.36793041229248\n",
      "13.767084121704102\n",
      "15.61783504486084\n",
      "14.332725524902344\n",
      "15.441991806030273\n",
      "19.14640998840332\n",
      "15.813286781311035\n",
      "17.165231704711914\n",
      "17.21749496459961\n",
      "13.991930961608887\n",
      "14.77680778503418\n",
      "14.81411075592041\n",
      "17.73457908630371\n",
      "15.021392822265625\n",
      "17.231887817382812\n",
      "15.584298133850098\n",
      "17.457307815551758\n",
      "17.002843856811523\n",
      "14.727557182312012\n",
      "16.331981658935547\n",
      "16.891557693481445\n",
      "17.66067886352539\n",
      "16.48045539855957\n",
      "15.78506088256836\n",
      "16.932279586791992\n",
      "19.095125198364258\n",
      "15.788204193115234\n",
      "17.401498794555664\n",
      "16.426542282104492\n",
      "17.77732276916504\n",
      "17.276939392089844\n",
      "17.276042938232422\n",
      "14.870368003845215\n",
      "17.432313919067383\n",
      "16.207494735717773\n",
      "18.49266242980957\n",
      "17.462121963500977\n",
      "13.32829761505127\n",
      "15.178445816040039\n",
      "14.852710723876953\n",
      "15.918390274047852\n",
      "16.11256217956543\n",
      "15.323220252990723\n",
      "15.526006698608398\n",
      "14.545890808105469\n",
      "19.017833709716797\n",
      "15.288036346435547\n",
      "15.070293426513672\n",
      "16.542625427246094\n",
      "15.083374977111816\n",
      "16.546205520629883\n",
      "16.60869598388672\n",
      "14.832935333251953\n",
      "14.982542991638184\n",
      "16.983057022094727\n",
      "16.663829803466797\n",
      "12.428352355957031\n",
      "15.45277214050293\n",
      "17.46610450744629\n",
      "15.41246223449707\n",
      "16.220426559448242\n",
      "16.880069732666016\n",
      "18.33032989501953\n",
      "16.32652473449707\n",
      "17.262659072875977\n",
      "15.048653602600098\n",
      "15.360950469970703\n",
      "15.95108699798584\n",
      "16.348739624023438\n",
      "14.90552043914795\n",
      "13.999156951904297\n",
      "17.02222442626953\n",
      "15.51559066772461\n",
      "18.375591278076172\n",
      "16.936283111572266\n",
      "13.641743659973145\n",
      "15.007975578308105\n",
      "13.892888069152832\n",
      "17.464929580688477\n",
      "14.041587829589844\n",
      "15.830881118774414\n",
      "14.61962890625\n",
      "18.118404388427734\n",
      "16.039051055908203\n",
      "16.87131690979004\n",
      "16.247791290283203\n",
      "18.97631072998047\n",
      "16.895732879638672\n",
      "16.36640167236328\n",
      "15.586329460144043\n",
      "16.138832092285156\n",
      "17.13414192199707\n",
      "19.055620193481445\n",
      "15.869050025939941\n",
      "17.068723678588867\n",
      "15.948037147521973\n",
      "16.749319076538086\n",
      "16.202001571655273\n",
      "16.147018432617188\n",
      "17.18785858154297\n",
      "16.572328567504883\n",
      "14.362078666687012\n",
      "15.339766502380371\n",
      "17.2769832611084\n",
      "15.781209945678711\n",
      "17.01727867126465\n",
      "17.871553421020508\n",
      "16.149581909179688\n",
      "15.648150444030762\n",
      "16.222023010253906\n",
      "14.68747615814209\n",
      "14.981369018554688\n",
      "16.80973243713379\n",
      "15.901164054870605\n",
      "15.4552001953125\n",
      "14.984704971313477\n",
      "17.50033187866211\n",
      "16.028968811035156\n",
      "16.225051879882812\n",
      "17.623546600341797\n",
      "15.171895980834961\n",
      "16.815032958984375\n",
      "15.499399185180664\n",
      "15.204320907592773\n",
      "16.132923126220703\n",
      "17.265729904174805\n",
      "17.229585647583008\n",
      "18.65726661682129\n",
      "14.769858360290527\n",
      "15.128055572509766\n",
      "15.580151557922363\n",
      "16.204587936401367\n",
      "15.243230819702148\n",
      "15.818721771240234\n",
      "16.6181697845459\n",
      "17.069543838500977\n",
      "16.46619415283203\n",
      "18.03377342224121\n",
      "19.958003997802734\n",
      "15.161125183105469\n",
      "16.663652420043945\n",
      "15.585206985473633\n",
      "17.080129623413086\n",
      "18.747562408447266\n",
      "15.311923027038574\n",
      "14.792716026306152\n",
      "14.552826881408691\n",
      "17.478872299194336\n",
      "15.966035842895508\n",
      "17.2026424407959\n",
      "15.34375\n",
      "16.16670799255371\n",
      "20.299936294555664\n",
      "14.534017562866211\n",
      "16.945894241333008\n",
      "12.842931747436523\n",
      "17.274904251098633\n",
      "17.291894912719727\n",
      "17.16877555847168\n",
      "13.89181900024414\n",
      "17.944934844970703\n",
      "16.521408081054688\n",
      "12.477964401245117\n",
      "15.599071502685547\n",
      "17.653839111328125\n",
      "13.737189292907715\n",
      "17.72037696838379\n",
      "18.516895294189453\n",
      "18.659971237182617\n",
      "15.865486145019531\n",
      "17.645416259765625\n",
      "16.489418029785156\n",
      "18.3278865814209\n",
      "17.76769256591797\n",
      "15.157121658325195\n",
      "15.195088386535645\n",
      "15.657695770263672\n",
      "15.833308219909668\n",
      "16.309213638305664\n",
      "13.798222541809082\n",
      "14.230966567993164\n",
      "15.859613418579102\n",
      "16.87749481201172\n",
      "13.764985084533691\n",
      "16.501893997192383\n",
      "16.57025146484375\n",
      "15.302224159240723\n",
      "16.568954467773438\n",
      "19.766847610473633\n",
      "15.298584938049316\n",
      "17.185436248779297\n",
      "18.174495697021484\n",
      "18.779132843017578\n",
      "17.53049659729004\n",
      "16.409969329833984\n",
      "16.680784225463867\n",
      "14.115251541137695\n",
      "15.959490776062012\n",
      "14.056544303894043\n",
      "16.95650863647461\n",
      "15.708358764648438\n",
      "16.25539779663086\n",
      "17.556032180786133\n",
      "14.96162223815918\n",
      "16.038375854492188\n",
      "18.081912994384766\n",
      "15.274587631225586\n",
      "14.494925498962402\n",
      "14.498345375061035\n",
      "17.718191146850586\n",
      "16.536285400390625\n",
      "15.733491897583008\n",
      "17.568603515625\n",
      "16.07670783996582\n",
      "14.614496231079102\n",
      "15.259001731872559\n",
      "15.908645629882812\n",
      "16.614376068115234\n",
      "14.496969223022461\n",
      "17.57469367980957\n",
      "17.03719139099121\n",
      "16.438108444213867\n",
      "16.284603118896484\n",
      "17.92145538330078\n",
      "15.637808799743652\n",
      "14.853982925415039\n",
      "16.421100616455078\n",
      "16.715038299560547\n",
      "18.26256561279297\n",
      "15.327392578125\n",
      "17.232566833496094\n",
      "16.337810516357422\n",
      "13.62279987335205\n",
      "15.124603271484375\n",
      "17.371986389160156\n",
      "18.25592803955078\n",
      "17.673139572143555\n",
      "16.82008171081543\n",
      "13.705727577209473\n",
      "16.152544021606445\n",
      "18.52413558959961\n",
      "17.338729858398438\n",
      "17.491880416870117\n",
      "18.037784576416016\n"
     ]
    },
    {
     "name": "stdout",
     "output_type": "stream",
     "text": [
      "15.055113792419434\n",
      "15.641276359558105\n",
      "15.931047439575195\n",
      "14.513070106506348\n",
      "16.693166732788086\n",
      "14.548978805541992\n",
      "13.662196159362793\n",
      "17.36322021484375\n",
      "13.224447250366211\n",
      "17.478801727294922\n",
      "16.160388946533203\n",
      "15.632970809936523\n",
      "17.263004302978516\n",
      "17.63387680053711\n",
      "17.151363372802734\n",
      "14.720176696777344\n",
      "16.086929321289062\n",
      "16.753477096557617\n",
      "15.57166862487793\n",
      "16.26546859741211\n",
      "14.791975021362305\n",
      "15.872758865356445\n",
      "14.801918983459473\n",
      "15.614578247070312\n",
      "18.40225601196289\n",
      "15.828181266784668\n",
      "13.827869415283203\n",
      "15.59959602355957\n",
      "14.592323303222656\n",
      "15.301985740661621\n",
      "18.7618350982666\n",
      "13.425053596496582\n",
      "15.493484497070312\n",
      "16.73249626159668\n",
      "13.985276222229004\n",
      "14.403385162353516\n",
      "17.60594940185547\n",
      "14.08462905883789\n",
      "16.479965209960938\n",
      "15.071918487548828\n",
      "16.981258392333984\n",
      "20.263578414916992\n",
      "15.928483009338379\n",
      "17.033985137939453\n",
      "17.715347290039062\n",
      "16.714672088623047\n",
      "18.17347526550293\n",
      "14.574380874633789\n",
      "18.52037239074707\n",
      "16.152790069580078\n",
      "16.149118423461914\n",
      "16.650466918945312\n",
      "16.280426025390625\n",
      "17.17452621459961\n",
      "17.216806411743164\n",
      "17.07927894592285\n",
      "16.645559310913086\n",
      "18.256122589111328\n",
      "16.614168167114258\n",
      "15.359095573425293\n",
      "14.300332069396973\n",
      "16.583621978759766\n",
      "15.650078773498535\n",
      "16.247451782226562\n",
      "16.719846725463867\n",
      "15.429523468017578\n",
      "15.058634757995605\n",
      "17.35514259338379\n",
      "17.856842041015625\n",
      "15.24221420288086\n",
      "16.203718185424805\n",
      "15.010323524475098\n",
      "16.69843292236328\n",
      "15.301907539367676\n",
      "16.63640785217285\n",
      "16.907390594482422\n",
      "15.077173233032227\n",
      "14.745172500610352\n",
      "17.097576141357422\n",
      "14.888590812683105\n",
      "15.095809936523438\n",
      "15.72400951385498\n",
      "18.28736114501953\n",
      "18.16035270690918\n",
      "15.29149055480957\n",
      "16.713459014892578\n",
      "15.469791412353516\n",
      "16.570276260375977\n",
      "16.49659538269043\n",
      "17.25026512145996\n",
      "17.66329574584961\n",
      "17.553878784179688\n",
      "16.57355308532715\n",
      "14.047348976135254\n",
      "16.700605392456055\n",
      "17.099653244018555\n",
      "16.891239166259766\n",
      "15.840044021606445\n",
      "13.770012855529785\n",
      "16.194801330566406\n",
      "13.53760051727295\n",
      "15.764033317565918\n",
      "17.083847045898438\n",
      "16.63922119140625\n",
      "17.24541473388672\n",
      "15.596120834350586\n",
      "14.336283683776855\n",
      "17.454761505126953\n",
      "14.241097450256348\n",
      "18.1606502532959\n",
      "16.293909072875977\n",
      "14.839667320251465\n",
      "16.337923049926758\n",
      "15.074727058410645\n",
      "14.66024112701416\n",
      "17.248512268066406\n",
      "14.838282585144043\n",
      "14.84924602508545\n",
      "14.0634126663208\n",
      "16.226818084716797\n",
      "16.389984130859375\n",
      "16.74045181274414\n",
      "15.505069732666016\n",
      "17.208232879638672\n",
      "14.895659446716309\n",
      "14.186419486999512\n",
      "19.353282928466797\n",
      "17.143699645996094\n",
      "13.526333808898926\n",
      "17.488357543945312\n",
      "17.42362403869629\n",
      "17.723495483398438\n",
      "16.89374351501465\n",
      "13.707659721374512\n",
      "19.167604446411133\n",
      "16.33629035949707\n",
      "16.676298141479492\n",
      "14.443994522094727\n",
      "17.817968368530273\n",
      "18.532817840576172\n",
      "15.761899948120117\n",
      "15.851405143737793\n",
      "17.76700782775879\n",
      "16.24540138244629\n",
      "15.664948463439941\n",
      "12.723443031311035\n",
      "15.464130401611328\n",
      "19.39426040649414\n",
      "16.333044052124023\n",
      "14.433858871459961\n",
      "17.410062789916992\n",
      "17.84150505065918\n",
      "15.41032886505127\n",
      "17.403823852539062\n",
      "16.173593521118164\n",
      "17.690855026245117\n",
      "12.881610870361328\n",
      "16.20499610900879\n",
      "13.371365547180176\n",
      "17.651094436645508\n",
      "14.727867126464844\n",
      "15.983548164367676\n",
      "15.822609901428223\n",
      "15.159852981567383\n",
      "17.010944366455078\n",
      "18.327978134155273\n",
      "16.345176696777344\n",
      "15.655645370483398\n",
      "14.969998359680176\n",
      "16.79448127746582\n",
      "13.993066787719727\n",
      "16.760408401489258\n",
      "15.522321701049805\n",
      "15.191048622131348\n",
      "17.79878044128418\n",
      "16.848482131958008\n",
      "14.90556526184082\n",
      "18.5648193359375\n",
      "15.944815635681152\n",
      "16.040597915649414\n",
      "16.676881790161133\n",
      "17.543529510498047\n",
      "11.362157821655273\n",
      "15.677679061889648\n",
      "14.476395606994629\n",
      "15.912567138671875\n",
      "17.02958106994629\n",
      "14.799993515014648\n",
      "16.59539222717285\n",
      "14.727367401123047\n",
      "15.544429779052734\n",
      "15.866259574890137\n",
      "16.93134880065918\n",
      "14.950644493103027\n",
      "16.28409767150879\n",
      "16.12765121459961\n",
      "15.431938171386719\n",
      "15.083538055419922\n",
      "16.084484100341797\n",
      "14.865443229675293\n",
      "15.401375770568848\n",
      "16.100122451782227\n",
      "15.078509330749512\n",
      "18.875951766967773\n",
      "17.881023406982422\n",
      "17.31197166442871\n",
      "15.597075462341309\n",
      "14.933333396911621\n",
      "15.843963623046875\n",
      "14.517179489135742\n"
     ]
    }
   ],
   "source": [
    "# Mini-batch GD\n",
    "epoch = 1000\n",
    "batch_size = 32\n",
    "for _ in range(epoch):\n",
    "    # construct mini-batch\n",
    "    ixs = torch.randint(0,X.shape[0],(batch_size,))\n",
    "    mini_batch = X[ixs,:]\n",
    "    mini_batch_y = Y[ixs]\n",
    "    \n",
    "    # forward pass\n",
    "    emb = C[mini_batch]\n",
    "    h = torch.tanh(emb.view(-1,6) @ W1+b1)\n",
    "    logits = h @ W2 + b2\n",
    "    loss = F.cross_entropy(logits, mini_batch_y)\n",
    "    print(loss.item())\n",
    "    \n",
    "    #backward pass\n",
    "    for p in parameters:\n",
    "        p.grad = None\n",
    "    loss.backward()\n",
    "    \n",
    "    #update\n",
    "    for p in parameters:\n",
    "        p.data += -0.0 * p.grad\n"
   ]
  },
  {
   "cell_type": "markdown",
   "id": "c5093139",
   "metadata": {},
   "source": [
    "Since we are using mini batches, each individual gradient is more noisy but overall it sums up nicely. It is more efficient to make many somewhat correct steps, instead of few correct steps."
   ]
  },
  {
   "cell_type": "markdown",
   "id": "b71ab303",
   "metadata": {},
   "source": [
    "#### How do you determine your learning rate is correct (neither too small nor too big)??\n",
    "\n",
    "If learning rate is very low we wont see any progress. if too big it will blow up.\n",
    "\n",
    "\n",
    "- Try many extreme values like 0.00001 and 10 to come up with a rough estimate of the range.\n",
    "- Then run hyperparameter search"
   ]
  },
  {
   "cell_type": "code",
   "execution_count": 144,
   "id": "337b8486",
   "metadata": {},
   "outputs": [],
   "source": [
    "g = torch.Generator().manual_seed(2147483647)\n",
    "W1 = torch.randn((6,100))\n",
    "b1 = torch.randn(100)\n",
    "W2 = torch.randn((100,27))\n",
    "b2 = torch.randn(27)\n",
    "parameters = [C,W1,b1,W2,b2]"
   ]
  },
  {
   "cell_type": "code",
   "execution_count": 145,
   "id": "962c7bf7",
   "metadata": {},
   "outputs": [],
   "source": [
    "for p in parameters:\n",
    "    p.requires_grad= True"
   ]
  },
  {
   "cell_type": "code",
   "execution_count": 146,
   "id": "188a4005",
   "metadata": {},
   "outputs": [
    {
     "data": {
      "text/plain": [
       "0.7794393386126701"
      ]
     },
     "execution_count": 146,
     "metadata": {},
     "output_type": "execute_result"
    }
   ],
   "source": [
    "np.random.uniform(0.0001,1)"
   ]
  },
  {
   "cell_type": "code",
   "execution_count": null,
   "id": "87a29f28",
   "metadata": {},
   "outputs": [],
   "source": [
    "# 0.0001  1. \n",
    "# 0.0001 - 0.1 (~0.1)\n",
    "# 0.1 - 1.0 (0.9)\n",
    "# 0.01 - 1.0 (0.99)\n",
    "# 0.0001 - 0.01 \n",
    "# x = (-4 0)\n",
    "# l_r = 10**x -> log10(l_r) = x "
   ]
  },
  {
   "cell_type": "code",
   "execution_count": 126,
   "id": "7c97b5be",
   "metadata": {},
   "outputs": [
    {
     "data": {
      "text/plain": [
       "(-2.4557983193437276, 0.0035010771470966586)"
      ]
     },
     "execution_count": 126,
     "metadata": {},
     "output_type": "execute_result"
    }
   ],
   "source": [
    "import torch\n",
    "import numpy as np\n",
    "a = np.random.uniform(0,1) * -4\n",
    "a,10**a"
   ]
  },
  {
   "cell_type": "code",
   "execution_count": 51,
   "id": "9577deaf",
   "metadata": {},
   "outputs": [
    {
     "data": {
      "text/plain": [
       "0.473597633851084"
      ]
     },
     "execution_count": 51,
     "metadata": {},
     "output_type": "execute_result"
    }
   ],
   "source": [
    "np.random.uniform(0.0001,1)"
   ]
  },
  {
   "cell_type": "code",
   "execution_count": 147,
   "id": "afbef287",
   "metadata": {},
   "outputs": [
    {
     "data": {
      "text/plain": [
       "tensor([0.0010, 0.0010, 0.0010, 0.0010, 0.0010, 0.0010, 0.0010, 0.0010, 0.0011,\n",
       "        0.0011, 0.0011, 0.0011, 0.0011, 0.0011, 0.0011, 0.0011, 0.0011, 0.0011,\n",
       "        0.0011, 0.0011, 0.0011, 0.0012, 0.0012, 0.0012, 0.0012, 0.0012, 0.0012,\n",
       "        0.0012, 0.0012, 0.0012, 0.0012, 0.0012, 0.0012, 0.0013, 0.0013, 0.0013,\n",
       "        0.0013, 0.0013, 0.0013, 0.0013, 0.0013, 0.0013, 0.0013, 0.0013, 0.0014,\n",
       "        0.0014, 0.0014, 0.0014, 0.0014, 0.0014, 0.0014, 0.0014, 0.0014, 0.0014,\n",
       "        0.0015, 0.0015, 0.0015, 0.0015, 0.0015, 0.0015, 0.0015, 0.0015, 0.0015,\n",
       "        0.0015, 0.0016, 0.0016, 0.0016, 0.0016, 0.0016, 0.0016, 0.0016, 0.0016,\n",
       "        0.0016, 0.0017, 0.0017, 0.0017, 0.0017, 0.0017, 0.0017, 0.0017, 0.0017,\n",
       "        0.0018, 0.0018, 0.0018, 0.0018, 0.0018, 0.0018, 0.0018, 0.0018, 0.0019,\n",
       "        0.0019, 0.0019, 0.0019, 0.0019, 0.0019, 0.0019, 0.0019, 0.0020, 0.0020,\n",
       "        0.0020, 0.0020, 0.0020, 0.0020, 0.0020, 0.0021, 0.0021, 0.0021, 0.0021,\n",
       "        0.0021, 0.0021, 0.0021, 0.0022, 0.0022, 0.0022, 0.0022, 0.0022, 0.0022,\n",
       "        0.0022, 0.0023, 0.0023, 0.0023, 0.0023, 0.0023, 0.0023, 0.0024, 0.0024,\n",
       "        0.0024, 0.0024, 0.0024, 0.0024, 0.0025, 0.0025, 0.0025, 0.0025, 0.0025,\n",
       "        0.0025, 0.0026, 0.0026, 0.0026, 0.0026, 0.0026, 0.0027, 0.0027, 0.0027,\n",
       "        0.0027, 0.0027, 0.0027, 0.0028, 0.0028, 0.0028, 0.0028, 0.0028, 0.0029,\n",
       "        0.0029, 0.0029, 0.0029, 0.0029, 0.0030, 0.0030, 0.0030, 0.0030, 0.0030,\n",
       "        0.0031, 0.0031, 0.0031, 0.0031, 0.0032, 0.0032, 0.0032, 0.0032, 0.0032,\n",
       "        0.0033, 0.0033, 0.0033, 0.0033, 0.0034, 0.0034, 0.0034, 0.0034, 0.0034,\n",
       "        0.0035, 0.0035, 0.0035, 0.0035, 0.0036, 0.0036, 0.0036, 0.0036, 0.0037,\n",
       "        0.0037, 0.0037, 0.0037, 0.0038, 0.0038, 0.0038, 0.0039, 0.0039, 0.0039,\n",
       "        0.0039, 0.0040, 0.0040, 0.0040, 0.0040, 0.0041, 0.0041, 0.0041, 0.0042,\n",
       "        0.0042, 0.0042, 0.0042, 0.0043, 0.0043, 0.0043, 0.0044, 0.0044, 0.0044,\n",
       "        0.0045, 0.0045, 0.0045, 0.0045, 0.0046, 0.0046, 0.0046, 0.0047, 0.0047,\n",
       "        0.0047, 0.0048, 0.0048, 0.0048, 0.0049, 0.0049, 0.0049, 0.0050, 0.0050,\n",
       "        0.0050, 0.0051, 0.0051, 0.0051, 0.0052, 0.0052, 0.0053, 0.0053, 0.0053,\n",
       "        0.0054, 0.0054, 0.0054, 0.0055, 0.0055, 0.0056, 0.0056, 0.0056, 0.0057,\n",
       "        0.0057, 0.0058, 0.0058, 0.0058, 0.0059, 0.0059, 0.0060, 0.0060, 0.0060,\n",
       "        0.0061, 0.0061, 0.0062, 0.0062, 0.0062, 0.0063, 0.0063, 0.0064, 0.0064,\n",
       "        0.0065, 0.0065, 0.0066, 0.0066, 0.0067, 0.0067, 0.0067, 0.0068, 0.0068,\n",
       "        0.0069, 0.0069, 0.0070, 0.0070, 0.0071, 0.0071, 0.0072, 0.0072, 0.0073,\n",
       "        0.0073, 0.0074, 0.0074, 0.0075, 0.0075, 0.0076, 0.0076, 0.0077, 0.0077,\n",
       "        0.0078, 0.0079, 0.0079, 0.0080, 0.0080, 0.0081, 0.0081, 0.0082, 0.0082,\n",
       "        0.0083, 0.0084, 0.0084, 0.0085, 0.0085, 0.0086, 0.0086, 0.0087, 0.0088,\n",
       "        0.0088, 0.0089, 0.0090, 0.0090, 0.0091, 0.0091, 0.0092, 0.0093, 0.0093,\n",
       "        0.0094, 0.0095, 0.0095, 0.0096, 0.0097, 0.0097, 0.0098, 0.0099, 0.0099,\n",
       "        0.0100, 0.0101, 0.0101, 0.0102, 0.0103, 0.0104, 0.0104, 0.0105, 0.0106,\n",
       "        0.0106, 0.0107, 0.0108, 0.0109, 0.0109, 0.0110, 0.0111, 0.0112, 0.0112,\n",
       "        0.0113, 0.0114, 0.0115, 0.0116, 0.0116, 0.0117, 0.0118, 0.0119, 0.0120,\n",
       "        0.0121, 0.0121, 0.0122, 0.0123, 0.0124, 0.0125, 0.0126, 0.0127, 0.0127,\n",
       "        0.0128, 0.0129, 0.0130, 0.0131, 0.0132, 0.0133, 0.0134, 0.0135, 0.0136,\n",
       "        0.0137, 0.0137, 0.0138, 0.0139, 0.0140, 0.0141, 0.0142, 0.0143, 0.0144,\n",
       "        0.0145, 0.0146, 0.0147, 0.0148, 0.0149, 0.0150, 0.0151, 0.0152, 0.0154,\n",
       "        0.0155, 0.0156, 0.0157, 0.0158, 0.0159, 0.0160, 0.0161, 0.0162, 0.0163,\n",
       "        0.0165, 0.0166, 0.0167, 0.0168, 0.0169, 0.0170, 0.0171, 0.0173, 0.0174,\n",
       "        0.0175, 0.0176, 0.0178, 0.0179, 0.0180, 0.0181, 0.0182, 0.0184, 0.0185,\n",
       "        0.0186, 0.0188, 0.0189, 0.0190, 0.0192, 0.0193, 0.0194, 0.0196, 0.0197,\n",
       "        0.0198, 0.0200, 0.0201, 0.0202, 0.0204, 0.0205, 0.0207, 0.0208, 0.0210,\n",
       "        0.0211, 0.0212, 0.0214, 0.0215, 0.0217, 0.0218, 0.0220, 0.0221, 0.0223,\n",
       "        0.0225, 0.0226, 0.0228, 0.0229, 0.0231, 0.0232, 0.0234, 0.0236, 0.0237,\n",
       "        0.0239, 0.0241, 0.0242, 0.0244, 0.0246, 0.0247, 0.0249, 0.0251, 0.0253,\n",
       "        0.0254, 0.0256, 0.0258, 0.0260, 0.0261, 0.0263, 0.0265, 0.0267, 0.0269,\n",
       "        0.0271, 0.0273, 0.0274, 0.0276, 0.0278, 0.0280, 0.0282, 0.0284, 0.0286,\n",
       "        0.0288, 0.0290, 0.0292, 0.0294, 0.0296, 0.0298, 0.0300, 0.0302, 0.0304,\n",
       "        0.0307, 0.0309, 0.0311, 0.0313, 0.0315, 0.0317, 0.0320, 0.0322, 0.0324,\n",
       "        0.0326, 0.0328, 0.0331, 0.0333, 0.0335, 0.0338, 0.0340, 0.0342, 0.0345,\n",
       "        0.0347, 0.0350, 0.0352, 0.0354, 0.0357, 0.0359, 0.0362, 0.0364, 0.0367,\n",
       "        0.0369, 0.0372, 0.0375, 0.0377, 0.0380, 0.0382, 0.0385, 0.0388, 0.0390,\n",
       "        0.0393, 0.0396, 0.0399, 0.0401, 0.0404, 0.0407, 0.0410, 0.0413, 0.0416,\n",
       "        0.0418, 0.0421, 0.0424, 0.0427, 0.0430, 0.0433, 0.0436, 0.0439, 0.0442,\n",
       "        0.0445, 0.0448, 0.0451, 0.0455, 0.0458, 0.0461, 0.0464, 0.0467, 0.0471,\n",
       "        0.0474, 0.0477, 0.0480, 0.0484, 0.0487, 0.0491, 0.0494, 0.0497, 0.0501,\n",
       "        0.0504, 0.0508, 0.0511, 0.0515, 0.0518, 0.0522, 0.0526, 0.0529, 0.0533,\n",
       "        0.0537, 0.0540, 0.0544, 0.0548, 0.0552, 0.0556, 0.0559, 0.0563, 0.0567,\n",
       "        0.0571, 0.0575, 0.0579, 0.0583, 0.0587, 0.0591, 0.0595, 0.0599, 0.0604,\n",
       "        0.0608, 0.0612, 0.0616, 0.0621, 0.0625, 0.0629, 0.0634, 0.0638, 0.0642,\n",
       "        0.0647, 0.0651, 0.0656, 0.0660, 0.0665, 0.0670, 0.0674, 0.0679, 0.0684,\n",
       "        0.0688, 0.0693, 0.0698, 0.0703, 0.0708, 0.0713, 0.0718, 0.0723, 0.0728,\n",
       "        0.0733, 0.0738, 0.0743, 0.0748, 0.0753, 0.0758, 0.0764, 0.0769, 0.0774,\n",
       "        0.0780, 0.0785, 0.0790, 0.0796, 0.0802, 0.0807, 0.0813, 0.0818, 0.0824,\n",
       "        0.0830, 0.0835, 0.0841, 0.0847, 0.0853, 0.0859, 0.0865, 0.0871, 0.0877,\n",
       "        0.0883, 0.0889, 0.0895, 0.0901, 0.0908, 0.0914, 0.0920, 0.0927, 0.0933,\n",
       "        0.0940, 0.0946, 0.0953, 0.0959, 0.0966, 0.0973, 0.0979, 0.0986, 0.0993,\n",
       "        0.1000, 0.1007, 0.1014, 0.1021, 0.1028, 0.1035, 0.1042, 0.1050, 0.1057,\n",
       "        0.1064, 0.1072, 0.1079, 0.1087, 0.1094, 0.1102, 0.1109, 0.1117, 0.1125,\n",
       "        0.1133, 0.1140, 0.1148, 0.1156, 0.1164, 0.1172, 0.1181, 0.1189, 0.1197,\n",
       "        0.1205, 0.1214, 0.1222, 0.1231, 0.1239, 0.1248, 0.1256, 0.1265, 0.1274,\n",
       "        0.1283, 0.1292, 0.1301, 0.1310, 0.1319, 0.1328, 0.1337, 0.1346, 0.1356,\n",
       "        0.1365, 0.1374, 0.1384, 0.1394, 0.1403, 0.1413, 0.1423, 0.1433, 0.1443,\n",
       "        0.1453, 0.1463, 0.1473, 0.1483, 0.1493, 0.1504, 0.1514, 0.1525, 0.1535,\n",
       "        0.1546, 0.1557, 0.1567, 0.1578, 0.1589, 0.1600, 0.1611, 0.1623, 0.1634,\n",
       "        0.1645, 0.1657, 0.1668, 0.1680, 0.1691, 0.1703, 0.1715, 0.1727, 0.1739,\n",
       "        0.1751, 0.1763, 0.1775, 0.1788, 0.1800, 0.1812, 0.1825, 0.1838, 0.1850,\n",
       "        0.1863, 0.1876, 0.1889, 0.1902, 0.1916, 0.1929, 0.1942, 0.1956, 0.1969,\n",
       "        0.1983, 0.1997, 0.2010, 0.2024, 0.2038, 0.2053, 0.2067, 0.2081, 0.2096,\n",
       "        0.2110, 0.2125, 0.2140, 0.2154, 0.2169, 0.2184, 0.2200, 0.2215, 0.2230,\n",
       "        0.2246, 0.2261, 0.2277, 0.2293, 0.2309, 0.2325, 0.2341, 0.2357, 0.2373,\n",
       "        0.2390, 0.2406, 0.2423, 0.2440, 0.2457, 0.2474, 0.2491, 0.2508, 0.2526,\n",
       "        0.2543, 0.2561, 0.2579, 0.2597, 0.2615, 0.2633, 0.2651, 0.2669, 0.2688,\n",
       "        0.2707, 0.2725, 0.2744, 0.2763, 0.2783, 0.2802, 0.2821, 0.2841, 0.2861,\n",
       "        0.2880, 0.2900, 0.2921, 0.2941, 0.2961, 0.2982, 0.3002, 0.3023, 0.3044,\n",
       "        0.3065, 0.3087, 0.3108, 0.3130, 0.3151, 0.3173, 0.3195, 0.3217, 0.3240,\n",
       "        0.3262, 0.3285, 0.3308, 0.3331, 0.3354, 0.3377, 0.3400, 0.3424, 0.3448,\n",
       "        0.3472, 0.3496, 0.3520, 0.3544, 0.3569, 0.3594, 0.3619, 0.3644, 0.3669,\n",
       "        0.3695, 0.3720, 0.3746, 0.3772, 0.3798, 0.3825, 0.3851, 0.3878, 0.3905,\n",
       "        0.3932, 0.3959, 0.3987, 0.4014, 0.4042, 0.4070, 0.4098, 0.4127, 0.4155,\n",
       "        0.4184, 0.4213, 0.4243, 0.4272, 0.4302, 0.4331, 0.4362, 0.4392, 0.4422,\n",
       "        0.4453, 0.4484, 0.4515, 0.4546, 0.4578, 0.4610, 0.4642, 0.4674, 0.4706,\n",
       "        0.4739, 0.4772, 0.4805, 0.4838, 0.4872, 0.4906, 0.4940, 0.4974, 0.5008,\n",
       "        0.5043, 0.5078, 0.5113, 0.5149, 0.5185, 0.5221, 0.5257, 0.5293, 0.5330,\n",
       "        0.5367, 0.5404, 0.5442, 0.5479, 0.5517, 0.5556, 0.5594, 0.5633, 0.5672,\n",
       "        0.5712, 0.5751, 0.5791, 0.5831, 0.5872, 0.5913, 0.5954, 0.5995, 0.6036,\n",
       "        0.6078, 0.6120, 0.6163, 0.6206, 0.6249, 0.6292, 0.6336, 0.6380, 0.6424,\n",
       "        0.6469, 0.6513, 0.6559, 0.6604, 0.6650, 0.6696, 0.6743, 0.6789, 0.6837,\n",
       "        0.6884, 0.6932, 0.6980, 0.7028, 0.7077, 0.7126, 0.7176, 0.7225, 0.7275,\n",
       "        0.7326, 0.7377, 0.7428, 0.7480, 0.7531, 0.7584, 0.7636, 0.7689, 0.7743,\n",
       "        0.7796, 0.7850, 0.7905, 0.7960, 0.8015, 0.8071, 0.8127, 0.8183, 0.8240,\n",
       "        0.8297, 0.8355, 0.8412, 0.8471, 0.8530, 0.8589, 0.8648, 0.8708, 0.8769,\n",
       "        0.8830, 0.8891, 0.8953, 0.9015, 0.9077, 0.9140, 0.9204, 0.9268, 0.9332,\n",
       "        0.9397, 0.9462, 0.9528, 0.9594, 0.9660, 0.9727, 0.9795, 0.9863, 0.9931,\n",
       "        1.0000])"
      ]
     },
     "execution_count": 147,
     "metadata": {},
     "output_type": "execute_result"
    }
   ],
   "source": [
    "# we should sample from the log scale\n",
    "lre = torch.linspace(-3,0,1000,requires_grad=False)\n",
    "lrs = 10**lre\n",
    "lrs"
   ]
  },
  {
   "cell_type": "code",
   "execution_count": 148,
   "id": "d587ca68",
   "metadata": {},
   "outputs": [
    {
     "name": "stdout",
     "output_type": "stream",
     "text": [
      "16.26885223388672\n",
      "17.360801696777344\n",
      "15.673253059387207\n",
      "17.848167419433594\n",
      "19.795345306396484\n",
      "16.279956817626953\n",
      "18.25687026977539\n",
      "16.417646408081055\n",
      "14.984323501586914\n",
      "15.693193435668945\n",
      "18.387474060058594\n",
      "17.9477596282959\n",
      "16.152729034423828\n",
      "19.12385368347168\n",
      "15.960275650024414\n",
      "17.355051040649414\n",
      "19.304166793823242\n",
      "13.77762222290039\n",
      "18.070661544799805\n",
      "18.78127098083496\n",
      "17.08684539794922\n",
      "15.271576881408691\n",
      "18.252403259277344\n",
      "16.933109283447266\n",
      "15.635639190673828\n",
      "18.9809513092041\n",
      "14.449198722839355\n",
      "17.494226455688477\n",
      "15.827719688415527\n",
      "16.630386352539062\n",
      "14.405746459960938\n",
      "16.229148864746094\n",
      "17.747114181518555\n",
      "16.841201782226562\n",
      "17.31756591796875\n",
      "19.217031478881836\n",
      "16.490198135375977\n",
      "17.642229080200195\n",
      "16.627365112304688\n",
      "19.284290313720703\n",
      "15.259925842285156\n",
      "14.446210861206055\n",
      "15.020750045776367\n",
      "14.293386459350586\n",
      "15.864678382873535\n",
      "14.583428382873535\n",
      "16.00997543334961\n",
      "15.961971282958984\n",
      "16.08082389831543\n",
      "18.643306732177734\n",
      "18.819360733032227\n",
      "16.279294967651367\n",
      "14.598817825317383\n",
      "15.842467308044434\n",
      "17.47736167907715\n",
      "16.380952835083008\n",
      "17.42961311340332\n",
      "16.257343292236328\n",
      "17.221101760864258\n",
      "15.947526931762695\n",
      "14.359341621398926\n",
      "12.901357650756836\n",
      "14.735334396362305\n",
      "16.270296096801758\n",
      "16.902904510498047\n",
      "14.711103439331055\n",
      "15.254512786865234\n",
      "13.366573333740234\n",
      "14.318297386169434\n",
      "13.122425079345703\n",
      "13.393327713012695\n",
      "15.31719970703125\n",
      "15.534912109375\n",
      "15.255781173706055\n",
      "13.34437084197998\n",
      "12.394866943359375\n",
      "15.817193984985352\n",
      "16.267126083374023\n",
      "13.721414566040039\n",
      "14.627389907836914\n",
      "15.08282470703125\n",
      "15.010173797607422\n",
      "14.369933128356934\n",
      "13.49669361114502\n",
      "16.07401466369629\n",
      "11.472221374511719\n",
      "15.232888221740723\n",
      "12.307186126708984\n",
      "14.416812896728516\n",
      "14.442998886108398\n",
      "12.463489532470703\n",
      "15.754680633544922\n",
      "14.56916618347168\n",
      "14.931525230407715\n",
      "13.503549575805664\n",
      "13.356535911560059\n",
      "14.424529075622559\n",
      "14.788662910461426\n",
      "13.924759864807129\n",
      "16.311067581176758\n",
      "13.596990585327148\n",
      "15.776823997497559\n",
      "15.941352844238281\n",
      "15.011255264282227\n",
      "16.30214500427246\n",
      "12.325322151184082\n",
      "16.9648494720459\n",
      "13.812003135681152\n",
      "13.989830017089844\n",
      "11.869946479797363\n",
      "12.630173683166504\n",
      "14.037969589233398\n",
      "14.200902938842773\n",
      "14.007665634155273\n",
      "16.128141403198242\n",
      "14.217121124267578\n",
      "13.19101333618164\n",
      "13.818711280822754\n",
      "12.811634063720703\n",
      "14.838088035583496\n",
      "13.117145538330078\n",
      "12.311131477355957\n",
      "12.848138809204102\n",
      "13.26761245727539\n",
      "14.042296409606934\n",
      "13.670151710510254\n",
      "13.024320602416992\n",
      "14.89720344543457\n",
      "13.44325065612793\n",
      "13.419665336608887\n",
      "12.3685941696167\n",
      "12.966906547546387\n",
      "15.678277015686035\n",
      "10.557271957397461\n",
      "13.765008926391602\n",
      "15.001015663146973\n",
      "14.093366622924805\n",
      "15.375016212463379\n",
      "15.360010147094727\n",
      "12.442145347595215\n",
      "11.79112720489502\n",
      "15.563037872314453\n",
      "13.096456527709961\n",
      "12.049579620361328\n",
      "15.18233585357666\n",
      "13.424842834472656\n",
      "14.441899299621582\n",
      "13.55711841583252\n",
      "12.418670654296875\n",
      "13.742167472839355\n",
      "13.215208053588867\n",
      "13.8771390914917\n",
      "15.491929054260254\n",
      "12.986696243286133\n",
      "11.32757568359375\n",
      "12.504287719726562\n",
      "12.461045265197754\n",
      "12.849303245544434\n",
      "13.341717720031738\n",
      "13.747114181518555\n",
      "10.914236068725586\n",
      "12.582807540893555\n",
      "13.545103073120117\n",
      "11.39123821258545\n",
      "12.31859016418457\n",
      "12.068540573120117\n",
      "12.427213668823242\n",
      "11.73840045928955\n",
      "12.7261962890625\n",
      "11.981014251708984\n",
      "14.234684944152832\n",
      "14.001121520996094\n",
      "12.806390762329102\n",
      "12.512995719909668\n",
      "11.468969345092773\n",
      "13.644267082214355\n",
      "13.156830787658691\n",
      "12.083426475524902\n",
      "12.77387809753418\n",
      "12.87232494354248\n",
      "11.491064071655273\n",
      "10.675643920898438\n",
      "10.907458305358887\n",
      "11.509861946105957\n",
      "12.721774101257324\n",
      "11.805127143859863\n",
      "15.267464637756348\n",
      "11.20182991027832\n",
      "10.787236213684082\n",
      "11.57470703125\n",
      "10.151529312133789\n",
      "12.065996170043945\n",
      "13.886377334594727\n",
      "11.268091201782227\n",
      "12.239446640014648\n",
      "11.35473918914795\n",
      "12.077336311340332\n",
      "11.815255165100098\n",
      "11.96131420135498\n",
      "13.11913013458252\n",
      "10.153997421264648\n",
      "11.647173881530762\n",
      "12.630498886108398\n",
      "11.08292007446289\n",
      "12.696002006530762\n",
      "10.582494735717773\n",
      "12.94526195526123\n",
      "11.293201446533203\n",
      "11.803930282592773\n",
      "11.064614295959473\n",
      "10.421638488769531\n",
      "11.409026145935059\n",
      "11.10784912109375\n",
      "10.521405220031738\n",
      "10.175376892089844\n",
      "12.574776649475098\n",
      "11.437471389770508\n",
      "10.665771484375\n",
      "9.25391960144043\n",
      "12.839479446411133\n",
      "11.32919979095459\n",
      "10.229933738708496\n",
      "13.205829620361328\n",
      "12.453115463256836\n",
      "12.47689437866211\n",
      "11.51986312866211\n",
      "11.127335548400879\n",
      "8.271801948547363\n",
      "11.818303108215332\n",
      "10.121153831481934\n",
      "10.613823890686035\n",
      "12.793320655822754\n",
      "11.145297050476074\n",
      "11.225974082946777\n",
      "8.955336570739746\n",
      "10.302129745483398\n",
      "11.021529197692871\n",
      "11.473160743713379\n",
      "10.313177108764648\n",
      "8.963540077209473\n",
      "9.716961860656738\n",
      "7.883661270141602\n",
      "10.574800491333008\n",
      "9.131142616271973\n",
      "10.145883560180664\n",
      "11.140180587768555\n",
      "12.394153594970703\n",
      "9.103952407836914\n",
      "13.14118766784668\n",
      "12.07184886932373\n",
      "9.690831184387207\n",
      "12.044785499572754\n",
      "8.006743431091309\n",
      "11.52885627746582\n",
      "9.609089851379395\n",
      "9.047717094421387\n",
      "8.97412395477295\n",
      "9.450074195861816\n",
      "10.441375732421875\n",
      "11.254251480102539\n",
      "10.296175003051758\n",
      "10.630261421203613\n",
      "8.706439971923828\n",
      "9.07854175567627\n",
      "11.8371000289917\n",
      "11.363326072692871\n",
      "11.385588645935059\n",
      "11.031449317932129\n",
      "11.192784309387207\n",
      "9.497456550598145\n",
      "10.685786247253418\n",
      "9.951494216918945\n",
      "10.732248306274414\n",
      "9.971220016479492\n",
      "8.833693504333496\n",
      "10.858424186706543\n",
      "11.36174201965332\n",
      "9.171529769897461\n",
      "8.50503158569336\n",
      "8.223201751708984\n",
      "9.652181625366211\n",
      "9.422799110412598\n",
      "9.549245834350586\n",
      "10.19648551940918\n",
      "9.713215827941895\n",
      "9.580853462219238\n",
      "11.411108016967773\n",
      "11.754798889160156\n",
      "10.01687240600586\n",
      "9.37668228149414\n",
      "6.8177490234375\n",
      "8.92718505859375\n",
      "9.74891471862793\n",
      "9.018710136413574\n",
      "11.305215835571289\n",
      "7.582383632659912\n",
      "8.52658462524414\n",
      "9.58836555480957\n",
      "8.740091323852539\n",
      "10.186243057250977\n",
      "9.652684211730957\n",
      "8.875439643859863\n",
      "7.99699592590332\n",
      "11.775299072265625\n",
      "7.820557594299316\n",
      "8.973891258239746\n",
      "6.934396743774414\n",
      "10.642814636230469\n",
      "8.855278968811035\n",
      "8.795855522155762\n",
      "8.729494094848633\n",
      "9.485926628112793\n",
      "8.373525619506836\n",
      "7.743802070617676\n",
      "10.044970512390137\n",
      "8.141677856445312\n",
      "7.61792516708374\n",
      "10.276200294494629\n",
      "8.389130592346191\n",
      "9.179415702819824\n",
      "9.791707992553711\n",
      "7.593777179718018\n",
      "8.809609413146973\n",
      "9.195538520812988\n",
      "8.545815467834473\n",
      "8.503608703613281\n",
      "9.068597793579102\n",
      "10.37869644165039\n",
      "7.214176177978516\n",
      "9.583257675170898\n",
      "7.753416061401367\n",
      "10.445199012756348\n",
      "7.393019676208496\n",
      "10.922565460205078\n",
      "9.122881889343262\n",
      "9.182991981506348\n",
      "9.150235176086426\n",
      "7.554879665374756\n",
      "6.919454097747803\n",
      "6.642548561096191\n",
      "6.625528335571289\n",
      "9.6812162399292\n",
      "8.92491626739502\n",
      "7.714540958404541\n",
      "8.16074275970459\n",
      "6.873489856719971\n",
      "6.815921306610107\n",
      "7.725408554077148\n",
      "7.692785263061523\n",
      "9.580381393432617\n",
      "7.856020927429199\n",
      "7.166609764099121\n",
      "8.422873497009277\n",
      "9.030853271484375\n",
      "7.328622817993164\n",
      "7.1971635818481445\n",
      "9.211276054382324\n",
      "6.516576290130615\n",
      "7.707149505615234\n",
      "7.491582870483398\n",
      "6.599684238433838\n",
      "7.150979518890381\n",
      "7.1773810386657715\n",
      "8.18420124053955\n",
      "7.138087749481201\n",
      "8.286561965942383\n",
      "7.329249382019043\n",
      "8.267906188964844\n",
      "6.5329084396362305\n",
      "8.32340145111084\n",
      "7.135395050048828\n",
      "8.186192512512207\n",
      "6.3371758460998535\n",
      "7.959189414978027\n",
      "8.283616065979004\n",
      "8.493271827697754\n",
      "7.896199703216553\n",
      "6.735085964202881\n",
      "7.2183146476745605\n",
      "6.538001537322998\n",
      "7.293763637542725\n",
      "8.031838417053223\n",
      "7.773855686187744\n",
      "6.07697868347168\n",
      "9.059929847717285\n",
      "7.750938892364502\n",
      "6.438567638397217\n",
      "7.9113264083862305\n",
      "7.646638870239258\n",
      "6.893028259277344\n",
      "6.596776485443115\n",
      "6.01235818862915\n",
      "7.252707004547119\n",
      "7.2661027908325195\n",
      "6.954139709472656\n",
      "7.038872718811035\n",
      "6.784846305847168\n",
      "9.027229309082031\n",
      "7.0579352378845215\n",
      "7.611264705657959\n",
      "7.211815357208252\n",
      "7.649020671844482\n",
      "6.048430442810059\n",
      "5.534398555755615\n",
      "7.078427791595459\n",
      "5.561765670776367\n",
      "6.9534149169921875\n",
      "6.296158313751221\n",
      "5.188071250915527\n",
      "5.50300931930542\n",
      "6.466386795043945\n",
      "5.399759769439697\n",
      "6.0100321769714355\n",
      "6.403603553771973\n",
      "3.9637274742126465\n",
      "6.820924282073975\n",
      "5.677074432373047\n",
      "7.909423351287842\n",
      "6.630995273590088\n",
      "7.345032691955566\n",
      "5.6496262550354\n",
      "5.304096221923828\n",
      "7.175474166870117\n",
      "6.06323766708374\n",
      "6.177117824554443\n",
      "6.665322780609131\n",
      "6.07888126373291\n",
      "6.291635990142822\n",
      "4.399863243103027\n",
      "6.124915599822998\n",
      "7.083567142486572\n",
      "5.317038536071777\n",
      "5.293737411499023\n",
      "5.640507221221924\n",
      "5.296708583831787\n",
      "5.247006893157959\n",
      "6.759702682495117\n",
      "6.442032337188721\n",
      "5.3070597648620605\n",
      "5.454131603240967\n",
      "6.293719291687012\n",
      "5.234623908996582\n",
      "6.290432453155518\n",
      "5.583466053009033\n",
      "5.5605244636535645\n",
      "3.868929147720337\n",
      "5.330461502075195\n",
      "5.474607944488525\n",
      "5.762850761413574\n",
      "5.181318283081055\n",
      "4.274934768676758\n",
      "5.767370700836182\n",
      "4.4584879875183105\n",
      "4.790641784667969\n",
      "4.944092750549316\n",
      "4.316518783569336\n",
      "5.9791412353515625\n",
      "5.1415276527404785\n",
      "5.329075336456299\n",
      "5.635669231414795\n",
      "5.6626715660095215\n",
      "5.240610122680664\n",
      "4.883824348449707\n",
      "5.769787311553955\n",
      "3.7913808822631836\n",
      "4.6594390869140625\n",
      "5.2263407707214355\n",
      "4.7881364822387695\n",
      "4.123739719390869\n",
      "4.622418403625488\n",
      "5.081723213195801\n",
      "5.593508243560791\n",
      "5.22880220413208\n",
      "4.915206432342529\n",
      "4.4332709312438965\n",
      "4.833622932434082\n",
      "4.634304523468018\n",
      "5.78163480758667\n",
      "4.049088478088379\n",
      "4.085144519805908\n",
      "4.237706661224365\n",
      "3.9564201831817627\n",
      "4.261654853820801\n",
      "4.900225639343262\n",
      "5.025691509246826\n",
      "4.19088888168335\n",
      "5.17443323135376\n",
      "5.244489669799805\n",
      "5.030126571655273\n",
      "6.1681671142578125\n",
      "4.49550724029541\n",
      "6.1616597175598145\n",
      "4.117539882659912\n",
      "4.4961137771606445\n",
      "4.2649993896484375\n",
      "4.568526744842529\n",
      "3.6033198833465576\n",
      "3.837891101837158\n",
      "3.5724270343780518\n",
      "4.133474349975586\n",
      "4.108598709106445\n",
      "4.321839809417725\n",
      "6.031803131103516\n",
      "3.6300108432769775\n",
      "4.701230049133301\n",
      "6.048480033874512\n",
      "4.381561756134033\n",
      "4.315960884094238\n",
      "4.226994037628174\n",
      "3.512448787689209\n",
      "4.306334495544434\n",
      "4.936840057373047\n",
      "5.031066417694092\n",
      "4.532583236694336\n",
      "4.353842258453369\n",
      "4.925113677978516\n",
      "4.029820919036865\n",
      "4.747562408447266\n",
      "4.649293899536133\n",
      "3.727747917175293\n",
      "4.8586602210998535\n",
      "3.5575904846191406\n",
      "4.290419101715088\n",
      "3.6501593589782715\n",
      "4.011379241943359\n",
      "4.129957675933838\n",
      "3.6816515922546387\n",
      "4.185744285583496\n",
      "4.901360511779785\n",
      "4.175800323486328\n",
      "4.431146621704102\n",
      "3.52642822265625\n",
      "4.039344310760498\n",
      "3.7060163021087646\n",
      "3.4306979179382324\n",
      "3.537799835205078\n",
      "4.565938949584961\n",
      "5.141817092895508\n",
      "3.65031361579895\n",
      "4.116373062133789\n",
      "4.470975875854492\n",
      "3.621861696243286\n",
      "3.2805023193359375\n",
      "4.162096977233887\n",
      "4.737875461578369\n",
      "3.8068947792053223\n",
      "3.6455469131469727\n",
      "5.068028926849365\n",
      "3.6730191707611084\n",
      "3.0037999153137207\n",
      "4.004032135009766\n",
      "3.668574333190918\n",
      "5.2311110496521\n",
      "4.108432769775391\n",
      "4.129118919372559\n",
      "3.341870069503784\n",
      "3.1665096282958984\n",
      "3.709953784942627\n",
      "4.079399585723877\n",
      "4.471033573150635\n",
      "3.543233871459961\n",
      "4.0193562507629395\n",
      "3.5831339359283447\n",
      "3.873788595199585\n",
      "2.7530453205108643\n",
      "3.7915029525756836\n",
      "3.6311893463134766\n",
      "3.986715316772461\n",
      "3.4321200847625732\n",
      "3.207284688949585\n",
      "3.2674524784088135\n",
      "3.6782991886138916\n",
      "3.1587612628936768\n",
      "3.5676701068878174\n",
      "3.938899278640747\n",
      "2.8472204208374023\n",
      "2.5819084644317627\n",
      "4.249077796936035\n",
      "3.949446678161621\n",
      "4.129056930541992\n",
      "4.106601238250732\n",
      "4.676112651824951\n",
      "3.767799139022827\n",
      "4.035094261169434\n",
      "3.310976028442383\n",
      "3.6533284187316895\n",
      "3.421860694885254\n",
      "3.4846324920654297\n",
      "3.9863922595977783\n",
      "5.3241987228393555\n",
      "3.663694143295288\n",
      "3.234640598297119\n",
      "3.7655203342437744\n",
      "3.5107908248901367\n",
      "4.157266616821289\n",
      "3.3990776538848877\n",
      "4.191798210144043\n",
      "2.748131036758423\n",
      "3.6436374187469482\n",
      "3.2819790840148926\n",
      "3.7823073863983154\n",
      "2.987496852874756\n",
      "3.282590389251709\n",
      "2.592588186264038\n",
      "3.827521324157715\n",
      "2.695249319076538\n",
      "3.5742738246917725\n",
      "4.408677577972412\n",
      "3.143040180206299\n",
      "2.5104103088378906\n",
      "2.7775959968566895\n",
      "3.4657821655273438\n",
      "3.7776851654052734\n",
      "4.068157196044922\n",
      "2.573028326034546\n",
      "3.5688483715057373\n",
      "4.695609092712402\n",
      "3.250485420227051\n",
      "3.403069496154785\n",
      "2.8995988368988037\n",
      "3.222656488418579\n",
      "3.3757734298706055\n",
      "3.499674081802368\n",
      "3.274791955947876\n",
      "4.303897857666016\n",
      "3.303974151611328\n",
      "3.210221529006958\n",
      "3.505096435546875\n",
      "3.550173282623291\n",
      "2.9403462409973145\n",
      "2.831192970275879\n",
      "3.6163711547851562\n",
      "4.084587097167969\n",
      "3.6340813636779785\n",
      "3.461866855621338\n",
      "2.6441125869750977\n",
      "2.7156386375427246\n",
      "2.8568549156188965\n",
      "3.502562999725342\n",
      "2.6887474060058594\n",
      "3.637403726577759\n",
      "3.1306955814361572\n",
      "3.344228982925415\n",
      "3.9293808937072754\n",
      "3.5085244178771973\n",
      "3.4343209266662598\n",
      "3.2711381912231445\n",
      "3.3069283962249756\n",
      "3.7011852264404297\n",
      "2.7813992500305176\n",
      "3.8762781620025635\n",
      "3.1159050464630127\n",
      "3.4567270278930664\n",
      "3.967766761779785\n",
      "3.1977319717407227\n",
      "3.045945644378662\n",
      "3.1511192321777344\n",
      "2.9137332439422607\n",
      "3.55281400680542\n",
      "2.9266819953918457\n",
      "3.1743898391723633\n",
      "3.0017807483673096\n",
      "3.0289087295532227\n",
      "3.6440367698669434\n",
      "3.446645736694336\n",
      "3.9844038486480713\n",
      "3.5523009300231934\n",
      "3.061880588531494\n",
      "2.881220579147339\n",
      "2.9340806007385254\n",
      "2.799151659011841\n",
      "2.5829856395721436\n",
      "2.9597995281219482\n",
      "4.043831825256348\n",
      "4.069217681884766\n",
      "3.27913761138916\n",
      "3.2221131324768066\n",
      "3.615368366241455\n",
      "3.4295811653137207\n",
      "2.9294116497039795\n",
      "2.687605142593384\n",
      "2.5120930671691895\n",
      "2.986407995223999\n",
      "3.526397705078125\n",
      "3.8008599281311035\n",
      "3.3866004943847656\n",
      "3.0973572731018066\n",
      "2.607377529144287\n",
      "2.7822265625\n",
      "2.939596652984619\n",
      "3.5727481842041016\n",
      "3.160432815551758\n",
      "3.164600372314453\n",
      "2.9707107543945312\n",
      "3.203723907470703\n",
      "3.3117940425872803\n",
      "3.0337164402008057\n",
      "2.6281936168670654\n",
      "3.3585102558135986\n",
      "3.5327436923980713\n",
      "3.6393938064575195\n",
      "3.0687057971954346\n",
      "3.6291697025299072\n",
      "2.932837963104248\n",
      "3.2897777557373047\n",
      "3.3719990253448486\n",
      "3.1893672943115234\n",
      "3.2191004753112793\n",
      "2.908750534057617\n",
      "3.1991355419158936\n",
      "3.168170213699341\n",
      "2.972578525543213\n",
      "2.9738285541534424\n",
      "3.1505613327026367\n",
      "3.5689940452575684\n",
      "3.5099265575408936\n",
      "2.72523832321167\n",
      "3.156917095184326\n",
      "2.8165974617004395\n",
      "2.6803598403930664\n",
      "3.9000227451324463\n",
      "3.4976601600646973\n",
      "3.07248854637146\n",
      "2.6528637409210205\n",
      "2.9338808059692383\n",
      "4.227924346923828\n",
      "4.001802921295166\n",
      "3.8124141693115234\n",
      "3.3241586685180664\n",
      "2.791611909866333\n",
      "2.99522066116333\n",
      "3.054889678955078\n",
      "3.0918774604797363\n",
      "3.7149064540863037\n",
      "3.7911221981048584\n",
      "3.0390758514404297\n",
      "3.620305061340332\n",
      "3.5727434158325195\n",
      "3.2146949768066406\n",
      "3.675873279571533\n",
      "3.531334638595581\n",
      "3.624763250350952\n",
      "3.2992310523986816\n",
      "3.5118932723999023\n",
      "2.8996970653533936\n",
      "3.154391288757324\n",
      "3.3328394889831543\n",
      "2.8225789070129395\n",
      "4.351276874542236\n",
      "3.315037488937378\n",
      "2.9090206623077393\n",
      "3.240499496459961\n",
      "3.597135543823242\n",
      "3.483497142791748\n",
      "3.4057250022888184\n",
      "2.6571340560913086\n",
      "3.685411214828491\n",
      "3.640266180038452\n",
      "3.85101318359375\n",
      "3.2424376010894775\n",
      "4.2027459144592285\n",
      "4.086278915405273\n",
      "4.223011016845703\n",
      "2.7513580322265625\n",
      "3.833650588989258\n",
      "3.434279680252075\n",
      "3.5092625617980957\n",
      "2.766624927520752\n",
      "2.8187196254730225\n",
      "4.089524745941162\n",
      "3.7448976039886475\n",
      "3.578190326690674\n",
      "3.396756172180176\n",
      "2.7795746326446533\n",
      "3.123662233352661\n",
      "3.3168087005615234\n",
      "3.105106830596924\n",
      "3.009127140045166\n",
      "3.145796298980713\n",
      "4.824951171875\n",
      "4.7569732666015625\n",
      "4.341587543487549\n",
      "4.680410861968994\n",
      "3.6781694889068604\n",
      "4.301730632781982\n",
      "3.4567317962646484\n",
      "3.145174264907837\n",
      "3.10736083984375\n",
      "2.9568536281585693\n",
      "3.1634979248046875\n",
      "3.863076686859131\n",
      "3.7402758598327637\n",
      "3.29801082611084\n",
      "2.872659206390381\n",
      "3.765371322631836\n",
      "4.625547885894775\n",
      "4.0372700691223145\n",
      "4.024513244628906\n",
      "4.01084566116333\n",
      "3.9188928604125977\n",
      "3.4763641357421875\n",
      "3.8391616344451904\n",
      "4.823622226715088\n",
      "4.9982781410217285\n",
      "5.384854793548584\n",
      "3.5309083461761475\n",
      "3.442709445953369\n",
      "3.8865206241607666\n",
      "3.115485429763794\n",
      "4.09404182434082\n",
      "3.175708770751953\n",
      "3.22711181640625\n",
      "3.243051528930664\n",
      "2.735138177871704\n",
      "4.150335311889648\n",
      "5.247101783752441\n",
      "3.590689182281494\n",
      "3.4370901584625244\n",
      "3.452094078063965\n",
      "3.2827212810516357\n",
      "3.2245872020721436\n",
      "3.213590383529663\n"
     ]
    },
    {
     "name": "stdout",
     "output_type": "stream",
     "text": [
      "3.630906581878662\n",
      "2.9696946144104004\n",
      "4.161430835723877\n",
      "3.730231761932373\n",
      "3.868690013885498\n",
      "3.194136381149292\n",
      "3.3220791816711426\n",
      "4.360934734344482\n",
      "4.106793403625488\n",
      "5.171004295349121\n",
      "3.0118627548217773\n",
      "4.362172603607178\n",
      "3.502603769302368\n",
      "4.437659740447998\n",
      "4.595193862915039\n",
      "4.033870697021484\n",
      "3.8262197971343994\n",
      "4.639096260070801\n",
      "3.901691198348999\n",
      "3.888298988342285\n",
      "3.2452831268310547\n",
      "3.7845027446746826\n",
      "3.7348363399505615\n",
      "3.0689857006073\n",
      "3.90277361869812\n",
      "5.241991996765137\n",
      "4.470963001251221\n",
      "3.7664806842803955\n",
      "5.28788948059082\n",
      "4.535833358764648\n",
      "4.229496479034424\n",
      "4.384635925292969\n",
      "3.972421407699585\n",
      "4.902923107147217\n",
      "6.358883857727051\n",
      "6.705524921417236\n",
      "5.6446428298950195\n",
      "4.178385257720947\n",
      "4.426699638366699\n",
      "3.781223773956299\n",
      "3.9112415313720703\n",
      "4.060349941253662\n",
      "4.2830586433410645\n",
      "5.524772644042969\n",
      "5.259648323059082\n",
      "4.2173237800598145\n",
      "5.399518013000488\n",
      "4.325415134429932\n",
      "4.970684051513672\n",
      "3.9998462200164795\n",
      "3.9684078693389893\n",
      "3.3907470703125\n",
      "4.436829090118408\n",
      "5.656671524047852\n",
      "4.958324909210205\n",
      "4.079792022705078\n",
      "4.0290141105651855\n",
      "4.998640537261963\n",
      "5.431457042694092\n",
      "4.168823719024658\n",
      "3.738797903060913\n",
      "3.8343734741210938\n",
      "4.477269649505615\n",
      "4.050661563873291\n",
      "3.730367422103882\n",
      "3.878838539123535\n",
      "6.970064640045166\n",
      "5.812727451324463\n",
      "5.049221515655518\n",
      "4.922780513763428\n",
      "5.145015716552734\n",
      "4.765951633453369\n",
      "4.620314121246338\n",
      "5.680387020111084\n",
      "4.267543315887451\n",
      "4.31624698638916\n",
      "3.9428977966308594\n",
      "3.0498745441436768\n",
      "6.017159461975098\n",
      "6.434939384460449\n",
      "5.468779563903809\n",
      "4.497758865356445\n",
      "3.5970757007598877\n",
      "4.319559097290039\n",
      "3.347492218017578\n",
      "4.839076995849609\n",
      "4.860562801361084\n",
      "5.428677082061768\n",
      "3.8884849548339844\n",
      "5.266687393188477\n",
      "4.778210639953613\n",
      "4.881263732910156\n",
      "4.22067928314209\n",
      "5.119368076324463\n",
      "4.703815460205078\n",
      "4.72486686706543\n",
      "6.0706305503845215\n",
      "5.633273601531982\n",
      "6.538621425628662\n",
      "5.436356544494629\n",
      "6.278679847717285\n",
      "4.329336166381836\n",
      "3.7774782180786133\n",
      "4.164252758026123\n",
      "6.971314907073975\n",
      "5.602388381958008\n",
      "4.772283554077148\n",
      "4.994348526000977\n",
      "7.289769172668457\n",
      "9.98782730102539\n",
      "6.807603359222412\n",
      "8.552725791931152\n",
      "5.147251129150391\n",
      "6.06674861907959\n",
      "7.669902324676514\n",
      "7.331614971160889\n",
      "8.021994590759277\n",
      "5.792166709899902\n",
      "4.60596227645874\n",
      "6.978673458099365\n",
      "6.407820701599121\n",
      "8.825156211853027\n",
      "7.465081214904785\n",
      "6.612854480743408\n",
      "5.066993236541748\n",
      "5.9395270347595215\n",
      "4.903018474578857\n",
      "5.968517780303955\n",
      "8.627725601196289\n",
      "10.300820350646973\n",
      "5.305963039398193\n",
      "5.196686267852783\n",
      "3.7672977447509766\n",
      "4.645609378814697\n",
      "4.514785289764404\n",
      "6.212279319763184\n",
      "6.472995758056641\n",
      "5.758500099182129\n",
      "6.24005126953125\n",
      "4.670811176300049\n",
      "5.0338969230651855\n",
      "4.521677017211914\n",
      "7.090004920959473\n",
      "5.52532958984375\n",
      "5.041680812835693\n",
      "4.576239585876465\n",
      "6.297037124633789\n",
      "7.06141996383667\n",
      "8.153596878051758\n",
      "6.269101619720459\n",
      "4.489170074462891\n",
      "6.077759265899658\n",
      "4.605710983276367\n",
      "5.911746978759766\n",
      "6.331729412078857\n",
      "6.862658500671387\n",
      "7.751101493835449\n",
      "5.378490924835205\n",
      "7.09102725982666\n",
      "6.7227253913879395\n",
      "5.3364338874816895\n",
      "9.012401580810547\n",
      "9.31143569946289\n",
      "8.500335693359375\n",
      "8.256902694702148\n",
      "8.399236679077148\n",
      "5.119709014892578\n",
      "5.480759620666504\n",
      "7.928191184997559\n",
      "6.713683128356934\n",
      "5.200507164001465\n",
      "8.309322357177734\n",
      "11.367120742797852\n",
      "10.385361671447754\n",
      "10.048827171325684\n",
      "9.032754898071289\n",
      "9.218685150146484\n",
      "10.775890350341797\n"
     ]
    }
   ],
   "source": [
    "# Mini-batch GD\n",
    "epoch = 1000\n",
    "batch_size = 32\n",
    "lri = []\n",
    "lossi = []\n",
    "for i in range(epoch):\n",
    "    # construct mini-batch\n",
    "    ixs = torch.randint(0,X.shape[0],(batch_size,))\n",
    "    mini_batch = X[ixs,:]\n",
    "    mini_batch_y = Y[ixs]\n",
    "    \n",
    "    # forward pass\n",
    "    emb = C[mini_batch]\n",
    "    h = torch.tanh(emb.view(-1,6) @ W1+b1)\n",
    "    logits = h @ W2 + b2\n",
    "    loss = F.cross_entropy(logits, mini_batch_y)\n",
    "    print(loss.item())\n",
    "    \n",
    "    #backward pass\n",
    "    for p in parameters:\n",
    "        p.grad = None\n",
    "    loss.backward()\n",
    "    \n",
    "    #update\n",
    "    lr = lrs[i]\n",
    "    for p in parameters:\n",
    "        p.data += -lr * p.grad\n",
    "    \n",
    "    # track stats\n",
    "    lri.append(lr)\n",
    "    lossi.append(loss.item())"
   ]
  },
  {
   "cell_type": "code",
   "execution_count": 149,
   "id": "7bacd11e",
   "metadata": {},
   "outputs": [
    {
     "data": {
      "text/plain": [
       "[<matplotlib.lines.Line2D at 0x126d49d10>]"
      ]
     },
     "execution_count": 149,
     "metadata": {},
     "output_type": "execute_result"
    },
    {
     "data": {
      "image/png": "[encoded data removed]",
      "text/plain": [
       "<Figure size 640x480 with 1 Axes>"
      ]
     },
     "metadata": {},
     "output_type": "display_data"
    }
   ],
   "source": [
    "plt.plot(lri,lossi)"
   ]
  },
  {
   "cell_type": "code",
   "execution_count": 150,
   "id": "20530d91",
   "metadata": {},
   "outputs": [
    {
     "data": {
      "text/plain": [
       "[<matplotlib.lines.Line2D at 0x1280752d0>]"
      ]
     },
     "execution_count": 150,
     "metadata": {},
     "output_type": "execute_result"
    },
    {
     "data": {
      "image/png": "[encoded data removed]",
      "text/plain": [
       "<Figure size 640x480 with 1 Axes>"
      ]
     },
     "metadata": {},
     "output_type": "display_data"
    }
   ],
   "source": [
    "# 10**-1 was actually good\n",
    "plt.plot(np.log10(lri),lossi)"
   ]
  },
  {
   "cell_type": "code",
   "execution_count": null,
   "id": "7d42f8ca",
   "metadata": {},
   "outputs": [],
   "source": [
    "0.1 "
   ]
  },
  {
   "cell_type": "markdown",
   "id": "31f2bc5c",
   "metadata": {},
   "source": [
    "**Observations**\n",
    "\n",
    "- Beginning was too low\n",
    "- Then around somewhere it started getting too big and got unstable\n",
    "- Pick the region where it was consistent\n",
    "- Good lr is on the consistent region"
   ]
  },
  {
   "cell_type": "markdown",
   "id": "5094d3f1",
   "metadata": {},
   "source": [
    "## Lets crank up the iterations and do it again"
   ]
  },
  {
   "cell_type": "code",
   "execution_count": 151,
   "id": "0d49b3c5",
   "metadata": {},
   "outputs": [],
   "source": [
    "g = torch.Generator().manual_seed(2147483647)\n",
    "W1 = torch.randn((6,100))\n",
    "b1 = torch.randn(100)\n",
    "W2 = torch.randn((100,27))\n",
    "b2 = torch.randn(27)\n",
    "parameters = [C,W1,b1,W2,b2]"
   ]
  },
  {
   "cell_type": "code",
   "execution_count": 152,
   "id": "9243d610",
   "metadata": {},
   "outputs": [],
   "source": [
    "for p in parameters:\n",
    "    p.requires_grad= True"
   ]
  },
  {
   "cell_type": "code",
   "execution_count": 159,
   "id": "775050f0",
   "metadata": {},
   "outputs": [],
   "source": [
    "# Mini-batch GD\n",
    "epoch = 50000\n",
    "batch_size = 32\n",
    "for _ in range(epoch):\n",
    "    # construct mini-batch\n",
    "    ixs = torch.randint(0,X.shape[0],(batch_size,))\n",
    "    mini_batch = X[ixs,:]\n",
    "    mini_batch_y = Y[ixs]\n",
    "    \n",
    "    # forward pass\n",
    "    emb = C[mini_batch]\n",
    "    h = torch.tanh(emb.view(-1,6) @ W1+b1)\n",
    "    logits = h @ W2 + b2\n",
    "    loss = F.cross_entropy(logits, mini_batch_y)\n",
    "    \n",
    "    #backward pass\n",
    "    for p in parameters:\n",
    "        p.grad = None\n",
    "    loss.backward()\n",
    "    \n",
    "    #update\n",
    "    l_r = 0.01\n",
    "    for p in parameters:\n",
    "        p.data += - l_r* p.grad\n"
   ]
  },
  {
   "cell_type": "code",
   "execution_count": 160,
   "id": "541022a1",
   "metadata": {},
   "outputs": [
    {
     "data": {
      "text/plain": [
       "2.2805490493774414"
      ]
     },
     "execution_count": 160,
     "metadata": {},
     "output_type": "execute_result"
    }
   ],
   "source": [
    "emb = C[X]\n",
    "h = torch.tanh(emb.view(-1,6) @ W1+b1)\n",
    "logits = h @ W2 + b2\n",
    "loss = F.cross_entropy(logits, Y)\n",
    "loss.item()"
   ]
  },
  {
   "cell_type": "code",
   "execution_count": null,
   "id": "2caaa7cc",
   "metadata": {},
   "outputs": [],
   "source": [
    "# Then lets decay the learning rate after 30k iterations\n",
    "# We already surpassed the bigram error which was 2.45"
   ]
  },
  {
   "cell_type": "markdown",
   "id": "f9c535b8",
   "metadata": {},
   "source": [
    "### Overfitting \n",
    "\n",
    "- We already surpassed the bigram error which was 2.45\n",
    "- But this doesnt mean that our model is actually better\n",
    "- Since we have 3481 parameters, it is easier to overfit\n",
    "- Better approach is to have a train/dev/test split\n",
    "- Evaluate hyperparam changes on the dev set \n",
    "- Compare results on test set (compare with other model)\n",
    "- Do the last comparison sparingly because we would overfit to test set"
   ]
  },
  {
   "cell_type": "markdown",
   "id": "3a798ae0",
   "metadata": {},
   "source": [
    "## Data Splitting\n"
   ]
  },
  {
   "cell_type": "code",
   "execution_count": 161,
   "id": "c8f0dbfb",
   "metadata": {},
   "outputs": [
    {
     "name": "stdout",
     "output_type": "stream",
     "text": [
      "torch.Size([182625, 3]) torch.Size([182625])\n",
      "torch.Size([22655, 3]) torch.Size([22655])\n",
      "torch.Size([22866, 3]) torch.Size([22866])\n"
     ]
    }
   ],
   "source": [
    "# build dataset\n",
    "\n",
    "def build_dataset(words):\n",
    "    block_size = 3 # context length\n",
    "\n",
    "    X,Y = [], []\n",
    "    for w in words:\n",
    "        context = [0]*block_size\n",
    "        for ch in w + '.':\n",
    "            ix = stoi[ch]\n",
    "            X.append(context)\n",
    "            Y.append(ix)\n",
    "            context = context[1:] + [ix] # crop and append\n",
    "\n",
    "    X = torch.tensor(X)\n",
    "    Y = torch.tensor(Y)\n",
    "    print(X.shape,Y.shape)\n",
    "    return X,Y\n",
    "\n",
    "#random shuffling\n",
    "import random\n",
    "random.seed(42)\n",
    "random.shuffle(words)\n",
    "n1 = int(0.8*len(words))\n",
    "n2 = int(0.9*len(words))\n",
    "\n",
    "Xtr,Ytr = build_dataset(words[:n1]) # 80%\n",
    "Xdev,Ydev = build_dataset(words[n1:n2]) # 10%\n",
    "Xte,Yte = build_dataset(words[n2:]) # 10%\n"
   ]
  },
  {
   "cell_type": "code",
   "execution_count": 162,
   "id": "635d567e",
   "metadata": {},
   "outputs": [
    {
     "data": {
      "text/plain": [
       "True"
      ]
     },
     "execution_count": 162,
     "metadata": {},
     "output_type": "execute_result"
    }
   ],
   "source": [
    "torch.cat([Xtr,Xdev,Xte],dim=0).shape == X.shape"
   ]
  },
  {
   "cell_type": "code",
   "execution_count": 163,
   "id": "0525e9bb",
   "metadata": {},
   "outputs": [],
   "source": [
    "g = torch.Generator().manual_seed(2147483647)\n",
    "W1 = torch.randn((6,100))\n",
    "b1 = torch.randn(100)\n",
    "W2 = torch.randn((100,27))\n",
    "b2 = torch.randn(27)\n",
    "parameters = [C,W1,b1,W2,b2]"
   ]
  },
  {
   "cell_type": "code",
   "execution_count": 165,
   "id": "abe9ce0c",
   "metadata": {},
   "outputs": [],
   "source": [
    "for p in parameters:\n",
    "    p.requires_grad= True"
   ]
  },
  {
   "cell_type": "code",
   "execution_count": 169,
   "id": "a774b8a1",
   "metadata": {},
   "outputs": [
    {
     "name": "stdout",
     "output_type": "stream",
     "text": [
      "2.6261894702911377\n"
     ]
    }
   ],
   "source": [
    "# Mini-batch GD\n",
    "# Only train on Xtr\n",
    "epoch = 10000\n",
    "batch_size = 32\n",
    "for _ in range(epoch):\n",
    "    # construct mini-batch\n",
    "    ixs = torch.randint(0,Xtr.shape[0],(batch_size,))\n",
    "    mini_batch = Xtr[ixs,:]\n",
    "    mini_batch_y = Ytr[ixs]\n",
    "    \n",
    "    # forward pass\n",
    "    emb = C[mini_batch]\n",
    "    h = torch.tanh(emb.view(-1,6) @ W1+b1)\n",
    "    logits = h @ W2 + b2\n",
    "    loss = F.cross_entropy(logits, mini_batch_y)\n",
    "    \n",
    "    #backward pass\n",
    "    for p in parameters:\n",
    "        p.grad = None\n",
    "        \n",
    "    loss.backward()\n",
    "    \n",
    "    #update\n",
    "    l_r = 0.1\n",
    "    for p in parameters:\n",
    "        p.data += - l_r* p.grad\n",
    "print(loss.item())"
   ]
  },
  {
   "cell_type": "code",
   "execution_count": 170,
   "id": "ccca8f3f",
   "metadata": {},
   "outputs": [
    {
     "data": {
      "text/plain": [
       "2.480919361114502"
      ]
     },
     "execution_count": 170,
     "metadata": {},
     "output_type": "execute_result"
    }
   ],
   "source": [
    "emb = C[Xdev]\n",
    "h = torch.tanh(emb.view(-1,6) @ W1+b1)\n",
    "logits = h @ W2 + b2\n",
    "loss = F.cross_entropy(logits, Ydev)\n",
    "loss.item()"
   ]
  },
  {
   "cell_type": "code",
   "execution_count": 171,
   "id": "6525e1cb",
   "metadata": {},
   "outputs": [
    {
     "data": {
      "text/plain": [
       "2.4899253845214844"
      ]
     },
     "execution_count": 171,
     "metadata": {},
     "output_type": "execute_result"
    }
   ],
   "source": [
    "emb = C[Xtr]\n",
    "h = torch.tanh(emb.view(-1,6) @ W1+b1)\n",
    "logits = h @ W2 + b2\n",
    "loss = F.cross_entropy(logits, Ytr)\n",
    "loss.item()"
   ]
  },
  {
   "cell_type": "code",
   "execution_count": null,
   "id": "61b997aa",
   "metadata": {},
   "outputs": [],
   "source": [
    "0.1 "
   ]
  },
  {
   "cell_type": "markdown",
   "id": "669ed599",
   "metadata": {},
   "source": [
    "### Underfitting\n",
    "\n",
    "Bias (training error) vs Variance (training error vs dev error) tradeoff.\n",
    "\n",
    "- High Bias Low Variance (underfitting)\n",
    "- Low Bias High Variance (overfitting)\n",
    "- Low bias low variance\n",
    "\n",
    "\n",
    "\n",
    ".\n",
    "\n",
    "- Our training loss is big 2.34\n",
    "- But our dev and train losses are quite similar (low variance)\n",
    "- This means we are definitely underfitting (high bias)\n",
    "- We can solve this by scaling up the size of the network"
   ]
  },
  {
   "cell_type": "code",
   "execution_count": 194,
   "id": "1bdb6813",
   "metadata": {},
   "outputs": [],
   "source": [
    "hidden_size = 200\n",
    "g = torch.Generator().manual_seed(2147483647)\n",
    "C = torch.randn((27,10), generator=g)\n",
    "W1 = torch.randn((30,hidden_size), generator=g)\n",
    "b1 = torch.randn(hidden_size, generator=g)\n",
    "W2 = torch.randn((hidden_size,27), generator=g)\n",
    "b2 = torch.randn(27, generator=g)\n",
    "parameters = [C,W1,b1,W2,b2]\n",
    "for p in parameters:\n",
    "    p.requires_grad= True"
   ]
  },
  {
   "cell_type": "code",
   "execution_count": 195,
   "id": "2e66330a",
   "metadata": {},
   "outputs": [
    {
     "data": {
      "text/plain": [
       "11897"
      ]
     },
     "execution_count": 195,
     "metadata": {},
     "output_type": "execute_result"
    }
   ],
   "source": [
    "sum(p.nelement() for p in parameters)"
   ]
  },
  {
   "cell_type": "code",
   "execution_count": 196,
   "id": "3fd0cefb",
   "metadata": {},
   "outputs": [],
   "source": [
    "stepi = []\n",
    "lossi = []"
   ]
  },
  {
   "cell_type": "code",
   "execution_count": 197,
   "id": "20600f05",
   "metadata": {},
   "outputs": [
    {
     "name": "stdout",
     "output_type": "stream",
     "text": [
      "2.571397066116333\n"
     ]
    }
   ],
   "source": [
    "# Mini-batch GD\n",
    "# Only train on Xtr\n",
    "epoch = 50000\n",
    "batch_size = 32\n",
    "for i in range(epoch):\n",
    "    # construct mini-batch\n",
    "    ixs = torch.randint(0,Xtr.shape[0],(batch_size,))\n",
    "    mini_batch = Xtr[ixs,:]\n",
    "    mini_batch_y = Ytr[ixs]\n",
    "    \n",
    "    # forward pass\n",
    "    emb = C[mini_batch]\n",
    "    h = torch.tanh(emb.view(-1,30) @ W1+b1)\n",
    "    logits = h @ W2 + b2\n",
    "    loss = F.cross_entropy(logits, mini_batch_y)\n",
    "    \n",
    "    #backward pass\n",
    "    for p in parameters:\n",
    "        p.grad = None\n",
    "        \n",
    "    loss.backward()\n",
    "    \n",
    "    #update\n",
    "    l_r = 0.01\n",
    "    for p in parameters:\n",
    "        p.data += - l_r* p.grad\n",
    "        \n",
    "    # track stats\n",
    "    stepi.append(i)\n",
    "    lossi.append(loss.log10().item())\n",
    "print(loss.item())"
   ]
  },
  {
   "cell_type": "code",
   "execution_count": 198,
   "id": "278b4020",
   "metadata": {},
   "outputs": [
    {
     "data": {
      "text/plain": [
       "[<matplotlib.lines.Line2D at 0x1294aa950>]"
      ]
     },
     "execution_count": 198,
     "metadata": {},
     "output_type": "execute_result"
    },
    {
     "data": {
      "image/png": "[encoded data removed]",
      "text/plain": [
       "<Figure size 640x480 with 1 Axes>"
      ]
     },
     "metadata": {},
     "output_type": "display_data"
    }
   ],
   "source": [
    "# noisy due to mini-batch\n",
    "# increasing batch size would help us remove the mini-batch noise\n",
    "plt.plot(stepi,lossi)"
   ]
  },
  {
   "cell_type": "code",
   "execution_count": 188,
   "id": "c40e3b0a",
   "metadata": {},
   "outputs": [
    {
     "data": {
      "text/plain": [
       "2.1826791763305664"
      ]
     },
     "execution_count": 188,
     "metadata": {},
     "output_type": "execute_result"
    }
   ],
   "source": [
    "# dev eval\n",
    "emb = C[Xdev]\n",
    "h = torch.tanh(emb.view(-1,30) @ W1+b1)\n",
    "logits = h @ W2 + b2\n",
    "loss = F.cross_entropy(logits, Ydev)\n",
    "loss.item()"
   ]
  },
  {
   "cell_type": "code",
   "execution_count": 189,
   "id": "145f9aa0",
   "metadata": {},
   "outputs": [
    {
     "data": {
      "text/plain": [
       "2.154010772705078"
      ]
     },
     "execution_count": 189,
     "metadata": {},
     "output_type": "execute_result"
    }
   ],
   "source": [
    "# train eval\n",
    "emb = C[Xtr]\n",
    "h = torch.tanh(emb.view(-1,30) @ W1+b1)\n",
    "logits = h @ W2 + b2\n",
    "loss = F.cross_entropy(logits, Ytr)\n",
    "loss.item()"
   ]
  },
  {
   "cell_type": "markdown",
   "id": "4b05439e",
   "metadata": {},
   "source": [
    "- Another point is that maybe embedding dim is too low\n",
    "- Might consider increasing that as well"
   ]
  },
  {
   "cell_type": "code",
   "execution_count": 192,
   "id": "db8f58a3",
   "metadata": {},
   "outputs": [
    {
     "data": {
      "text/plain": [
       "torch.Size([27, 10])"
      ]
     },
     "execution_count": 192,
     "metadata": {},
     "output_type": "execute_result"
    }
   ],
   "source": [
    "C.shape"
   ]
  },
  {
   "cell_type": "code",
   "execution_count": 193,
   "id": "edd4c7a6",
   "metadata": {},
   "outputs": [
    {
     "data": {
      "image/png": "[encoded data removed]",
      "text/plain": [
       "<Figure size 800x800 with 1 Axes>"
      ]
     },
     "metadata": {},
     "output_type": "display_data"
    }
   ],
   "source": [
    "# visualize dimensions 0 and 1 of the embedding matrix C for all characters\n",
    "plt.figure(figsize=(8,8))\n",
    "x_dim = 0\n",
    "y_dim = 1\n",
    "plt.scatter(C[:,x_dim].data, C[:,y_dim].data, s=200)\n",
    "for i in range(C.shape[0]):\n",
    "    plt.text(C[i,x_dim].item(), C[i,y_dim].item(), itos[i], ha=\"center\", va=\"center\", color='white')\n",
    "plt.grid('minor')"
   ]
  },
  {
   "cell_type": "markdown",
   "id": "43da5914",
   "metadata": {},
   "source": [
    "**Observations**\n",
    "- See that vowels nicely clustered together!!!\n",
    "- q is unique\n",
    "- . is separate"
   ]
  },
  {
   "cell_type": "markdown",
   "id": "af9b7f1d",
   "metadata": {},
   "source": [
    "- Last thing we try is we moved embedding dim from 2 to 10. \n",
    "- Learning rate decay is also done manually several times \n",
    "- See if we improve the final performance"
   ]
  },
  {
   "cell_type": "markdown",
   "id": "5426a4f3",
   "metadata": {},
   "source": [
    "### Overfit \n",
    "- Now our model is larger \n",
    "- We might start seeing train loss is getting separated from dev loss\n",
    "- This is a sign that finally we have enough capacity to overfit.\n",
    "\n",
    "\n",
    "**Things to improve perf.**\n",
    "\n",
    "- block size different\n",
    "- embedding size different\n",
    "- How long we run\n",
    "- hidden size\n",
    "- batch size\n",
    "- learning rate.\n",
    "\n",
    "\n",
    "### Challenge\n",
    "\n",
    "Try to beat the 2.13 dev score  achieved about.\n"
   ]
  },
  {
   "cell_type": "markdown",
   "id": "7c5f2440",
   "metadata": {},
   "source": [
    "### Finally\n",
    "\n",
    "Sample from the model"
   ]
  },
  {
   "cell_type": "code",
   "execution_count": 291,
   "id": "dea63b21",
   "metadata": {},
   "outputs": [
    {
     "name": "stdout",
     "output_type": "stream",
     "text": [
      "mora.\n",
      "kayah.\n",
      "seel.\n",
      "nihah.\n",
      "larethruthng.\n",
      "leg.\n",
      "adelyn.\n",
      "elin.\n",
      "shy.\n",
      "jenne.\n",
      "elissopharleilyn.\n",
      "houra.\n",
      "noshuberglairiel.\n",
      "kin.\n",
      "renlynn.\n",
      "nopulfy.\n",
      "brence.\n",
      "ryylene.\n",
      "elsyn.\n",
      "ajahshournihia.\n"
     ]
    }
   ],
   "source": [
    "# Sample from the trained model\n",
    "g = torch.Generator().manual_seed(2147483647 + 10)\n",
    "\n",
    "for _ in range(20):\n",
    "    out = []\n",
    "    context = [0] * block_size # initialize with all ...\n",
    "    while True:\n",
    "        emb = C[torch.tensor([context])] # (1,block_size,d)\n",
    "        h = torch.tanh(emb.view(1, -1) @ W1 + b1)\n",
    "        logits = h @ W2 + b2\n",
    "        probs = F.softmax(logits, dim=1)\n",
    "        ix = torch.multinomial(probs, num_samples=1, generator=g).item()\n",
    "        context = context[1:] + [ix]\n",
    "        out.append(ix)\n",
    "        if ix == 0:\n",
    "            break\n",
    "    \n",
    "    print(''.join(itos[i] for i in out))"
   ]
  },
  {
   "cell_type": "code",
   "execution_count": null,
   "id": "6554515f",
   "metadata": {},
   "outputs": [],
   "source": []
  },
  {
   "cell_type": "code",
   "execution_count": null,
   "id": "ce69c981",
   "metadata": {},
   "outputs": [],
   "source": []
  },
  {
   "cell_type": "code",
   "execution_count": null,
   "id": "eda6c9ff",
   "metadata": {},
   "outputs": [],
   "source": []
  },
  {
   "cell_type": "code",
   "execution_count": null,
   "id": "ccf2ff48",
   "metadata": {},
   "outputs": [],
   "source": []
  },
  {
   "cell_type": "code",
   "execution_count": null,
   "id": "ce967dc2",
   "metadata": {},
   "outputs": [],
   "source": []
  },
  {
   "cell_type": "code",
   "execution_count": null,
   "id": "166f6b2e",
   "metadata": {},
   "outputs": [],
   "source": []
  }
 ],
 "metadata": {
  "kernelspec": {
   "display_name": "venv-karpathy",
   "language": "python",
   "name": "venv-karpathy"
  },
  "language_info": {
   "codemirror_mode": {
    "name": "ipython",
    "version": 3
   },
   "file_extension": ".py",
   "mimetype": "text/x-python",
   "name": "python",
   "nbconvert_exporter": "python",
   "pygments_lexer": "ipython3",
   "version": "3.11.6"
  }
 },
 "nbformat": 4,
 "nbformat_minor": 5
}
