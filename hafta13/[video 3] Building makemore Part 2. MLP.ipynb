{
 "cells": [
  {
   "cell_type": "markdown",
   "id": "76c1d6b0",
   "metadata": {},
   "source": [
    "Reference MLP paper: https://www.jmlr.org/papers/volume3/bengio03a/bengio03a.pdf"
   ]
  },
  {
   "cell_type": "markdown",
   "id": "182fdf3c",
   "metadata": {},
   "source": [
    "- The vectors will start all randomly placed in the 30dim space.\n",
    "- As we train the model, it will learn the semantically similar words will get closer to each other.\n",
    "- This helps us to generalize to unseen cases. If we know cat-dog are similar and likewise for (a,the) we can generalize to many unseen words."
   ]
  },
  {
   "cell_type": "markdown",
   "id": "605e1648",
   "metadata": {},
   "source": [
    "#### Go over the neural architecture diagram\n",
    "- Input: some context window of words\n",
    "- The lookup table is shared for all timestamps\n",
    "- Some number of hidden units (hyperparam) with tanh activation\n",
    "- Softmax at the latest layer to predict the next word\n",
    "- During training, maximize the probability of the next words\n",
    "- Learned through backprop\n",
    "- Ignore the residual connections!"
   ]
  },
  {
   "cell_type": "code",
   "execution_count": 177,
   "id": "7256e536",
   "metadata": {},
   "outputs": [],
   "source": [
    "# imports\n",
    "import torch\n",
    "import torch.nn.functional as F\n",
    "import matplotlib.pyplot as plt\n",
    "import numpy as np\n",
    "%matplotlib inline"
   ]
  },
  {
   "cell_type": "code",
   "execution_count": 2,
   "id": "20548ae9",
   "metadata": {},
   "outputs": [
    {
     "data": {
      "text/plain": [
       "['emma', 'olivia', 'ava', 'isabella', 'sophia', 'charlotte', 'mia', 'amelia']"
      ]
     },
     "execution_count": 2,
     "metadata": {},
     "output_type": "execute_result"
    }
   ],
   "source": [
    "# read all words\n",
    "words = open('../assets/names.txt','r').read().splitlines()\n",
    "words[:8]"
   ]
  },
  {
   "cell_type": "code",
   "execution_count": 3,
   "id": "a2a25c19",
   "metadata": {},
   "outputs": [
    {
     "data": {
      "text/plain": [
       "32033"
      ]
     },
     "execution_count": 3,
     "metadata": {},
     "output_type": "execute_result"
    }
   ],
   "source": [
    "len(words)"
   ]
  },
  {
   "cell_type": "code",
   "execution_count": 4,
   "id": "64cf592f",
   "metadata": {},
   "outputs": [
    {
     "name": "stdout",
     "output_type": "stream",
     "text": [
      "{1: 'a', 2: 'b', 3: 'c', 4: 'd', 5: 'e', 6: 'f', 7: 'g', 8: 'h', 9: 'i', 10: 'j', 11: 'k', 12: 'l', 13: 'm', 14: 'n', 15: 'o', 16: 'p', 17: 'q', 18: 'r', 19: 's', 20: 't', 21: 'u', 22: 'v', 23: 'w', 24: 'x', 25: 'y', 26: 'z', 0: '.'}\n"
     ]
    }
   ],
   "source": [
    "special_char = '.'\n",
    "chars = sorted(list(set(''.join(words))))\n",
    "stoi = {s:i+1 for i,s in enumerate(chars)}\n",
    "stoi[special_char] = 0\n",
    "itos = {i:s for s,i in stoi.items()}\n",
    "print(itos)"
   ]
  },
  {
   "cell_type": "markdown",
   "id": "dc4a416f",
   "metadata": {},
   "source": [
    "### Build the dataset\n",
    "Explain what is Y and block size"
   ]
  },
  {
   "cell_type": "code",
   "execution_count": 11,
   "id": "669324b2",
   "metadata": {
    "scrolled": true
   },
   "outputs": [
    {
     "name": "stdout",
     "output_type": "stream",
     "text": [
      "emma\n",
      "... ---> e\n",
      "..e ---> m\n",
      ".em ---> m\n",
      "emm ---> a\n",
      "mma ---> .\n",
      "olivia\n",
      "... ---> o\n",
      "..o ---> l\n",
      ".ol ---> i\n",
      "oli ---> v\n",
      "liv ---> i\n",
      "ivi ---> a\n",
      "via ---> .\n",
      "ava\n",
      "... ---> a\n",
      "..a ---> v\n",
      ".av ---> a\n",
      "ava ---> .\n",
      "isabella\n",
      "... ---> i\n",
      "..i ---> s\n",
      ".is ---> a\n",
      "isa ---> b\n",
      "sab ---> e\n",
      "abe ---> l\n",
      "bel ---> l\n",
      "ell ---> a\n",
      "lla ---> .\n",
      "sophia\n",
      "... ---> s\n",
      "..s ---> o\n",
      ".so ---> p\n",
      "sop ---> h\n",
      "oph ---> i\n",
      "phi ---> a\n",
      "hia ---> .\n"
     ]
    }
   ],
   "source": [
    "block_size = 3 # context length\n",
    "\n",
    "X,Y = [], []\n",
    "for w in words[:5]:\n",
    "    \n",
    "    print(w)\n",
    "    context = [0]*block_size\n",
    "    for ch in w + '.':\n",
    "        ix = stoi[ch]\n",
    "        X.append(context)\n",
    "        Y.append(ix)\n",
    "        print(''.join(itos[i] for i in context), '--->',itos[ix])\n",
    "        context = context[1:] + [ix] # crop and append\n",
    "        \n",
    "X = torch.tensor(X)\n",
    "Y = torch.tensor(Y)"
   ]
  },
  {
   "cell_type": "code",
   "execution_count": 13,
   "id": "7f6c711b",
   "metadata": {},
   "outputs": [
    {
     "data": {
      "text/plain": [
       "(torch.Size([32, 3]), torch.int64, torch.Size([32]), torch.int64)"
      ]
     },
     "execution_count": 13,
     "metadata": {},
     "output_type": "execute_result"
    }
   ],
   "source": [
    "X.shape, X.dtype, Y.shape, Y.dtype"
   ]
  },
  {
   "cell_type": "code",
   "execution_count": 16,
   "id": "2f54c6e2",
   "metadata": {},
   "outputs": [],
   "source": [
    "output_dim = 2 #acceptable since we only have 27 chars in our model\n",
    "vocab_size = 27\n",
    "C = torch.randn((vocab_size,output_dim))\n"
   ]
  },
  {
   "cell_type": "code",
   "execution_count": 17,
   "id": "326d75c1",
   "metadata": {},
   "outputs": [
    {
     "data": {
      "text/plain": [
       "tensor([ 1.1187, -0.2084])"
      ]
     },
     "execution_count": 17,
     "metadata": {},
     "output_type": "execute_result"
    }
   ],
   "source": [
    "# How to access\n",
    "C[5]"
   ]
  },
  {
   "cell_type": "code",
   "execution_count": 30,
   "id": "a1220aca",
   "metadata": {},
   "outputs": [],
   "source": [
    "# One-hot\n",
    "# remember casting to float\n",
    "index = F.one_hot(torch.tensor(5),num_classes=vocab_size).float()"
   ]
  },
  {
   "cell_type": "code",
   "execution_count": 31,
   "id": "5cb268ca",
   "metadata": {},
   "outputs": [
    {
     "data": {
      "text/plain": [
       "tensor([0., 0., 0., 0., 0., 1., 0., 0., 0., 0., 0., 0., 0., 0., 0., 0., 0., 0.,\n",
       "        0., 0., 0., 0., 0., 0., 0., 0., 0.])"
      ]
     },
     "execution_count": 31,
     "metadata": {},
     "output_type": "execute_result"
    }
   ],
   "source": [
    "index"
   ]
  },
  {
   "cell_type": "code",
   "execution_count": 33,
   "id": "387d58e3",
   "metadata": {},
   "outputs": [
    {
     "data": {
      "text/plain": [
       "tensor([ 1.1187, -0.2084])"
      ]
     },
     "execution_count": 33,
     "metadata": {},
     "output_type": "execute_result"
    }
   ],
   "source": [
    "#identical \n",
    "index @ C "
   ]
  },
  {
   "cell_type": "markdown",
   "id": "2c9f70b9",
   "metadata": {},
   "source": [
    "Since it is the same thing, we will basically index and discard the one-hot approach."
   ]
  },
  {
   "cell_type": "code",
   "execution_count": 35,
   "id": "6eb4cf56",
   "metadata": {},
   "outputs": [
    {
     "data": {
      "text/plain": [
       "tensor([[ 2.9992, -1.2235],\n",
       "        [ 0.4842,  0.3169],\n",
       "        [ 0.7539, -1.5278],\n",
       "        [ 0.7539, -1.5278],\n",
       "        [ 0.7539, -1.5278]])"
      ]
     },
     "execution_count": 35,
     "metadata": {},
     "output_type": "execute_result"
    }
   ],
   "source": [
    "# Pytorch indexing is highly flexible\n",
    "# It can be array as well\n",
    "C[torch.tensor([1,2,3,3,3])]"
   ]
  },
  {
   "cell_type": "code",
   "execution_count": 36,
   "id": "7f1dfc8d",
   "metadata": {},
   "outputs": [
    {
     "data": {
      "text/plain": [
       "torch.Size([32, 3, 2])"
      ]
     },
     "execution_count": 36,
     "metadata": {},
     "output_type": "execute_result"
    }
   ],
   "source": [
    "# We can even do this\n",
    "C[X].shape"
   ]
  },
  {
   "cell_type": "code",
   "execution_count": 37,
   "id": "4d75471f",
   "metadata": {},
   "outputs": [
    {
     "data": {
      "text/plain": [
       "tensor(1)"
      ]
     },
     "execution_count": 37,
     "metadata": {},
     "output_type": "execute_result"
    }
   ],
   "source": [
    "X[13,2]"
   ]
  },
  {
   "cell_type": "code",
   "execution_count": 38,
   "id": "f9878076",
   "metadata": {},
   "outputs": [
    {
     "data": {
      "text/plain": [
       "tensor([ 2.9992, -1.2235])"
      ]
     },
     "execution_count": 38,
     "metadata": {},
     "output_type": "execute_result"
    }
   ],
   "source": [
    "C[X][13,2]"
   ]
  },
  {
   "cell_type": "code",
   "execution_count": 39,
   "id": "63d38498",
   "metadata": {},
   "outputs": [
    {
     "data": {
      "text/plain": [
       "tensor([ 2.9992, -1.2235])"
      ]
     },
     "execution_count": 39,
     "metadata": {},
     "output_type": "execute_result"
    }
   ],
   "source": [
    "C[1]"
   ]
  },
  {
   "cell_type": "code",
   "execution_count": 40,
   "id": "0b681c28",
   "metadata": {},
   "outputs": [
    {
     "data": {
      "text/plain": [
       "torch.Size([32, 3, 2])"
      ]
     },
     "execution_count": 40,
     "metadata": {},
     "output_type": "execute_result"
    }
   ],
   "source": [
    "# Embed everything simultaneously\n",
    "emb = C[X]\n",
    "emb.shape"
   ]
  },
  {
   "cell_type": "code",
   "execution_count": 41,
   "id": "228fa2fc",
   "metadata": {},
   "outputs": [],
   "source": [
    "# initialize the model\n",
    "W1 = torch.randn((6, 100))\n",
    "b1 = torch.randn(100)"
   ]
  },
  {
   "cell_type": "code",
   "execution_count": 42,
   "id": "79553946",
   "metadata": {},
   "outputs": [],
   "source": [
    "# How to concat the three inputs so we can multiply with W\n",
    "# Maaaany ways to achieve this "
   ]
  },
  {
   "cell_type": "markdown",
   "id": "e3356349",
   "metadata": {},
   "source": [
    "one way: https://pytorch.org/docs/stable/generated/torch.cat.html#torch.cat "
   ]
  },
  {
   "cell_type": "code",
   "execution_count": 52,
   "id": "4014bd07",
   "metadata": {},
   "outputs": [
    {
     "data": {
      "text/plain": [
       "torch.Size([32, 6])"
      ]
     },
     "execution_count": 52,
     "metadata": {},
     "output_type": "execute_result"
    }
   ],
   "source": [
    "# Manual\n",
    "torch.cat([emb[:,0,:],emb[:,1,:],emb[:,2,:],],dim=1).shape"
   ]
  },
  {
   "cell_type": "code",
   "execution_count": 53,
   "id": "5da8629b",
   "metadata": {},
   "outputs": [],
   "source": [
    "# Generalized way\n",
    "# Use unbind which removes a tensor dimension"
   ]
  },
  {
   "cell_type": "markdown",
   "id": "15362287",
   "metadata": {},
   "source": [
    "https://pytorch.org/docs/stable/generated/torch.unbind.html#torch.unbind "
   ]
  },
  {
   "cell_type": "code",
   "execution_count": 54,
   "id": "693c0505",
   "metadata": {},
   "outputs": [
    {
     "data": {
      "text/plain": [
       "(tensor([1, 2]), tensor([2, 3]))"
      ]
     },
     "execution_count": 54,
     "metadata": {},
     "output_type": "execute_result"
    }
   ],
   "source": [
    "torch.unbind(torch.tensor([[1,2],[2,3]]))"
   ]
  },
  {
   "cell_type": "code",
   "execution_count": 56,
   "id": "6a87948b",
   "metadata": {},
   "outputs": [
    {
     "data": {
      "text/plain": [
       "torch.Size([32, 2])"
      ]
     },
     "execution_count": 56,
     "metadata": {},
     "output_type": "execute_result"
    }
   ],
   "source": [
    "torch.unbind(emb,dim=1)[0].shape"
   ]
  },
  {
   "cell_type": "code",
   "execution_count": 57,
   "id": "4a080763",
   "metadata": {},
   "outputs": [
    {
     "data": {
      "text/plain": [
       "3"
      ]
     },
     "execution_count": 57,
     "metadata": {},
     "output_type": "execute_result"
    }
   ],
   "source": [
    "len(torch.unbind(emb,dim=1))"
   ]
  },
  {
   "cell_type": "code",
   "execution_count": 58,
   "id": "0ec34692",
   "metadata": {},
   "outputs": [
    {
     "data": {
      "text/plain": [
       "torch.Size([32, 3, 2])"
      ]
     },
     "execution_count": 58,
     "metadata": {},
     "output_type": "execute_result"
    }
   ],
   "source": [
    "emb = C[X]\n",
    "emb.shape"
   ]
  },
  {
   "cell_type": "code",
   "execution_count": 59,
   "id": "e41225ac",
   "metadata": {},
   "outputs": [],
   "source": [
    "emb_ = torch.unbind(emb,dim=1)"
   ]
  },
  {
   "cell_type": "code",
   "execution_count": 60,
   "id": "3a0616b6",
   "metadata": {},
   "outputs": [
    {
     "data": {
      "text/plain": [
       "(3, torch.Size([32, 2]))"
      ]
     },
     "execution_count": 60,
     "metadata": {},
     "output_type": "execute_result"
    }
   ],
   "source": [
    "len(emb_),emb_[0].shape"
   ]
  },
  {
   "cell_type": "code",
   "execution_count": 61,
   "id": "6bd5e6a4",
   "metadata": {},
   "outputs": [],
   "source": [
    "con_emb_ = torch.cat(emb_,dim=1)"
   ]
  },
  {
   "cell_type": "code",
   "execution_count": 62,
   "id": "fb746a4e",
   "metadata": {},
   "outputs": [
    {
     "data": {
      "text/plain": [
       "torch.Size([32, 6])"
      ]
     },
     "execution_count": 62,
     "metadata": {},
     "output_type": "execute_result"
    }
   ],
   "source": [
    "con_emb_.shape"
   ]
  },
  {
   "cell_type": "code",
   "execution_count": 63,
   "id": "bb344555",
   "metadata": {},
   "outputs": [
    {
     "data": {
      "text/plain": [
       "tensor([ 0,  1,  2,  3,  4,  5,  6,  7,  8,  9, 10, 11, 12, 13, 14, 15, 16, 17])"
      ]
     },
     "execution_count": 63,
     "metadata": {},
     "output_type": "execute_result"
    }
   ],
   "source": [
    "# There is actually much more efficient way of doint this\n",
    "# Without swapping memories\n",
    "a = torch.arange(18)\n",
    "a"
   ]
  },
  {
   "cell_type": "code",
   "execution_count": 64,
   "id": "35735aa8",
   "metadata": {},
   "outputs": [
    {
     "data": {
      "text/plain": [
       "torch.Size([18])"
      ]
     },
     "execution_count": 64,
     "metadata": {},
     "output_type": "execute_result"
    }
   ],
   "source": [
    "a.shape"
   ]
  },
  {
   "cell_type": "code",
   "execution_count": 65,
   "id": "697a3b93",
   "metadata": {},
   "outputs": [
    {
     "data": {
      "text/plain": [
       "tensor([[ 0,  1],\n",
       "        [ 2,  3],\n",
       "        [ 4,  5],\n",
       "        [ 6,  7],\n",
       "        [ 8,  9],\n",
       "        [10, 11],\n",
       "        [12, 13],\n",
       "        [14, 15],\n",
       "        [16, 17]])"
      ]
     },
     "execution_count": 65,
     "metadata": {},
     "output_type": "execute_result"
    }
   ],
   "source": [
    "a.view(9,2)"
   ]
  },
  {
   "cell_type": "markdown",
   "id": "d653eca1",
   "metadata": {},
   "source": [
    "Extremely efficient because the underlying storage doesn't change!! \n",
    "We are only manipulating how this sequence is interpreted so we don't make any memory operations!! see `a.storage()`.\n",
    "\n",
    "Optional reading on this: http://blog.ezyang.com/2019/05/pytorch-internals/"
   ]
  },
  {
   "cell_type": "code",
   "execution_count": 68,
   "id": "049684a9",
   "metadata": {},
   "outputs": [
    {
     "data": {
      "text/plain": [
       " 0\n",
       " 1\n",
       " 2\n",
       " 3\n",
       " 4\n",
       " 5\n",
       " 6\n",
       " 7\n",
       " 8\n",
       " 9\n",
       " 10\n",
       " 11\n",
       " 12\n",
       " 13\n",
       " 14\n",
       " 15\n",
       " 16\n",
       " 17\n",
       "[torch.storage.TypedStorage(dtype=torch.int64, device=cpu) of size 18]"
      ]
     },
     "execution_count": 68,
     "metadata": {},
     "output_type": "execute_result"
    }
   ],
   "source": [
    "a.storage()"
   ]
  },
  {
   "cell_type": "code",
   "execution_count": 69,
   "id": "9d6995f4",
   "metadata": {},
   "outputs": [
    {
     "data": {
      "text/plain": [
       "torch.Size([32, 3, 2])"
      ]
     },
     "execution_count": 69,
     "metadata": {},
     "output_type": "execute_result"
    }
   ],
   "source": [
    "emb.shape"
   ]
  },
  {
   "cell_type": "code",
   "execution_count": 71,
   "id": "67e9c97e",
   "metadata": {},
   "outputs": [
    {
     "data": {
      "text/plain": [
       "tensor([[True, True, True, True, True, True],\n",
       "        [True, True, True, True, True, True],\n",
       "        [True, True, True, True, True, True],\n",
       "        [True, True, True, True, True, True],\n",
       "        [True, True, True, True, True, True],\n",
       "        [True, True, True, True, True, True],\n",
       "        [True, True, True, True, True, True],\n",
       "        [True, True, True, True, True, True],\n",
       "        [True, True, True, True, True, True],\n",
       "        [True, True, True, True, True, True],\n",
       "        [True, True, True, True, True, True],\n",
       "        [True, True, True, True, True, True],\n",
       "        [True, True, True, True, True, True],\n",
       "        [True, True, True, True, True, True],\n",
       "        [True, True, True, True, True, True],\n",
       "        [True, True, True, True, True, True],\n",
       "        [True, True, True, True, True, True],\n",
       "        [True, True, True, True, True, True],\n",
       "        [True, True, True, True, True, True],\n",
       "        [True, True, True, True, True, True],\n",
       "        [True, True, True, True, True, True],\n",
       "        [True, True, True, True, True, True],\n",
       "        [True, True, True, True, True, True],\n",
       "        [True, True, True, True, True, True],\n",
       "        [True, True, True, True, True, True],\n",
       "        [True, True, True, True, True, True],\n",
       "        [True, True, True, True, True, True],\n",
       "        [True, True, True, True, True, True],\n",
       "        [True, True, True, True, True, True],\n",
       "        [True, True, True, True, True, True],\n",
       "        [True, True, True, True, True, True],\n",
       "        [True, True, True, True, True, True]])"
      ]
     },
     "execution_count": 71,
     "metadata": {},
     "output_type": "execute_result"
    }
   ],
   "source": [
    "emb.view(32,6) == con_emb_"
   ]
  },
  {
   "cell_type": "code",
   "execution_count": 73,
   "id": "b543b53a",
   "metadata": {},
   "outputs": [
    {
     "data": {
      "text/plain": [
       "tensor([[[ 0,  1],\n",
       "         [ 2,  3],\n",
       "         [ 4,  5],\n",
       "         [ 6,  7]],\n",
       "\n",
       "        [[ 8,  9],\n",
       "         [10, 11],\n",
       "         [12, 13],\n",
       "         [14, 15]],\n",
       "\n",
       "        [[16, 17],\n",
       "         [18, 19],\n",
       "         [20, 21],\n",
       "         [22, 23]]])"
      ]
     },
     "execution_count": 73,
     "metadata": {},
     "output_type": "execute_result"
    }
   ],
   "source": [
    "a = torch.arange(24)\n",
    "a.view(3,4,2)"
   ]
  },
  {
   "cell_type": "code",
   "execution_count": 74,
   "id": "8de27fda",
   "metadata": {},
   "outputs": [
    {
     "data": {
      "text/plain": [
       "tensor([[ 0,  1,  2,  3],\n",
       "        [ 4,  5,  6,  7],\n",
       "        [ 8,  9, 10, 11],\n",
       "        [12, 13, 14, 15],\n",
       "        [16, 17, 18, 19],\n",
       "        [20, 21, 22, 23]])"
      ]
     },
     "execution_count": 74,
     "metadata": {},
     "output_type": "execute_result"
    }
   ],
   "source": [
    "a.view(6,4)"
   ]
  },
  {
   "cell_type": "code",
   "execution_count": 75,
   "id": "b0a5f29e",
   "metadata": {},
   "outputs": [],
   "source": [
    "# alternatively you can also use -1 for the first dim\n",
    "h = emb.view(emb.shape[0],6) @ W1 +b1"
   ]
  },
  {
   "cell_type": "code",
   "execution_count": 77,
   "id": "7ac4c515",
   "metadata": {},
   "outputs": [],
   "source": [
    "h = torch.tanh(h)"
   ]
  },
  {
   "cell_type": "code",
   "execution_count": 78,
   "id": "ad41beeb",
   "metadata": {},
   "outputs": [
    {
     "data": {
      "text/plain": [
       "torch.Size([32, 100])"
      ]
     },
     "execution_count": 78,
     "metadata": {},
     "output_type": "execute_result"
    }
   ],
   "source": [
    "h.shape"
   ]
  },
  {
   "cell_type": "code",
   "execution_count": 79,
   "id": "28024387",
   "metadata": {},
   "outputs": [],
   "source": [
    "# reminder about broadcasting of b1\n",
    "# 32, 100\n",
    "# (1) 100\n",
    "# to be safe you can also declare b1 as torch.randn((1,100))"
   ]
  },
  {
   "cell_type": "code",
   "execution_count": 80,
   "id": "4be33a7f",
   "metadata": {},
   "outputs": [],
   "source": [
    "W2 = torch.randn((100,27))\n",
    "b2 = torch.randn(27)"
   ]
  },
  {
   "cell_type": "code",
   "execution_count": 81,
   "id": "357daa11",
   "metadata": {},
   "outputs": [],
   "source": [
    "logits = h@ W2 +b2"
   ]
  },
  {
   "cell_type": "code",
   "execution_count": 82,
   "id": "9899753b",
   "metadata": {},
   "outputs": [
    {
     "data": {
      "text/plain": [
       "torch.Size([32, 27])"
      ]
     },
     "execution_count": 82,
     "metadata": {},
     "output_type": "execute_result"
    }
   ],
   "source": [
    "logits.shape"
   ]
  },
  {
   "cell_type": "code",
   "execution_count": 83,
   "id": "277498f5",
   "metadata": {},
   "outputs": [],
   "source": [
    "# exponentiate to get the fake counts\n",
    "counts = logits.exp()"
   ]
  },
  {
   "cell_type": "code",
   "execution_count": 87,
   "id": "6ec8435c",
   "metadata": {},
   "outputs": [],
   "source": [
    "# another broadcasting here\n",
    "prob = counts / counts.sum(1,keepdims=True)"
   ]
  },
  {
   "cell_type": "code",
   "execution_count": 89,
   "id": "db4ef3b7",
   "metadata": {},
   "outputs": [
    {
     "data": {
      "text/plain": [
       "torch.Size([32, 27])"
      ]
     },
     "execution_count": 89,
     "metadata": {},
     "output_type": "execute_result"
    }
   ],
   "source": [
    "prob.shape"
   ]
  },
  {
   "cell_type": "code",
   "execution_count": 92,
   "id": "96d26af4",
   "metadata": {},
   "outputs": [
    {
     "data": {
      "text/plain": [
       "tensor([4.4364e-08, 4.6486e-07, 6.0307e-09, 9.3952e-12, 4.2877e-03, 4.5098e-08,\n",
       "        2.2291e-07, 2.3784e-05, 2.3665e-10, 2.0776e-06, 8.2781e-07, 4.2196e-02,\n",
       "        1.8992e-05, 2.2370e-05, 1.5717e-03, 9.9949e-06, 3.0955e-07, 9.1311e-10,\n",
       "        2.2856e-03, 2.0201e-05, 2.7432e-08, 5.1033e-16, 6.4684e-11, 7.3463e-09,\n",
       "        1.0098e-13, 3.5404e-10, 4.9650e-08, 1.1677e-10, 1.3497e-03, 2.6709e-07,\n",
       "        1.0573e-05, 6.5300e-07])"
      ]
     },
     "execution_count": 92,
     "metadata": {},
     "output_type": "execute_result"
    }
   ],
   "source": [
    "#get probs for correct continuations\n",
    "# how to index it\n",
    "prob[torch.arange(32),Y]"
   ]
  },
  {
   "cell_type": "code",
   "execution_count": 93,
   "id": "faed2283",
   "metadata": {},
   "outputs": [
    {
     "data": {
      "text/plain": [
       "tensor(15.7016)"
      ]
     },
     "execution_count": 93,
     "metadata": {},
     "output_type": "execute_result"
    }
   ],
   "source": [
    "#MLE!! negative log likelihood\n",
    "loss = -prob[torch.arange(32),Y].log().mean()\n",
    "loss"
   ]
  },
  {
   "cell_type": "code",
   "execution_count": 94,
   "id": "16a2fdcc",
   "metadata": {},
   "outputs": [
    {
     "data": {
      "text/plain": [
       "(torch.Size([32, 3]), torch.Size([32]))"
      ]
     },
     "execution_count": 94,
     "metadata": {},
     "output_type": "execute_result"
    }
   ],
   "source": [
    "# -------- putting it all together ----------------\n",
    "X.shape, Y.shape"
   ]
  },
  {
   "cell_type": "code",
   "execution_count": 100,
   "id": "12b3f075",
   "metadata": {},
   "outputs": [],
   "source": [
    "g = torch.Generator().manual_seed(2147483647)\n",
    "W1 = torch.randn((6,100))\n",
    "b1 = torch.randn(100)\n",
    "W2 = torch.randn((100,27))\n",
    "b2 = torch.randn(27)\n",
    "parameters = [C,W1,b1,W2,b2]"
   ]
  },
  {
   "cell_type": "code",
   "execution_count": 101,
   "id": "4e177918",
   "metadata": {},
   "outputs": [
    {
     "data": {
      "text/plain": [
       "3481"
      ]
     },
     "execution_count": 101,
     "metadata": {},
     "output_type": "execute_result"
    }
   ],
   "source": [
    "sum(p.nelement() for p in parameters)"
   ]
  },
  {
   "cell_type": "code",
   "execution_count": 105,
   "id": "7fe77125",
   "metadata": {},
   "outputs": [
    {
     "data": {
      "text/plain": [
       "tensor(16.8879)"
      ]
     },
     "execution_count": 105,
     "metadata": {},
     "output_type": "execute_result"
    }
   ],
   "source": [
    "# forward pass\n",
    "h = torch.tanh(C[X].view(-1,6)@ W1+b1)\n",
    "logits = h @ W2 + b2\n",
    "counts = logits.exp()\n",
    "prob = counts / counts.sum(1,keepdims=True)\n",
    "loss = -prob[torch.arange(32),Y].log().mean()\n",
    "loss"
   ]
  },
  {
   "cell_type": "markdown",
   "id": "21dace0f",
   "metadata": {},
   "source": [
    "further improve. Lets not reinvent the wheel. Since we are doing classification, we can use the pre-built cross_entropy from torch. \n",
    "\n",
    "Reference: https://pytorch.org/docs/stable/generated/torch.nn.functional.cross_entropy.html"
   ]
  },
  {
   "cell_type": "code",
   "execution_count": 106,
   "id": "90d06ffa",
   "metadata": {},
   "outputs": [
    {
     "data": {
      "text/plain": [
       "tensor(16.8879)"
      ]
     },
     "execution_count": 106,
     "metadata": {},
     "output_type": "execute_result"
    }
   ],
   "source": [
    "# Get the same thing!\n",
    "loss2 = F.cross_entropy(logits,Y)\n",
    "loss2"
   ]
  },
  {
   "cell_type": "code",
   "execution_count": 107,
   "id": "17ef84cc",
   "metadata": {},
   "outputs": [],
   "source": [
    "# forward pass\n",
    "h = torch.tanh(C[X].view(-1,6)@ W1+b1)\n",
    "logits = h @ W2 + b2\n",
    "loss = F.cross_entropy(logits,Y)"
   ]
  },
  {
   "cell_type": "markdown",
   "id": "ffbe19bc",
   "metadata": {},
   "source": [
    "Why actually always use F.cross_entropy?\n",
    "\n",
    "1. Efficiency: \n",
    "\n",
    "- PyTorch uses fused kernels for fast calculation\n",
    "- Since the expression is pre-built, pytorch knows exactly what to do on the backward step.\n",
    "- On the contrary, if we hand write the long expression, pytorch will have to make 3-4 separate backward steps.\n",
    "- This is similar to the case the we built the `_backward()` operation for `tanh()` in lecture 1. In that case the backward was single operation. we did not calculate the backward for all individual steps like `2*x` or `math.exp(.)` \n",
    "\n",
    "2. Numerically well behaved!!\n"
   ]
  },
  {
   "cell_type": "code",
   "execution_count": null,
   "id": "288b3c80",
   "metadata": {},
   "outputs": [],
   "source": [
    "# Explain 2"
   ]
  },
  {
   "cell_type": "code",
   "execution_count": 108,
   "id": "c24b5435",
   "metadata": {},
   "outputs": [],
   "source": [
    "# forward pass\n",
    "h = torch.tanh(C[X].view(-1,6)@ W1+b1)\n",
    "logits = h @ W2 + b2\n",
    "loss = F.cross_entropy(logits,Y)"
   ]
  },
  {
   "cell_type": "code",
   "execution_count": 111,
   "id": "a71daa83",
   "metadata": {},
   "outputs": [
    {
     "data": {
      "text/plain": [
       "tensor([0., 0., 0., nan])"
      ]
     },
     "execution_count": 111,
     "metadata": {},
     "output_type": "execute_result"
    }
   ],
   "source": [
    "logits = torch.tensor([-2,-3,-0,1000])\n",
    "counts = logits.exp()\n",
    "probs = counts/counts.sum()\n",
    "probs"
   ]
  },
  {
   "cell_type": "code",
   "execution_count": 113,
   "id": "3f81346a",
   "metadata": {},
   "outputs": [
    {
     "data": {
      "text/plain": [
       "tensor([0.1353, 0.0498, 1.0000,    inf])"
      ]
     },
     "execution_count": 113,
     "metadata": {},
     "output_type": "execute_result"
    }
   ],
   "source": [
    "# because e^1000 is overflowing\n",
    "counts"
   ]
  },
  {
   "cell_type": "code",
   "execution_count": 115,
   "id": "1e66fa81",
   "metadata": {},
   "outputs": [
    {
     "data": {
      "text/plain": [
       "tensor([0., 0., 0., 1.])"
      ]
     },
     "execution_count": 115,
     "metadata": {},
     "output_type": "execute_result"
    }
   ],
   "source": [
    "# subtract the max  trick for preventing overflow\n",
    "logits = torch.tensor([-5,-3,0,1000]) - 1000\n",
    "counts = logits.exp()\n",
    "probs = counts / counts.sum()\n",
    "probs"
   ]
  },
  {
   "cell_type": "code",
   "execution_count": 116,
   "id": "c068ed2d",
   "metadata": {},
   "outputs": [],
   "source": [
    "# Continue training from here"
   ]
  },
  {
   "cell_type": "code",
   "execution_count": 117,
   "id": "995f2994",
   "metadata": {},
   "outputs": [],
   "source": [
    "g = torch.Generator().manual_seed(2147483647)\n",
    "W1 = torch.randn((6,100))\n",
    "b1 = torch.randn(100)\n",
    "W2 = torch.randn((100,27))\n",
    "b2 = torch.randn(27)\n",
    "parameters = [C,W1,b1,W2,b2]"
   ]
  },
  {
   "cell_type": "code",
   "execution_count": 118,
   "id": "e34ae304",
   "metadata": {},
   "outputs": [
    {
     "data": {
      "text/plain": [
       "3481"
      ]
     },
     "execution_count": 118,
     "metadata": {},
     "output_type": "execute_result"
    }
   ],
   "source": [
    "sum(p.nelement() for p in parameters)"
   ]
  },
  {
   "cell_type": "code",
   "execution_count": 119,
   "id": "b3cecba7",
   "metadata": {},
   "outputs": [],
   "source": [
    "for p in parameters:\n",
    "    p.requires_grad= True"
   ]
  },
  {
   "cell_type": "code",
   "execution_count": 121,
   "id": "908658dc",
   "metadata": {},
   "outputs": [
    {
     "name": "stdout",
     "output_type": "stream",
     "text": [
      "0.2849053740501404\n"
     ]
    }
   ],
   "source": [
    "epoch = 100\n",
    "for _ in range(epoch):\n",
    "    # forward pass\n",
    "    emb = C[X] # shape (32,3,2)\n",
    "    h = torch.tanh(emb.view(-1,6) @ W1+b1)\n",
    "    logits = h @ W2 + b2\n",
    "    loss = F.cross_entropy(logits,Y)\n",
    "\n",
    "    #backward pass\n",
    "    for p in parameters:\n",
    "        p.grad = None\n",
    "    loss.backward()\n",
    "    #update\n",
    "    for p in parameters:\n",
    "        p.data += -0.1 * p.grad\n",
    "print(loss.item())"
   ]
  },
  {
   "cell_type": "markdown",
   "id": "4a266006",
   "metadata": {},
   "source": [
    "Loss is super low because we are overfitting to 32 samples!! We have 3481 params to fit 32 samples"
   ]
  },
  {
   "cell_type": "markdown",
   "id": "36b53fd5",
   "metadata": {},
   "source": [
    "Go over why it is not zero? Because there are some ambiguous cases such as \"...\" -> \"e\" or \"o\".\n",
    "\n",
    "We could only overfit to cases where there is one single answer!!"
   ]
  },
  {
   "cell_type": "code",
   "execution_count": 124,
   "id": "1bac73e6",
   "metadata": {},
   "outputs": [
    {
     "data": {
      "text/plain": [
       "torch.return_types.max(\n",
       "values=tensor([ 8.6770, 13.5366, 12.1110, 12.9143, 16.6655,  8.6770, 14.2060, 13.1895,\n",
       "        11.1739, 13.4428, 15.1191, 20.6045,  8.6770, 14.8853, 10.4620, 15.5376,\n",
       "         8.6770, 12.6185, 14.6243, 14.3542, 13.2918, 15.6934, 13.5731, 16.5784,\n",
       "        18.7177,  8.6770, 14.3525, 14.5067, 18.2000, 12.0925, 17.6595, 18.2331],\n",
       "       grad_fn=<MaxBackward0>),\n",
       "indices=tensor([19, 13, 13,  1,  0, 19, 12,  9, 22,  9,  1,  0, 19, 22,  1,  0, 19, 19,\n",
       "         1,  2,  5, 12, 12,  1,  0, 19, 15, 16,  8,  9,  1,  0]))"
      ]
     },
     "execution_count": 124,
     "metadata": {},
     "output_type": "execute_result"
    }
   ],
   "source": [
    "logits.max(1)"
   ]
  },
  {
   "cell_type": "code",
   "execution_count": 125,
   "id": "fc7c66c1",
   "metadata": {},
   "outputs": [
    {
     "data": {
      "text/plain": [
       "tensor([ 5, 13, 13,  1,  0, 15, 12,  9, 22,  9,  1,  0,  1, 22,  1,  0,  9, 19,\n",
       "         1,  2,  5, 12, 12,  1,  0, 19, 15, 16,  8,  9,  1,  0])"
      ]
     },
     "execution_count": 125,
     "metadata": {},
     "output_type": "execute_result"
    }
   ],
   "source": [
    "Y"
   ]
  },
  {
   "cell_type": "markdown",
   "id": "58c34893",
   "metadata": {},
   "source": [
    "### Let's fit the whole dataset!"
   ]
  },
  {
   "cell_type": "code",
   "execution_count": 128,
   "id": "12c94624",
   "metadata": {},
   "outputs": [],
   "source": [
    "block_size = 3 # context length\n",
    "\n",
    "X,Y = [], []\n",
    "for w in words:\n",
    "    \n",
    "    context = [0]*block_size\n",
    "    for ch in w + '.':\n",
    "        ix = stoi[ch]\n",
    "        X.append(context)\n",
    "        Y.append(ix)\n",
    "        context = context[1:] + [ix] # crop and append\n",
    "        \n",
    "X = torch.tensor(X)\n",
    "Y = torch.tensor(Y)"
   ]
  },
  {
   "cell_type": "code",
   "execution_count": 129,
   "id": "62723243",
   "metadata": {},
   "outputs": [
    {
     "data": {
      "text/plain": [
       "(torch.Size([228146, 3]), torch.Size([228146]))"
      ]
     },
     "execution_count": 129,
     "metadata": {},
     "output_type": "execute_result"
    }
   ],
   "source": [
    "X.shape, Y.shape"
   ]
  },
  {
   "cell_type": "code",
   "execution_count": 134,
   "id": "0fd0b0f4",
   "metadata": {},
   "outputs": [],
   "source": [
    "g = torch.Generator().manual_seed(2147483647)\n",
    "W1 = torch.randn((6,100))\n",
    "b1 = torch.randn(100)\n",
    "W2 = torch.randn((100,27))\n",
    "b2 = torch.randn(27)\n",
    "parameters = [C,W1,b1,W2,b2]"
   ]
  },
  {
   "cell_type": "code",
   "execution_count": 135,
   "id": "404b6cf4",
   "metadata": {},
   "outputs": [],
   "source": [
    "for p in parameters:\n",
    "    p.requires_grad= True"
   ]
  },
  {
   "cell_type": "code",
   "execution_count": 136,
   "id": "a049b1c2",
   "metadata": {},
   "outputs": [
    {
     "name": "stdout",
     "output_type": "stream",
     "text": [
      "16.261137008666992\n",
      "14.354217529296875\n",
      "13.208730697631836\n",
      "12.27278995513916\n",
      "11.476091384887695\n",
      "10.803886413574219\n",
      "10.234297752380371\n",
      "9.751381874084473\n",
      "9.338600158691406\n",
      "8.974411010742188\n"
     ]
    }
   ],
   "source": [
    "epoch = 10\n",
    "for _ in range(epoch):\n",
    "    # forward pass\n",
    "    emb = C[X] # \n",
    "    h = torch.tanh(emb.view(-1,6) @ W1+b1)\n",
    "    logits = h @ W2 + b2\n",
    "    loss = F.cross_entropy(logits,Y)\n",
    "    print(loss.item())\n",
    "    #backward pass\n",
    "    for p in parameters:\n",
    "        p.grad = None\n",
    "    loss.backward()\n",
    "    #update\n",
    "    for p in parameters:\n",
    "        p.data += -0.1 * p.grad\n"
   ]
  },
  {
   "cell_type": "markdown",
   "id": "617dfbd1",
   "metadata": {},
   "source": [
    "#### Each pass is taking super long. Let's fix that by using mini-batch GD"
   ]
  },
  {
   "cell_type": "code",
   "execution_count": 138,
   "id": "962a8a24",
   "metadata": {},
   "outputs": [
    {
     "data": {
      "text/plain": [
       "tensor([ 16484, 106304, 205810,  72380,  25389, 216832,  46905,   2905, 142763,\n",
       "        119890,  12897,  95169, 136946, 128679,  97235,  52561,  97842, 217865,\n",
       "           298,  62415, 106205, 122780, 160425, 221446, 155054,  43179,  32255,\n",
       "        225916, 201485,  64244, 116188, 127472])"
      ]
     },
     "execution_count": 138,
     "metadata": {},
     "output_type": "execute_result"
    }
   ],
   "source": [
    "torch.randint(0,X.shape[0],(32,))"
   ]
  },
  {
   "cell_type": "code",
   "execution_count": 139,
   "id": "5fff04b3",
   "metadata": {},
   "outputs": [],
   "source": [
    "ixs = torch.randint(0,X.shape[0],(32,))"
   ]
  },
  {
   "cell_type": "code",
   "execution_count": 143,
   "id": "8a3cb883",
   "metadata": {},
   "outputs": [
    {
     "data": {
      "text/plain": [
       "torch.Size([32])"
      ]
     },
     "execution_count": 143,
     "metadata": {},
     "output_type": "execute_result"
    }
   ],
   "source": [
    "ixs.shape"
   ]
  },
  {
   "cell_type": "code",
   "execution_count": 145,
   "id": "f44edb0d",
   "metadata": {},
   "outputs": [],
   "source": [
    "mini_batch = C[X[ixs,:]]"
   ]
  },
  {
   "cell_type": "code",
   "execution_count": 146,
   "id": "2e8af45c",
   "metadata": {},
   "outputs": [
    {
     "data": {
      "text/plain": [
       "torch.Size([32, 3, 2])"
      ]
     },
     "execution_count": 146,
     "metadata": {},
     "output_type": "execute_result"
    }
   ],
   "source": [
    "mini_batch.shape"
   ]
  },
  {
   "cell_type": "code",
   "execution_count": 149,
   "id": "fdc3c842",
   "metadata": {},
   "outputs": [
    {
     "data": {
      "text/plain": [
       "torch.Size([32])"
      ]
     },
     "execution_count": 149,
     "metadata": {},
     "output_type": "execute_result"
    }
   ],
   "source": [
    "Y[ixs].shape"
   ]
  },
  {
   "cell_type": "code",
   "execution_count": 151,
   "id": "f7b632e1",
   "metadata": {},
   "outputs": [
    {
     "name": "stdout",
     "output_type": "stream",
     "text": [
      "5.786375522613525\n",
      "6.403128147125244\n",
      "6.80225133895874\n",
      "6.06060791015625\n",
      "7.589287757873535\n",
      "4.2227349281311035\n",
      "5.345100402832031\n",
      "7.790638446807861\n",
      "5.491888523101807\n",
      "4.7262959480285645\n",
      "3.7177765369415283\n",
      "8.192079544067383\n",
      "4.89778995513916\n",
      "5.6328606605529785\n",
      "4.711860179901123\n",
      "4.115666389465332\n",
      "5.319376468658447\n",
      "4.4306559562683105\n",
      "5.341001510620117\n",
      "4.376426696777344\n",
      "5.699900150299072\n",
      "4.294360160827637\n",
      "3.7718677520751953\n",
      "4.615455627441406\n",
      "3.257601499557495\n",
      "5.104333400726318\n",
      "3.4387810230255127\n",
      "3.8484137058258057\n",
      "4.235711574554443\n",
      "3.219099521636963\n",
      "3.7625226974487305\n",
      "4.1864542961120605\n",
      "2.5818674564361572\n",
      "4.479804992675781\n",
      "5.376302719116211\n",
      "3.359419345855713\n",
      "3.3898813724517822\n",
      "3.5898547172546387\n",
      "3.628901481628418\n",
      "3.0259146690368652\n",
      "4.173199653625488\n",
      "3.6626369953155518\n",
      "3.2856738567352295\n",
      "3.618631601333618\n",
      "3.9194424152374268\n",
      "4.436309814453125\n",
      "5.620206356048584\n",
      "4.229266166687012\n",
      "3.803269624710083\n",
      "3.826616048812866\n",
      "3.357684373855591\n",
      "4.2338409423828125\n",
      "3.5388476848602295\n",
      "3.7107174396514893\n",
      "3.7510387897491455\n",
      "3.713087558746338\n",
      "3.048389434814453\n",
      "2.9153897762298584\n",
      "3.1828911304473877\n",
      "4.375763416290283\n",
      "3.955127000808716\n",
      "4.261459827423096\n",
      "3.0434463024139404\n",
      "3.566404342651367\n",
      "3.9262170791625977\n",
      "3.58793044090271\n",
      "4.279890537261963\n",
      "3.443488836288452\n",
      "3.60939884185791\n",
      "3.789059638977051\n",
      "3.253544330596924\n",
      "3.326077938079834\n",
      "3.7436206340789795\n",
      "3.9475009441375732\n",
      "3.690936803817749\n",
      "3.571284770965576\n",
      "2.5824520587921143\n",
      "4.011285781860352\n",
      "3.0223684310913086\n",
      "3.454876661300659\n",
      "3.018015146255493\n",
      "4.600274562835693\n",
      "2.780017375946045\n",
      "3.5268521308898926\n",
      "2.908967971801758\n",
      "2.8518831729888916\n",
      "3.9513585567474365\n",
      "3.4228811264038086\n",
      "3.338355302810669\n",
      "3.3513450622558594\n",
      "2.965409517288208\n",
      "3.1319830417633057\n",
      "3.219635009765625\n",
      "2.8876280784606934\n",
      "4.07517671585083\n",
      "2.733992576599121\n",
      "3.013853073120117\n",
      "2.6637983322143555\n",
      "3.4881677627563477\n",
      "3.3193278312683105\n",
      "3.141472339630127\n",
      "3.281029462814331\n",
      "2.964211940765381\n",
      "3.6540164947509766\n",
      "3.581648349761963\n",
      "3.6168644428253174\n",
      "3.3337745666503906\n",
      "3.2733402252197266\n",
      "2.9578733444213867\n",
      "3.667069911956787\n",
      "3.7028086185455322\n",
      "2.848115921020508\n",
      "3.002229928970337\n",
      "3.234802484512329\n",
      "2.895698308944702\n",
      "3.208955764770508\n",
      "2.6814990043640137\n",
      "3.7346086502075195\n",
      "3.271000385284424\n",
      "3.0830531120300293\n",
      "2.9314608573913574\n",
      "3.4648098945617676\n",
      "2.622528314590454\n",
      "3.5341134071350098\n",
      "3.1844534873962402\n",
      "3.3262720108032227\n",
      "3.9424691200256348\n",
      "2.6226630210876465\n",
      "3.2630534172058105\n",
      "3.0681962966918945\n",
      "2.7200276851654053\n",
      "2.5010266304016113\n",
      "3.606999635696411\n",
      "3.2092862129211426\n",
      "2.9322845935821533\n",
      "3.1301376819610596\n",
      "3.3376009464263916\n",
      "2.8360705375671387\n",
      "2.8123109340667725\n",
      "2.935375452041626\n",
      "3.6880106925964355\n",
      "3.0927517414093018\n",
      "2.88069224357605\n",
      "3.2595064640045166\n",
      "3.347973346710205\n",
      "2.950697183609009\n",
      "3.82104229927063\n",
      "3.297858953475952\n",
      "2.8768272399902344\n",
      "2.9153685569763184\n",
      "3.092660427093506\n",
      "2.828460454940796\n",
      "3.0640690326690674\n",
      "2.956197500228882\n",
      "3.2729170322418213\n",
      "3.9512062072753906\n",
      "3.107915163040161\n",
      "3.417527437210083\n",
      "3.0103821754455566\n",
      "3.2302298545837402\n",
      "3.0095481872558594\n",
      "2.6760222911834717\n",
      "3.2593019008636475\n",
      "3.3437893390655518\n",
      "3.0517449378967285\n",
      "2.8345694541931152\n",
      "2.7307708263397217\n",
      "3.388294219970703\n",
      "3.144200325012207\n",
      "3.359621286392212\n",
      "3.7919387817382812\n",
      "2.8209564685821533\n",
      "2.833794116973877\n",
      "3.0304441452026367\n",
      "3.4574313163757324\n",
      "3.015017032623291\n",
      "3.076744794845581\n",
      "2.5541017055511475\n",
      "2.653937339782715\n",
      "3.8661246299743652\n",
      "2.9979214668273926\n",
      "3.167948007583618\n",
      "2.823563575744629\n",
      "3.268099784851074\n",
      "2.9890639781951904\n",
      "2.731029987335205\n",
      "3.0939254760742188\n",
      "2.940181016921997\n",
      "3.095717430114746\n",
      "2.921553134918213\n",
      "3.1202609539031982\n",
      "2.5132288932800293\n",
      "2.7802462577819824\n",
      "3.0583250522613525\n",
      "3.3800108432769775\n",
      "3.6103086471557617\n",
      "3.0324387550354004\n",
      "3.0415749549865723\n",
      "2.7403697967529297\n",
      "3.318969249725342\n",
      "2.8085761070251465\n",
      "2.7883856296539307\n",
      "3.6751999855041504\n",
      "2.857546806335449\n",
      "3.2052814960479736\n",
      "3.1556379795074463\n",
      "2.7742011547088623\n",
      "3.113501787185669\n",
      "3.2856407165527344\n",
      "2.5789825916290283\n",
      "2.7590699195861816\n",
      "2.995565891265869\n",
      "2.975376844406128\n",
      "3.003561019897461\n",
      "2.7255859375\n",
      "2.898676872253418\n",
      "2.6482484340667725\n",
      "2.650324583053589\n",
      "3.5932514667510986\n",
      "2.742889404296875\n",
      "2.7851786613464355\n",
      "3.0766749382019043\n",
      "3.125744342803955\n",
      "2.628551959991455\n",
      "2.475172996520996\n",
      "2.8563013076782227\n",
      "2.4550399780273438\n",
      "3.1950747966766357\n",
      "2.78647518157959\n",
      "3.041842460632324\n",
      "2.8469078540802\n",
      "2.7828309535980225\n",
      "3.0501532554626465\n",
      "2.9365346431732178\n",
      "3.0162580013275146\n",
      "3.326488733291626\n",
      "3.513333797454834\n",
      "3.2817742824554443\n",
      "2.794630765914917\n",
      "2.7606945037841797\n",
      "2.7340571880340576\n",
      "2.59889554977417\n",
      "2.794666290283203\n",
      "3.244936943054199\n",
      "2.9839346408843994\n",
      "2.9773972034454346\n",
      "2.687204122543335\n",
      "2.562378168106079\n",
      "2.6357548236846924\n",
      "3.447566032409668\n",
      "2.903123378753662\n",
      "3.1282365322113037\n",
      "2.6512908935546875\n",
      "2.1498446464538574\n",
      "2.9279959201812744\n",
      "3.7952420711517334\n",
      "2.7966461181640625\n",
      "2.369138240814209\n",
      "2.62229323387146\n",
      "2.4264519214630127\n",
      "2.706082582473755\n",
      "2.98966383934021\n",
      "2.9569921493530273\n",
      "2.549779176712036\n",
      "3.190964698791504\n",
      "3.441743850708008\n",
      "2.9263603687286377\n",
      "2.876154899597168\n",
      "3.1555886268615723\n",
      "2.5642147064208984\n",
      "3.3696062564849854\n",
      "2.6228349208831787\n",
      "2.8383824825286865\n",
      "3.117856502532959\n",
      "2.370889902114868\n",
      "3.35080885887146\n",
      "3.535079002380371\n",
      "2.962097406387329\n",
      "2.9901349544525146\n",
      "3.0311694145202637\n",
      "2.9089958667755127\n",
      "2.5966591835021973\n",
      "2.6914024353027344\n",
      "2.936746120452881\n",
      "2.6477701663970947\n",
      "3.057569742202759\n",
      "2.703219413757324\n",
      "3.1325771808624268\n",
      "2.708991050720215\n",
      "2.676536798477173\n",
      "3.0264835357666016\n",
      "2.9325337409973145\n",
      "2.611725091934204\n",
      "2.824855327606201\n",
      "3.1899867057800293\n",
      "2.842332601547241\n",
      "2.9119739532470703\n",
      "3.3142030239105225\n",
      "3.1951587200164795\n",
      "2.7521181106567383\n",
      "3.0602474212646484\n",
      "2.3547203540802\n",
      "3.057875633239746\n",
      "2.6816298961639404\n",
      "2.8538296222686768\n",
      "2.685572624206543\n",
      "3.176137685775757\n",
      "2.553011655807495\n",
      "2.717482805252075\n",
      "2.8670873641967773\n",
      "3.1784451007843018\n",
      "2.6052207946777344\n",
      "2.8840787410736084\n",
      "2.7390317916870117\n",
      "2.767876625061035\n",
      "3.171058177947998\n",
      "2.5342538356781006\n",
      "2.7740399837493896\n",
      "3.295830011367798\n",
      "2.4847307205200195\n",
      "2.774898052215576\n",
      "2.992476463317871\n",
      "2.6441967487335205\n",
      "3.3267176151275635\n",
      "3.199970245361328\n",
      "3.0289814472198486\n",
      "2.3216686248779297\n",
      "3.138084650039673\n",
      "3.325789451599121\n",
      "2.736219882965088\n",
      "2.929867744445801\n",
      "2.931792736053467\n",
      "3.0567445755004883\n",
      "2.702596426010132\n",
      "2.3785619735717773\n",
      "2.693056106567383\n",
      "3.0606484413146973\n",
      "2.7512013912200928\n",
      "3.398040771484375\n",
      "3.159884452819824\n",
      "3.3833224773406982\n",
      "3.065315008163452\n",
      "2.4675650596618652\n",
      "2.881883382797241\n",
      "3.197147846221924\n",
      "3.3205769062042236\n",
      "2.9556093215942383\n",
      "3.080740451812744\n",
      "3.5468852519989014\n",
      "2.6934502124786377\n",
      "2.6855263710021973\n",
      "3.5841238498687744\n",
      "2.453308582305908\n",
      "2.8010337352752686\n",
      "2.723442316055298\n",
      "2.647859573364258\n",
      "2.335980176925659\n",
      "2.804414987564087\n",
      "2.895551919937134\n",
      "2.9236204624176025\n",
      "2.4479501247406006\n",
      "2.7464253902435303\n",
      "3.068366289138794\n",
      "2.8979239463806152\n",
      "2.469208240509033\n",
      "3.090364933013916\n",
      "2.5981369018554688\n",
      "2.833409070968628\n",
      "2.542263984680176\n",
      "2.85656476020813\n",
      "3.0078508853912354\n",
      "2.413825273513794\n",
      "3.008273124694824\n",
      "3.1961729526519775\n",
      "2.950652599334717\n",
      "2.775202989578247\n",
      "3.6367380619049072\n",
      "3.132068634033203\n",
      "3.0488572120666504\n",
      "2.503770112991333\n",
      "2.5789477825164795\n",
      "2.7459585666656494\n",
      "2.9419448375701904\n",
      "2.940274238586426\n",
      "2.887087106704712\n",
      "2.8933446407318115\n",
      "3.0248148441314697\n",
      "2.9370906352996826\n",
      "2.71914005279541\n",
      "2.9111595153808594\n",
      "3.365889549255371\n",
      "2.711094856262207\n",
      "2.5587897300720215\n",
      "3.1988651752471924\n",
      "2.97348690032959\n",
      "3.1760737895965576\n",
      "2.8852999210357666\n",
      "2.608860731124878\n",
      "2.687103271484375\n",
      "3.099472999572754\n",
      "2.6535959243774414\n",
      "2.9160008430480957\n",
      "2.7537078857421875\n",
      "2.9980902671813965\n",
      "2.8012380599975586\n",
      "2.53007173538208\n",
      "2.846661329269409\n",
      "2.7043941020965576\n",
      "3.0004353523254395\n",
      "2.7785379886627197\n",
      "2.6900691986083984\n",
      "2.797175407409668\n",
      "2.671546459197998\n",
      "3.118381977081299\n",
      "2.959831476211548\n",
      "2.5199387073516846\n",
      "2.713899612426758\n",
      "3.194899320602417\n",
      "2.6087121963500977\n",
      "2.4446194171905518\n",
      "2.6091814041137695\n",
      "3.2991890907287598\n",
      "2.999882698059082\n",
      "2.8008534908294678\n",
      "2.920341730117798\n",
      "2.414745569229126\n",
      "2.5920257568359375\n",
      "2.3479366302490234\n",
      "2.2213478088378906\n",
      "2.463313341140747\n",
      "2.528994083404541\n",
      "2.8966312408447266\n",
      "3.4264490604400635\n",
      "2.4731736183166504\n",
      "3.0565168857574463\n",
      "2.8111047744750977\n",
      "2.504758596420288\n",
      "2.5794498920440674\n",
      "2.6539933681488037\n",
      "2.8924639225006104\n",
      "2.5337836742401123\n",
      "2.560215473175049\n",
      "3.003173828125\n",
      "2.687654972076416\n",
      "3.0983150005340576\n",
      "2.839036464691162\n",
      "2.63918137550354\n",
      "3.2411115169525146\n",
      "2.450666904449463\n",
      "2.7096292972564697\n",
      "3.121689796447754\n",
      "2.820265293121338\n",
      "2.7469587326049805\n",
      "2.5955309867858887\n",
      "2.602871894836426\n",
      "2.2632319927215576\n",
      "3.165057897567749\n",
      "2.3877828121185303\n",
      "2.7414815425872803\n",
      "3.2694358825683594\n",
      "2.6341652870178223\n",
      "2.7878928184509277\n",
      "2.8134171962738037\n",
      "2.7475998401641846\n",
      "2.8708536624908447\n",
      "2.7019622325897217\n",
      "2.7542061805725098\n",
      "2.5547900199890137\n",
      "3.100508213043213\n",
      "3.0243654251098633\n",
      "2.437519073486328\n",
      "2.836179256439209\n",
      "2.546945571899414\n",
      "2.5763165950775146\n",
      "3.2188398838043213\n",
      "2.843726873397827\n",
      "2.9024341106414795\n",
      "2.6919913291931152\n",
      "2.9040563106536865\n",
      "2.8214643001556396\n",
      "3.549020767211914\n",
      "2.459061622619629\n",
      "2.9149982929229736\n",
      "2.3996849060058594\n",
      "2.7225770950317383\n",
      "2.6965835094451904\n",
      "2.7539782524108887\n",
      "2.4736034870147705\n",
      "2.8735904693603516\n",
      "2.6198487281799316\n",
      "2.5855329036712646\n",
      "2.595766067504883\n",
      "2.7194273471832275\n",
      "2.6589033603668213\n",
      "2.6619036197662354\n",
      "2.8023059368133545\n",
      "2.757805109024048\n",
      "2.5426712036132812\n",
      "2.9416189193725586\n",
      "3.032198429107666\n",
      "2.994781255722046\n",
      "2.5563223361968994\n",
      "2.695918083190918\n",
      "2.637533664703369\n",
      "2.6109542846679688\n",
      "2.8880035877227783\n",
      "2.443291187286377\n",
      "2.730573892593384\n",
      "2.608860492706299\n",
      "2.906137704849243\n",
      "3.189940929412842\n",
      "2.777836322784424\n",
      "3.1684153079986572\n",
      "3.0721445083618164\n",
      "3.1984119415283203\n",
      "2.6730592250823975\n",
      "2.5019235610961914\n",
      "2.7091617584228516\n",
      "2.8291733264923096\n",
      "2.5671885013580322\n",
      "2.827728033065796\n",
      "3.0013768672943115\n",
      "2.90659761428833\n",
      "2.7118897438049316\n",
      "3.006025552749634\n",
      "2.3933286666870117\n",
      "2.732503652572632\n",
      "3.1431939601898193\n",
      "2.6409101486206055\n",
      "2.897583246231079\n",
      "2.62721586227417\n",
      "2.859818696975708\n",
      "3.0181186199188232\n",
      "2.5458791255950928\n",
      "2.530116558074951\n",
      "2.5037763118743896\n",
      "2.538395881652832\n",
      "2.5660111904144287\n",
      "2.6677887439727783\n",
      "2.687986135482788\n",
      "2.5281894207000732\n",
      "2.680879831314087\n",
      "2.4013843536376953\n",
      "2.8194620609283447\n",
      "3.2241225242614746\n",
      "2.6598093509674072\n",
      "2.6490612030029297\n",
      "3.608102798461914\n",
      "2.557342767715454\n",
      "2.7958052158355713\n",
      "3.165105104446411\n",
      "2.4911177158355713\n",
      "2.7313711643218994\n",
      "2.8369221687316895\n",
      "2.4302940368652344\n",
      "2.8233959674835205\n",
      "2.81998872756958\n",
      "2.5795180797576904\n",
      "2.7955286502838135\n",
      "2.754554271697998\n",
      "2.585085868835449\n",
      "2.9683969020843506\n",
      "3.56300687789917\n",
      "2.652773857116699\n",
      "3.0212371349334717\n",
      "2.7748563289642334\n",
      "2.959713935852051\n",
      "2.5157992839813232\n",
      "2.8799691200256348\n",
      "2.3680548667907715\n",
      "2.9065868854522705\n",
      "2.982407331466675\n",
      "2.600837230682373\n",
      "3.109469175338745\n",
      "2.731379508972168\n",
      "2.7192013263702393\n",
      "2.6272127628326416\n",
      "2.502694606781006\n",
      "2.9772353172302246\n",
      "2.584834575653076\n",
      "2.4812307357788086\n",
      "2.883803129196167\n",
      "2.2570836544036865\n",
      "3.058525562286377\n",
      "2.524251699447632\n",
      "2.8350064754486084\n",
      "3.0004448890686035\n",
      "2.777766704559326\n",
      "2.9668076038360596\n",
      "2.7156500816345215\n",
      "2.5597095489501953\n",
      "2.882929801940918\n",
      "2.637932062149048\n",
      "2.667057991027832\n",
      "3.055253744125366\n",
      "3.0628244876861572\n",
      "2.5637919902801514\n",
      "2.673201084136963\n",
      "3.1373417377471924\n",
      "2.791818141937256\n",
      "2.6911380290985107\n",
      "2.7871670722961426\n",
      "2.648625135421753\n",
      "2.6752400398254395\n",
      "2.963623285293579\n",
      "2.771211624145508\n",
      "3.159038543701172\n",
      "2.5241310596466064\n",
      "2.7319724559783936\n",
      "2.8914544582366943\n",
      "2.9037039279937744\n",
      "2.8880045413970947\n",
      "2.628540515899658\n",
      "2.6275365352630615\n",
      "3.0748512744903564\n",
      "2.7238900661468506\n",
      "2.577446222305298\n",
      "2.6188433170318604\n",
      "2.9673874378204346\n",
      "2.4510345458984375\n",
      "2.8438334465026855\n",
      "2.3261001110076904\n",
      "3.0996437072753906\n",
      "2.321868658065796\n",
      "2.738785982131958\n",
      "2.65262770652771\n",
      "2.581623077392578\n",
      "3.1500024795532227\n",
      "3.2012012004852295\n",
      "2.883908271789551\n",
      "2.51887845993042\n",
      "2.624650001525879\n",
      "2.7334835529327393\n",
      "2.8078484535217285\n",
      "2.6688389778137207\n",
      "3.3577301502227783\n",
      "2.9660072326660156\n",
      "2.6596615314483643\n",
      "2.7358670234680176\n",
      "2.5460188388824463\n",
      "2.6285388469696045\n",
      "2.4595720767974854\n",
      "2.4936068058013916\n",
      "3.0224080085754395\n",
      "2.5040149688720703\n",
      "2.8407483100891113\n",
      "2.5989344120025635\n",
      "2.6011271476745605\n",
      "2.8270974159240723\n",
      "2.341672420501709\n",
      "2.5204901695251465\n",
      "3.1580207347869873\n",
      "2.797478437423706\n",
      "2.847696304321289\n",
      "2.9118309020996094\n",
      "2.439649820327759\n",
      "2.613600254058838\n",
      "2.5614609718322754\n",
      "2.954491376876831\n",
      "2.718348741531372\n",
      "2.6427676677703857\n",
      "2.7718615531921387\n",
      "2.87558650970459\n",
      "2.3572678565979004\n",
      "2.7051467895507812\n",
      "2.570974826812744\n",
      "2.767637252807617\n",
      "2.5495173931121826\n",
      "2.68717360496521\n",
      "2.7079684734344482\n",
      "2.2244997024536133\n",
      "2.499476671218872\n",
      "2.7100257873535156\n",
      "3.6965763568878174\n",
      "2.8358185291290283\n",
      "2.8590850830078125\n",
      "2.9457857608795166\n",
      "2.3635752201080322\n",
      "2.6028075218200684\n",
      "2.6626317501068115\n",
      "2.8817975521087646\n",
      "2.214143991470337\n",
      "2.5004680156707764\n",
      "2.729032039642334\n",
      "2.5785818099975586\n",
      "2.7511441707611084\n",
      "3.0247926712036133\n",
      "3.098114013671875\n",
      "2.8133161067962646\n",
      "2.228443145751953\n",
      "2.0806751251220703\n",
      "2.5748531818389893\n",
      "3.0379438400268555\n",
      "2.7524876594543457\n",
      "2.9989731311798096\n",
      "2.6977102756500244\n",
      "2.806708574295044\n",
      "2.772228240966797\n",
      "3.1452510356903076\n",
      "3.1309010982513428\n",
      "2.7966420650482178\n",
      "2.8201019763946533\n",
      "3.5069055557250977\n",
      "2.8111510276794434\n",
      "2.820322036743164\n",
      "2.871471643447876\n",
      "2.8916149139404297\n",
      "2.715768814086914\n",
      "2.4825634956359863\n",
      "2.8571927547454834\n",
      "2.893327236175537\n",
      "2.7613332271575928\n",
      "2.4600932598114014\n",
      "2.514700412750244\n",
      "2.914592742919922\n",
      "3.0126850605010986\n",
      "2.6709394454956055\n",
      "2.6362836360931396\n",
      "3.2450592517852783\n",
      "2.30133056640625\n",
      "3.1201674938201904\n",
      "2.4180662631988525\n",
      "2.579674005508423\n",
      "2.840932607650757\n",
      "3.094956398010254\n",
      "2.6653380393981934\n",
      "2.5110292434692383\n",
      "2.5848681926727295\n",
      "2.87526273727417\n",
      "2.577695369720459\n",
      "2.6376609802246094\n",
      "2.6998376846313477\n",
      "2.4159865379333496\n",
      "2.949965715408325\n",
      "2.751164674758911\n",
      "3.065816640853882\n",
      "2.7147107124328613\n",
      "2.5155229568481445\n",
      "2.7246570587158203\n",
      "2.5813512802124023\n",
      "2.710174798965454\n",
      "2.484480142593384\n",
      "2.4823317527770996\n",
      "2.206343173980713\n",
      "2.5423426628112793\n",
      "2.1231095790863037\n",
      "2.9402475357055664\n",
      "3.04081654548645\n",
      "2.6251628398895264\n",
      "3.291783332824707\n",
      "2.9080095291137695\n",
      "2.5445356369018555\n",
      "3.149794101715088\n",
      "2.8757688999176025\n",
      "3.129545211791992\n",
      "2.3602633476257324\n",
      "3.0830154418945312\n",
      "2.5695419311523438\n",
      "2.5063669681549072\n",
      "2.695197343826294\n",
      "2.752419948577881\n",
      "3.031825065612793\n",
      "2.5818262100219727\n",
      "2.6625924110412598\n",
      "2.519615411758423\n",
      "2.5428545475006104\n",
      "2.4349019527435303\n",
      "3.222337484359741\n",
      "2.187277317047119\n",
      "2.7332265377044678\n",
      "2.4198977947235107\n",
      "2.9073729515075684\n",
      "2.699892997741699\n",
      "2.7826476097106934\n",
      "2.6981899738311768\n",
      "2.743187665939331\n",
      "3.121105194091797\n",
      "2.965266227722168\n",
      "2.6916189193725586\n",
      "2.6484131813049316\n",
      "2.9667952060699463\n",
      "2.6939196586608887\n",
      "2.8298287391662598\n",
      "2.5709917545318604\n",
      "3.0248985290527344\n",
      "2.554537296295166\n",
      "2.6220760345458984\n",
      "3.2592012882232666\n",
      "2.8174283504486084\n",
      "3.159614324569702\n",
      "3.1148509979248047\n",
      "3.045074701309204\n",
      "2.745171070098877\n",
      "2.540513753890991\n",
      "2.7844297885894775\n",
      "2.649031400680542\n",
      "3.01338529586792\n",
      "3.009005069732666\n",
      "2.9827287197113037\n",
      "2.6499743461608887\n",
      "2.1532270908355713\n",
      "2.307342052459717\n",
      "2.846890449523926\n",
      "2.499744176864624\n",
      "2.756530284881592\n",
      "2.369638204574585\n",
      "3.060854434967041\n",
      "3.2260100841522217\n"
     ]
    },
    {
     "name": "stdout",
     "output_type": "stream",
     "text": [
      "2.727013349533081\n",
      "2.7449629306793213\n",
      "2.488781213760376\n",
      "2.0670130252838135\n",
      "3.107228994369507\n",
      "2.637169122695923\n",
      "3.034088134765625\n",
      "2.410733938217163\n",
      "3.1715381145477295\n",
      "2.4798922538757324\n",
      "2.9612817764282227\n",
      "2.7822718620300293\n",
      "2.7331082820892334\n",
      "3.028606414794922\n",
      "2.875253677368164\n",
      "2.5379347801208496\n",
      "2.9528496265411377\n",
      "2.7735965251922607\n",
      "2.862872838973999\n",
      "2.5806479454040527\n",
      "2.836214303970337\n",
      "3.037170648574829\n",
      "2.6590816974639893\n",
      "2.1955666542053223\n",
      "2.5898704528808594\n",
      "2.8545305728912354\n",
      "2.5227534770965576\n",
      "2.787403106689453\n",
      "2.5531256198883057\n",
      "2.6683573722839355\n",
      "2.5199596881866455\n",
      "3.064303398132324\n",
      "2.380654811859131\n",
      "2.4404070377349854\n",
      "2.6373414993286133\n",
      "2.5702335834503174\n",
      "2.531750202178955\n",
      "2.673781394958496\n",
      "3.138225555419922\n",
      "3.0648984909057617\n",
      "3.1545581817626953\n",
      "2.9024369716644287\n",
      "2.578991174697876\n",
      "2.583022356033325\n",
      "2.7654123306274414\n",
      "2.6888253688812256\n",
      "2.6807806491851807\n",
      "2.5287649631500244\n",
      "2.7163991928100586\n",
      "2.554313898086548\n",
      "2.7153613567352295\n",
      "2.5656211376190186\n",
      "2.4589157104492188\n",
      "2.761569023132324\n",
      "3.080688238143921\n",
      "2.1560072898864746\n",
      "2.488866090774536\n",
      "2.9500274658203125\n",
      "3.0427603721618652\n",
      "2.3801939487457275\n",
      "3.3078067302703857\n",
      "2.833068370819092\n",
      "2.7000765800476074\n",
      "2.531536340713501\n",
      "2.8198370933532715\n",
      "3.0759949684143066\n",
      "2.7081692218780518\n",
      "2.8531110286712646\n",
      "2.952679395675659\n",
      "2.830467939376831\n",
      "2.967986583709717\n",
      "2.433885335922241\n",
      "3.0288877487182617\n",
      "2.492518186569214\n",
      "2.776740550994873\n",
      "2.6215834617614746\n",
      "2.6912224292755127\n",
      "2.5438637733459473\n",
      "2.3035426139831543\n",
      "2.6273040771484375\n",
      "2.4294590950012207\n",
      "3.0054233074188232\n",
      "2.5410728454589844\n",
      "2.9932940006256104\n",
      "2.5350558757781982\n",
      "2.5104870796203613\n",
      "2.586979866027832\n",
      "2.7391726970672607\n",
      "2.665137767791748\n",
      "2.7646286487579346\n",
      "3.047224283218384\n",
      "2.6082422733306885\n",
      "2.574608087539673\n",
      "2.753448963165283\n",
      "2.4150490760803223\n",
      "2.959533929824829\n",
      "2.517345905303955\n",
      "2.5253050327301025\n",
      "2.779310703277588\n",
      "2.6961581707000732\n",
      "3.3785343170166016\n",
      "2.5869710445404053\n",
      "2.4532346725463867\n",
      "2.266340732574463\n",
      "2.729661703109741\n",
      "2.4753763675689697\n",
      "3.0562381744384766\n",
      "2.5518386363983154\n",
      "3.4981346130371094\n",
      "2.5862393379211426\n",
      "2.6760127544403076\n",
      "2.530287027359009\n",
      "2.300877094268799\n",
      "2.4560608863830566\n",
      "2.4685943126678467\n",
      "2.830005407333374\n",
      "2.8859968185424805\n",
      "2.526259183883667\n",
      "2.595519542694092\n",
      "3.217792510986328\n",
      "2.600062847137451\n",
      "2.84948992729187\n",
      "3.0453052520751953\n",
      "2.130735397338867\n",
      "2.6922991275787354\n",
      "3.323089361190796\n",
      "2.5840258598327637\n",
      "2.651594638824463\n",
      "2.582960367202759\n",
      "2.8924410343170166\n",
      "2.4480624198913574\n",
      "2.690474033355713\n",
      "2.9878175258636475\n",
      "2.7032456398010254\n",
      "2.4383392333984375\n",
      "2.9934563636779785\n",
      "2.427624464035034\n",
      "2.881702423095703\n",
      "2.483267307281494\n",
      "2.725428342819214\n",
      "2.5117785930633545\n",
      "2.7264647483825684\n",
      "2.614182949066162\n",
      "2.8952038288116455\n",
      "2.951237678527832\n",
      "2.4313971996307373\n",
      "2.502821683883667\n",
      "2.8069040775299072\n",
      "2.753909111022949\n",
      "2.9471004009246826\n",
      "2.955714225769043\n",
      "2.7211055755615234\n",
      "2.3532872200012207\n",
      "2.439204692840576\n",
      "2.9332165718078613\n",
      "2.504127025604248\n",
      "2.732935905456543\n",
      "2.866795063018799\n",
      "2.630678653717041\n",
      "2.8282907009124756\n",
      "2.7543108463287354\n",
      "2.844636917114258\n",
      "2.550473928451538\n",
      "2.4339845180511475\n",
      "2.5467641353607178\n",
      "2.616943120956421\n",
      "2.7378664016723633\n",
      "2.7366483211517334\n",
      "2.8011085987091064\n",
      "2.5249786376953125\n",
      "3.118852138519287\n",
      "2.960371971130371\n",
      "3.0738155841827393\n",
      "2.4104058742523193\n",
      "2.7895963191986084\n",
      "2.810469627380371\n",
      "2.9509620666503906\n",
      "2.778407573699951\n",
      "2.3876304626464844\n",
      "2.5466651916503906\n",
      "2.4417507648468018\n",
      "2.4875643253326416\n",
      "2.8432674407958984\n",
      "2.530243158340454\n",
      "2.212646245956421\n",
      "2.5784196853637695\n",
      "2.6367790699005127\n",
      "2.4927375316619873\n",
      "2.3338818550109863\n",
      "2.440484046936035\n",
      "2.766833543777466\n",
      "2.4143102169036865\n"
     ]
    }
   ],
   "source": [
    "# Mini-batch GD\n",
    "epoch = 1000\n",
    "batch_size = 32\n",
    "for _ in range(epoch):\n",
    "    # construct mini-batch\n",
    "    ixs = torch.randint(0,X.shape[0],(batch_size,))\n",
    "    mini_batch = X[ixs,:]\n",
    "    mini_batch_y = Y[ixs]\n",
    "    \n",
    "    # forward pass\n",
    "    emb = C[mini_batch]\n",
    "    h = torch.tanh(emb.view(-1,6) @ W1+b1)\n",
    "    logits = h @ W2 + b2\n",
    "    loss = F.cross_entropy(logits, mini_batch_y)\n",
    "    print(loss.item())\n",
    "    \n",
    "    #backward pass\n",
    "    for p in parameters:\n",
    "        p.grad = None\n",
    "    loss.backward()\n",
    "    \n",
    "    #update\n",
    "    for p in parameters:\n",
    "        p.data += -0.1 * p.grad\n"
   ]
  },
  {
   "cell_type": "markdown",
   "id": "c5093139",
   "metadata": {},
   "source": [
    "Since we are using mini batches, each individual gradient is more noisy but overall it sums up nicely. It is more efficient to make many somewhat correct steps, instead of few correct steps."
   ]
  },
  {
   "cell_type": "markdown",
   "id": "b71ab303",
   "metadata": {},
   "source": [
    "#### How do you determine your learning rate is correct (neither too small nor too big)??\n",
    "\n",
    "If learning rate is very low we wont see any progress. if too big it will blow up.\n",
    "\n",
    "\n",
    "- Try many extreme values like 0.00001 and 10 to come up with a rough estimate of the range.\n",
    "- Then run hyperparameter search"
   ]
  },
  {
   "cell_type": "code",
   "execution_count": 168,
   "id": "337b8486",
   "metadata": {},
   "outputs": [],
   "source": [
    "g = torch.Generator().manual_seed(2147483647)\n",
    "W1 = torch.randn((6,100))\n",
    "b1 = torch.randn(100)\n",
    "W2 = torch.randn((100,27))\n",
    "b2 = torch.randn(27)\n",
    "parameters = [C,W1,b1,W2,b2]"
   ]
  },
  {
   "cell_type": "code",
   "execution_count": 169,
   "id": "962c7bf7",
   "metadata": {},
   "outputs": [],
   "source": [
    "for p in parameters:\n",
    "    p.requires_grad= True"
   ]
  },
  {
   "cell_type": "code",
   "execution_count": 170,
   "id": "afbef287",
   "metadata": {},
   "outputs": [
    {
     "data": {
      "text/plain": [
       "tensor([0.0010, 0.0010, 0.0010, 0.0010, 0.0010, 0.0010, 0.0010, 0.0010, 0.0011,\n",
       "        0.0011, 0.0011, 0.0011, 0.0011, 0.0011, 0.0011, 0.0011, 0.0011, 0.0011,\n",
       "        0.0011, 0.0011, 0.0011, 0.0012, 0.0012, 0.0012, 0.0012, 0.0012, 0.0012,\n",
       "        0.0012, 0.0012, 0.0012, 0.0012, 0.0012, 0.0012, 0.0013, 0.0013, 0.0013,\n",
       "        0.0013, 0.0013, 0.0013, 0.0013, 0.0013, 0.0013, 0.0013, 0.0013, 0.0014,\n",
       "        0.0014, 0.0014, 0.0014, 0.0014, 0.0014, 0.0014, 0.0014, 0.0014, 0.0014,\n",
       "        0.0015, 0.0015, 0.0015, 0.0015, 0.0015, 0.0015, 0.0015, 0.0015, 0.0015,\n",
       "        0.0015, 0.0016, 0.0016, 0.0016, 0.0016, 0.0016, 0.0016, 0.0016, 0.0016,\n",
       "        0.0016, 0.0017, 0.0017, 0.0017, 0.0017, 0.0017, 0.0017, 0.0017, 0.0017,\n",
       "        0.0018, 0.0018, 0.0018, 0.0018, 0.0018, 0.0018, 0.0018, 0.0018, 0.0019,\n",
       "        0.0019, 0.0019, 0.0019, 0.0019, 0.0019, 0.0019, 0.0019, 0.0020, 0.0020,\n",
       "        0.0020, 0.0020, 0.0020, 0.0020, 0.0020, 0.0021, 0.0021, 0.0021, 0.0021,\n",
       "        0.0021, 0.0021, 0.0021, 0.0022, 0.0022, 0.0022, 0.0022, 0.0022, 0.0022,\n",
       "        0.0022, 0.0023, 0.0023, 0.0023, 0.0023, 0.0023, 0.0023, 0.0024, 0.0024,\n",
       "        0.0024, 0.0024, 0.0024, 0.0024, 0.0025, 0.0025, 0.0025, 0.0025, 0.0025,\n",
       "        0.0025, 0.0026, 0.0026, 0.0026, 0.0026, 0.0026, 0.0027, 0.0027, 0.0027,\n",
       "        0.0027, 0.0027, 0.0027, 0.0028, 0.0028, 0.0028, 0.0028, 0.0028, 0.0029,\n",
       "        0.0029, 0.0029, 0.0029, 0.0029, 0.0030, 0.0030, 0.0030, 0.0030, 0.0030,\n",
       "        0.0031, 0.0031, 0.0031, 0.0031, 0.0032, 0.0032, 0.0032, 0.0032, 0.0032,\n",
       "        0.0033, 0.0033, 0.0033, 0.0033, 0.0034, 0.0034, 0.0034, 0.0034, 0.0034,\n",
       "        0.0035, 0.0035, 0.0035, 0.0035, 0.0036, 0.0036, 0.0036, 0.0036, 0.0037,\n",
       "        0.0037, 0.0037, 0.0037, 0.0038, 0.0038, 0.0038, 0.0039, 0.0039, 0.0039,\n",
       "        0.0039, 0.0040, 0.0040, 0.0040, 0.0040, 0.0041, 0.0041, 0.0041, 0.0042,\n",
       "        0.0042, 0.0042, 0.0042, 0.0043, 0.0043, 0.0043, 0.0044, 0.0044, 0.0044,\n",
       "        0.0045, 0.0045, 0.0045, 0.0045, 0.0046, 0.0046, 0.0046, 0.0047, 0.0047,\n",
       "        0.0047, 0.0048, 0.0048, 0.0048, 0.0049, 0.0049, 0.0049, 0.0050, 0.0050,\n",
       "        0.0050, 0.0051, 0.0051, 0.0051, 0.0052, 0.0052, 0.0053, 0.0053, 0.0053,\n",
       "        0.0054, 0.0054, 0.0054, 0.0055, 0.0055, 0.0056, 0.0056, 0.0056, 0.0057,\n",
       "        0.0057, 0.0058, 0.0058, 0.0058, 0.0059, 0.0059, 0.0060, 0.0060, 0.0060,\n",
       "        0.0061, 0.0061, 0.0062, 0.0062, 0.0062, 0.0063, 0.0063, 0.0064, 0.0064,\n",
       "        0.0065, 0.0065, 0.0066, 0.0066, 0.0067, 0.0067, 0.0067, 0.0068, 0.0068,\n",
       "        0.0069, 0.0069, 0.0070, 0.0070, 0.0071, 0.0071, 0.0072, 0.0072, 0.0073,\n",
       "        0.0073, 0.0074, 0.0074, 0.0075, 0.0075, 0.0076, 0.0076, 0.0077, 0.0077,\n",
       "        0.0078, 0.0079, 0.0079, 0.0080, 0.0080, 0.0081, 0.0081, 0.0082, 0.0082,\n",
       "        0.0083, 0.0084, 0.0084, 0.0085, 0.0085, 0.0086, 0.0086, 0.0087, 0.0088,\n",
       "        0.0088, 0.0089, 0.0090, 0.0090, 0.0091, 0.0091, 0.0092, 0.0093, 0.0093,\n",
       "        0.0094, 0.0095, 0.0095, 0.0096, 0.0097, 0.0097, 0.0098, 0.0099, 0.0099,\n",
       "        0.0100, 0.0101, 0.0101, 0.0102, 0.0103, 0.0104, 0.0104, 0.0105, 0.0106,\n",
       "        0.0106, 0.0107, 0.0108, 0.0109, 0.0109, 0.0110, 0.0111, 0.0112, 0.0112,\n",
       "        0.0113, 0.0114, 0.0115, 0.0116, 0.0116, 0.0117, 0.0118, 0.0119, 0.0120,\n",
       "        0.0121, 0.0121, 0.0122, 0.0123, 0.0124, 0.0125, 0.0126, 0.0127, 0.0127,\n",
       "        0.0128, 0.0129, 0.0130, 0.0131, 0.0132, 0.0133, 0.0134, 0.0135, 0.0136,\n",
       "        0.0137, 0.0137, 0.0138, 0.0139, 0.0140, 0.0141, 0.0142, 0.0143, 0.0144,\n",
       "        0.0145, 0.0146, 0.0147, 0.0148, 0.0149, 0.0150, 0.0151, 0.0152, 0.0154,\n",
       "        0.0155, 0.0156, 0.0157, 0.0158, 0.0159, 0.0160, 0.0161, 0.0162, 0.0163,\n",
       "        0.0165, 0.0166, 0.0167, 0.0168, 0.0169, 0.0170, 0.0171, 0.0173, 0.0174,\n",
       "        0.0175, 0.0176, 0.0178, 0.0179, 0.0180, 0.0181, 0.0182, 0.0184, 0.0185,\n",
       "        0.0186, 0.0188, 0.0189, 0.0190, 0.0192, 0.0193, 0.0194, 0.0196, 0.0197,\n",
       "        0.0198, 0.0200, 0.0201, 0.0202, 0.0204, 0.0205, 0.0207, 0.0208, 0.0210,\n",
       "        0.0211, 0.0212, 0.0214, 0.0215, 0.0217, 0.0218, 0.0220, 0.0221, 0.0223,\n",
       "        0.0225, 0.0226, 0.0228, 0.0229, 0.0231, 0.0232, 0.0234, 0.0236, 0.0237,\n",
       "        0.0239, 0.0241, 0.0242, 0.0244, 0.0246, 0.0247, 0.0249, 0.0251, 0.0253,\n",
       "        0.0254, 0.0256, 0.0258, 0.0260, 0.0261, 0.0263, 0.0265, 0.0267, 0.0269,\n",
       "        0.0271, 0.0273, 0.0274, 0.0276, 0.0278, 0.0280, 0.0282, 0.0284, 0.0286,\n",
       "        0.0288, 0.0290, 0.0292, 0.0294, 0.0296, 0.0298, 0.0300, 0.0302, 0.0304,\n",
       "        0.0307, 0.0309, 0.0311, 0.0313, 0.0315, 0.0317, 0.0320, 0.0322, 0.0324,\n",
       "        0.0326, 0.0328, 0.0331, 0.0333, 0.0335, 0.0338, 0.0340, 0.0342, 0.0345,\n",
       "        0.0347, 0.0350, 0.0352, 0.0354, 0.0357, 0.0359, 0.0362, 0.0364, 0.0367,\n",
       "        0.0369, 0.0372, 0.0375, 0.0377, 0.0380, 0.0382, 0.0385, 0.0388, 0.0390,\n",
       "        0.0393, 0.0396, 0.0399, 0.0401, 0.0404, 0.0407, 0.0410, 0.0413, 0.0416,\n",
       "        0.0418, 0.0421, 0.0424, 0.0427, 0.0430, 0.0433, 0.0436, 0.0439, 0.0442,\n",
       "        0.0445, 0.0448, 0.0451, 0.0455, 0.0458, 0.0461, 0.0464, 0.0467, 0.0471,\n",
       "        0.0474, 0.0477, 0.0480, 0.0484, 0.0487, 0.0491, 0.0494, 0.0497, 0.0501,\n",
       "        0.0504, 0.0508, 0.0511, 0.0515, 0.0518, 0.0522, 0.0526, 0.0529, 0.0533,\n",
       "        0.0537, 0.0540, 0.0544, 0.0548, 0.0552, 0.0556, 0.0559, 0.0563, 0.0567,\n",
       "        0.0571, 0.0575, 0.0579, 0.0583, 0.0587, 0.0591, 0.0595, 0.0599, 0.0604,\n",
       "        0.0608, 0.0612, 0.0616, 0.0621, 0.0625, 0.0629, 0.0634, 0.0638, 0.0642,\n",
       "        0.0647, 0.0651, 0.0656, 0.0660, 0.0665, 0.0670, 0.0674, 0.0679, 0.0684,\n",
       "        0.0688, 0.0693, 0.0698, 0.0703, 0.0708, 0.0713, 0.0718, 0.0723, 0.0728,\n",
       "        0.0733, 0.0738, 0.0743, 0.0748, 0.0753, 0.0758, 0.0764, 0.0769, 0.0774,\n",
       "        0.0780, 0.0785, 0.0790, 0.0796, 0.0802, 0.0807, 0.0813, 0.0818, 0.0824,\n",
       "        0.0830, 0.0835, 0.0841, 0.0847, 0.0853, 0.0859, 0.0865, 0.0871, 0.0877,\n",
       "        0.0883, 0.0889, 0.0895, 0.0901, 0.0908, 0.0914, 0.0920, 0.0927, 0.0933,\n",
       "        0.0940, 0.0946, 0.0953, 0.0959, 0.0966, 0.0973, 0.0979, 0.0986, 0.0993,\n",
       "        0.1000, 0.1007, 0.1014, 0.1021, 0.1028, 0.1035, 0.1042, 0.1050, 0.1057,\n",
       "        0.1064, 0.1072, 0.1079, 0.1087, 0.1094, 0.1102, 0.1109, 0.1117, 0.1125,\n",
       "        0.1133, 0.1140, 0.1148, 0.1156, 0.1164, 0.1172, 0.1181, 0.1189, 0.1197,\n",
       "        0.1205, 0.1214, 0.1222, 0.1231, 0.1239, 0.1248, 0.1256, 0.1265, 0.1274,\n",
       "        0.1283, 0.1292, 0.1301, 0.1310, 0.1319, 0.1328, 0.1337, 0.1346, 0.1356,\n",
       "        0.1365, 0.1374, 0.1384, 0.1394, 0.1403, 0.1413, 0.1423, 0.1433, 0.1443,\n",
       "        0.1453, 0.1463, 0.1473, 0.1483, 0.1493, 0.1504, 0.1514, 0.1525, 0.1535,\n",
       "        0.1546, 0.1557, 0.1567, 0.1578, 0.1589, 0.1600, 0.1611, 0.1623, 0.1634,\n",
       "        0.1645, 0.1657, 0.1668, 0.1680, 0.1691, 0.1703, 0.1715, 0.1727, 0.1739,\n",
       "        0.1751, 0.1763, 0.1775, 0.1788, 0.1800, 0.1812, 0.1825, 0.1838, 0.1850,\n",
       "        0.1863, 0.1876, 0.1889, 0.1902, 0.1916, 0.1929, 0.1942, 0.1956, 0.1969,\n",
       "        0.1983, 0.1997, 0.2010, 0.2024, 0.2038, 0.2053, 0.2067, 0.2081, 0.2096,\n",
       "        0.2110, 0.2125, 0.2140, 0.2154, 0.2169, 0.2184, 0.2200, 0.2215, 0.2230,\n",
       "        0.2246, 0.2261, 0.2277, 0.2293, 0.2309, 0.2325, 0.2341, 0.2357, 0.2373,\n",
       "        0.2390, 0.2406, 0.2423, 0.2440, 0.2457, 0.2474, 0.2491, 0.2508, 0.2526,\n",
       "        0.2543, 0.2561, 0.2579, 0.2597, 0.2615, 0.2633, 0.2651, 0.2669, 0.2688,\n",
       "        0.2707, 0.2725, 0.2744, 0.2763, 0.2783, 0.2802, 0.2821, 0.2841, 0.2861,\n",
       "        0.2880, 0.2900, 0.2921, 0.2941, 0.2961, 0.2982, 0.3002, 0.3023, 0.3044,\n",
       "        0.3065, 0.3087, 0.3108, 0.3130, 0.3151, 0.3173, 0.3195, 0.3217, 0.3240,\n",
       "        0.3262, 0.3285, 0.3308, 0.3331, 0.3354, 0.3377, 0.3400, 0.3424, 0.3448,\n",
       "        0.3472, 0.3496, 0.3520, 0.3544, 0.3569, 0.3594, 0.3619, 0.3644, 0.3669,\n",
       "        0.3695, 0.3720, 0.3746, 0.3772, 0.3798, 0.3825, 0.3851, 0.3878, 0.3905,\n",
       "        0.3932, 0.3959, 0.3987, 0.4014, 0.4042, 0.4070, 0.4098, 0.4127, 0.4155,\n",
       "        0.4184, 0.4213, 0.4243, 0.4272, 0.4302, 0.4331, 0.4362, 0.4392, 0.4422,\n",
       "        0.4453, 0.4484, 0.4515, 0.4546, 0.4578, 0.4610, 0.4642, 0.4674, 0.4706,\n",
       "        0.4739, 0.4772, 0.4805, 0.4838, 0.4872, 0.4906, 0.4940, 0.4974, 0.5008,\n",
       "        0.5043, 0.5078, 0.5113, 0.5149, 0.5185, 0.5221, 0.5257, 0.5293, 0.5330,\n",
       "        0.5367, 0.5404, 0.5442, 0.5479, 0.5517, 0.5556, 0.5594, 0.5633, 0.5672,\n",
       "        0.5712, 0.5751, 0.5791, 0.5831, 0.5872, 0.5913, 0.5954, 0.5995, 0.6036,\n",
       "        0.6078, 0.6120, 0.6163, 0.6206, 0.6249, 0.6292, 0.6336, 0.6380, 0.6424,\n",
       "        0.6469, 0.6513, 0.6559, 0.6604, 0.6650, 0.6696, 0.6743, 0.6789, 0.6837,\n",
       "        0.6884, 0.6932, 0.6980, 0.7028, 0.7077, 0.7126, 0.7176, 0.7225, 0.7275,\n",
       "        0.7326, 0.7377, 0.7428, 0.7480, 0.7531, 0.7584, 0.7636, 0.7689, 0.7743,\n",
       "        0.7796, 0.7850, 0.7905, 0.7960, 0.8015, 0.8071, 0.8127, 0.8183, 0.8240,\n",
       "        0.8297, 0.8355, 0.8412, 0.8471, 0.8530, 0.8589, 0.8648, 0.8708, 0.8769,\n",
       "        0.8830, 0.8891, 0.8953, 0.9015, 0.9077, 0.9140, 0.9204, 0.9268, 0.9332,\n",
       "        0.9397, 0.9462, 0.9528, 0.9594, 0.9660, 0.9727, 0.9795, 0.9863, 0.9931,\n",
       "        1.0000])"
      ]
     },
     "execution_count": 170,
     "metadata": {},
     "output_type": "execute_result"
    }
   ],
   "source": [
    "# we should sample from the log scale\n",
    "lre = torch.linspace(-3,0,1000,requires_grad=False)\n",
    "lrs = 10**lre\n",
    "lrs"
   ]
  },
  {
   "cell_type": "code",
   "execution_count": 171,
   "id": "d587ca68",
   "metadata": {},
   "outputs": [
    {
     "name": "stdout",
     "output_type": "stream",
     "text": [
      "13.365704536437988\n",
      "14.148274421691895\n",
      "16.171045303344727\n",
      "14.3372163772583\n",
      "14.996829986572266\n",
      "13.104650497436523\n",
      "15.710430145263672\n",
      "13.263768196105957\n",
      "12.976149559020996\n",
      "14.394404411315918\n",
      "16.763919830322266\n",
      "16.49031639099121\n",
      "14.891071319580078\n",
      "13.3933744430542\n",
      "13.58803653717041\n",
      "14.168462753295898\n",
      "15.527363777160645\n",
      "13.533979415893555\n",
      "12.244095802307129\n",
      "16.690366744995117\n",
      "15.786914825439453\n",
      "11.864158630371094\n",
      "15.865274429321289\n",
      "13.909329414367676\n",
      "13.31160831451416\n",
      "14.070466041564941\n",
      "14.185494422912598\n",
      "14.49293041229248\n",
      "14.985494613647461\n",
      "14.951014518737793\n",
      "14.202820777893066\n",
      "12.637670516967773\n",
      "15.378809928894043\n",
      "14.121330261230469\n",
      "16.167064666748047\n",
      "15.029653549194336\n",
      "13.774625778198242\n",
      "11.395874977111816\n",
      "14.33232307434082\n",
      "14.102524757385254\n",
      "12.610724449157715\n",
      "15.114350318908691\n",
      "14.730607986450195\n",
      "13.372964859008789\n",
      "13.627256393432617\n",
      "14.726616859436035\n",
      "15.204427719116211\n",
      "15.946502685546875\n",
      "12.452427864074707\n",
      "11.06043815612793\n",
      "13.442298889160156\n",
      "13.75441837310791\n",
      "12.123719215393066\n",
      "10.41511058807373\n",
      "10.820202827453613\n",
      "15.599736213684082\n",
      "13.601099967956543\n",
      "11.89910888671875\n",
      "13.777639389038086\n",
      "12.453362464904785\n",
      "13.926766395568848\n",
      "12.817472457885742\n",
      "12.650962829589844\n",
      "14.85141372680664\n",
      "11.298540115356445\n",
      "14.154426574707031\n",
      "13.753260612487793\n",
      "13.951745986938477\n",
      "12.06389045715332\n",
      "15.410307884216309\n",
      "14.504888534545898\n",
      "15.05203914642334\n",
      "14.510047912597656\n",
      "12.32728385925293\n",
      "15.7154541015625\n",
      "12.162154197692871\n",
      "15.115348815917969\n",
      "14.255575180053711\n",
      "12.518380165100098\n",
      "12.199828147888184\n",
      "12.73770809173584\n",
      "11.431838989257812\n",
      "14.369891166687012\n",
      "15.05828857421875\n",
      "13.626533508300781\n",
      "14.043816566467285\n",
      "11.36263656616211\n",
      "12.972853660583496\n",
      "12.762628555297852\n",
      "13.29537296295166\n",
      "15.11048698425293\n",
      "12.83319091796875\n",
      "11.81414794921875\n",
      "12.474996566772461\n",
      "11.3922700881958\n",
      "11.731918334960938\n",
      "13.961185455322266\n",
      "12.448633193969727\n",
      "12.744988441467285\n",
      "14.273249626159668\n",
      "11.458158493041992\n",
      "13.001693725585938\n",
      "12.7374267578125\n",
      "12.219298362731934\n",
      "12.31114387512207\n",
      "15.277159690856934\n",
      "12.480064392089844\n",
      "13.960153579711914\n",
      "13.281160354614258\n",
      "11.827375411987305\n",
      "15.149886131286621\n",
      "12.360747337341309\n",
      "10.759942054748535\n",
      "10.948527336120605\n",
      "15.454404830932617\n",
      "13.500521659851074\n",
      "15.070693016052246\n",
      "9.242828369140625\n",
      "12.367635726928711\n",
      "10.90191650390625\n",
      "13.47285270690918\n",
      "13.15117073059082\n",
      "12.326696395874023\n",
      "14.326165199279785\n",
      "11.600993156433105\n",
      "10.461392402648926\n",
      "12.691879272460938\n",
      "11.51058292388916\n",
      "12.431196212768555\n",
      "12.452507019042969\n",
      "12.39024543762207\n",
      "8.635273933410645\n",
      "12.890690803527832\n",
      "13.359757423400879\n",
      "14.213000297546387\n",
      "11.658106803894043\n",
      "12.88375473022461\n",
      "11.85706615447998\n",
      "12.31028938293457\n",
      "11.783416748046875\n",
      "12.460908889770508\n",
      "12.496472358703613\n",
      "13.715457916259766\n",
      "10.440194129943848\n",
      "12.145316123962402\n",
      "13.36431884765625\n",
      "12.315195083618164\n",
      "8.748855590820312\n",
      "11.661175727844238\n",
      "12.215475082397461\n",
      "11.104391098022461\n",
      "14.589354515075684\n",
      "11.690319061279297\n",
      "12.034645080566406\n",
      "11.20138931274414\n",
      "10.36961555480957\n",
      "12.289191246032715\n",
      "12.249324798583984\n",
      "13.046875\n",
      "11.485930442810059\n",
      "11.068975448608398\n",
      "10.312736511230469\n",
      "10.089847564697266\n",
      "10.590851783752441\n",
      "11.457650184631348\n",
      "11.852487564086914\n",
      "10.758376121520996\n",
      "10.454207420349121\n",
      "10.385505676269531\n",
      "11.258299827575684\n",
      "12.708393096923828\n",
      "11.248237609863281\n",
      "11.27962875366211\n",
      "9.80124282836914\n",
      "13.660490989685059\n",
      "10.597997665405273\n",
      "11.282438278198242\n",
      "11.967216491699219\n",
      "11.697664260864258\n",
      "10.140473365783691\n",
      "10.634661674499512\n",
      "11.72066879272461\n",
      "9.940251350402832\n",
      "10.448180198669434\n",
      "8.802496910095215\n",
      "10.81673526763916\n",
      "11.186092376708984\n",
      "9.973993301391602\n",
      "10.452882766723633\n",
      "10.138077735900879\n",
      "10.447824478149414\n",
      "9.284022331237793\n",
      "12.405035972595215\n",
      "10.580862998962402\n",
      "11.666831016540527\n",
      "10.79061222076416\n",
      "10.982804298400879\n",
      "9.100749969482422\n",
      "9.298619270324707\n",
      "10.173477172851562\n",
      "11.432735443115234\n",
      "10.583272933959961\n",
      "9.085397720336914\n",
      "12.520364761352539\n",
      "9.972970962524414\n",
      "11.011393547058105\n",
      "12.285682678222656\n",
      "10.649890899658203\n",
      "10.439847946166992\n",
      "8.653583526611328\n",
      "8.696257591247559\n",
      "9.003145217895508\n",
      "9.288944244384766\n",
      "6.717181205749512\n",
      "10.720033645629883\n",
      "10.007408142089844\n",
      "10.345253944396973\n",
      "10.528589248657227\n",
      "9.562747955322266\n",
      "7.887825965881348\n",
      "10.381810188293457\n",
      "9.695759773254395\n",
      "9.859935760498047\n",
      "11.829641342163086\n",
      "9.388240814208984\n",
      "9.629484176635742\n",
      "8.88216495513916\n",
      "10.280328750610352\n",
      "10.102389335632324\n",
      "9.441455841064453\n",
      "8.609097480773926\n",
      "8.663064002990723\n",
      "9.615694046020508\n",
      "9.404790878295898\n",
      "10.479964256286621\n",
      "12.029051780700684\n",
      "8.72141170501709\n",
      "8.127053260803223\n",
      "9.41822624206543\n",
      "10.27310848236084\n",
      "10.711666107177734\n",
      "10.483752250671387\n",
      "11.17234992980957\n",
      "10.672563552856445\n",
      "8.920321464538574\n",
      "9.291810035705566\n",
      "11.11823558807373\n",
      "9.360798835754395\n",
      "8.82712173461914\n",
      "8.99327278137207\n",
      "8.192647933959961\n",
      "8.888131141662598\n",
      "10.49799633026123\n",
      "8.64108943939209\n",
      "8.268964767456055\n",
      "8.597443580627441\n",
      "9.494394302368164\n",
      "9.503262519836426\n",
      "7.802003383636475\n",
      "9.500208854675293\n",
      "6.848222255706787\n",
      "10.096373558044434\n",
      "8.71101188659668\n",
      "7.581769943237305\n",
      "7.667032241821289\n",
      "8.028465270996094\n",
      "6.650287628173828\n",
      "9.704639434814453\n",
      "7.206124305725098\n",
      "6.866505146026611\n",
      "9.987188339233398\n",
      "8.787577629089355\n",
      "8.973297119140625\n",
      "7.0085368156433105\n",
      "8.599327087402344\n",
      "8.160840034484863\n",
      "8.892109870910645\n",
      "5.999258995056152\n",
      "7.023764133453369\n",
      "8.242391586303711\n",
      "6.882816314697266\n",
      "8.89632511138916\n",
      "8.070616722106934\n",
      "8.858809471130371\n",
      "8.479766845703125\n",
      "7.708977222442627\n",
      "7.892953395843506\n",
      "7.686470985412598\n",
      "8.680421829223633\n",
      "6.703675270080566\n",
      "5.370670318603516\n",
      "8.113327026367188\n",
      "8.399319648742676\n",
      "6.816971302032471\n",
      "8.190352439880371\n",
      "6.292157173156738\n",
      "7.162743091583252\n",
      "7.143115043640137\n",
      "6.847057342529297\n",
      "8.005253791809082\n",
      "7.90892219543457\n",
      "8.07589054107666\n",
      "8.504940032958984\n",
      "5.635512351989746\n",
      "7.872665882110596\n",
      "8.495871543884277\n",
      "6.908746719360352\n",
      "9.903621673583984\n",
      "6.453219890594482\n",
      "6.962641716003418\n",
      "6.247743129730225\n",
      "6.523672103881836\n",
      "8.095831871032715\n",
      "6.891427993774414\n",
      "6.995720863342285\n",
      "8.576672554016113\n",
      "6.063056945800781\n",
      "5.866931915283203\n",
      "8.293643951416016\n",
      "7.637848854064941\n",
      "7.1899800300598145\n",
      "6.812047481536865\n",
      "6.572571277618408\n",
      "5.909682273864746\n",
      "7.6286211013793945\n",
      "5.482186317443848\n",
      "5.464776039123535\n",
      "6.768769264221191\n",
      "8.550902366638184\n",
      "6.409771919250488\n",
      "7.267331123352051\n",
      "4.837136745452881\n",
      "8.397789001464844\n",
      "6.158816814422607\n",
      "6.3484601974487305\n",
      "6.1197285652160645\n",
      "5.898108005523682\n",
      "5.735966682434082\n",
      "6.994124412536621\n",
      "5.711395263671875\n",
      "5.928313255310059\n",
      "6.504395484924316\n",
      "6.7703375816345215\n",
      "5.842164993286133\n",
      "6.764273166656494\n",
      "5.537789344787598\n",
      "6.656577110290527\n",
      "5.11475133895874\n",
      "4.502633094787598\n",
      "5.587093353271484\n",
      "6.577486515045166\n",
      "5.421104431152344\n",
      "5.313988208770752\n",
      "6.431564807891846\n",
      "6.718067169189453\n",
      "6.710595607757568\n",
      "5.547772407531738\n",
      "4.151302337646484\n",
      "6.3950605392456055\n",
      "3.981687068939209\n",
      "5.44132661819458\n",
      "6.699268341064453\n",
      "5.884207725524902\n",
      "4.750367164611816\n",
      "3.8317084312438965\n",
      "5.4810638427734375\n",
      "5.324478626251221\n",
      "4.7418646812438965\n",
      "5.940006732940674\n",
      "6.034580230712891\n",
      "5.012248992919922\n",
      "5.876387596130371\n",
      "4.301156997680664\n",
      "4.981851577758789\n",
      "5.539483547210693\n",
      "4.50676155090332\n",
      "4.844120025634766\n",
      "6.491527557373047\n",
      "4.491881370544434\n",
      "4.639929294586182\n",
      "4.9497456550598145\n",
      "4.62103271484375\n",
      "4.081726551055908\n",
      "5.52538537979126\n",
      "4.766975402832031\n",
      "5.283459186553955\n",
      "4.319105625152588\n",
      "4.258175849914551\n",
      "4.823792934417725\n",
      "4.570755958557129\n",
      "3.6239442825317383\n",
      "4.772773742675781\n",
      "5.039013385772705\n",
      "4.221760272979736\n",
      "4.020771503448486\n",
      "5.721977710723877\n",
      "3.8551878929138184\n",
      "5.0003838539123535\n",
      "4.776978492736816\n",
      "4.058827877044678\n",
      "4.018579006195068\n",
      "3.856736183166504\n",
      "3.852915048599243\n",
      "3.659172534942627\n",
      "4.097020626068115\n",
      "2.9728548526763916\n",
      "4.492049694061279\n",
      "3.6314971446990967\n",
      "5.641674041748047\n",
      "4.442117214202881\n",
      "5.270135879516602\n",
      "4.158928871154785\n",
      "4.382546424865723\n",
      "3.155121088027954\n",
      "4.270089626312256\n",
      "4.481723308563232\n",
      "3.5094335079193115\n",
      "2.9764256477355957\n",
      "3.5872743129730225\n",
      "4.038253307342529\n",
      "3.699862003326416\n",
      "3.862959623336792\n",
      "4.45815372467041\n",
      "4.7313923835754395\n",
      "4.336827278137207\n",
      "3.539201021194458\n",
      "4.2937703132629395\n",
      "3.7836265563964844\n",
      "3.246519088745117\n",
      "4.738115310668945\n",
      "4.081465721130371\n",
      "3.8691678047180176\n",
      "3.7647147178649902\n",
      "2.4666244983673096\n",
      "4.141720294952393\n",
      "3.30267596244812\n",
      "3.077373743057251\n",
      "4.210103988647461\n",
      "3.3480145931243896\n",
      "2.839588165283203\n",
      "3.4551749229431152\n",
      "2.9570610523223877\n",
      "3.262265920639038\n",
      "3.858048915863037\n",
      "3.5317533016204834\n",
      "4.348267078399658\n",
      "3.703953266143799\n",
      "5.964785099029541\n",
      "2.802607774734497\n",
      "3.4260425567626953\n",
      "3.028886318206787\n",
      "3.733388900756836\n",
      "3.268082618713379\n",
      "2.803893566131592\n",
      "3.4211080074310303\n",
      "3.909369707107544\n",
      "3.7524006366729736\n",
      "3.915064811706543\n",
      "3.206968069076538\n",
      "3.090792179107666\n",
      "3.481476306915283\n",
      "3.8783435821533203\n",
      "3.0248796939849854\n",
      "3.9829883575439453\n",
      "2.965711832046509\n",
      "3.6801326274871826\n",
      "2.8361852169036865\n",
      "3.6615805625915527\n",
      "2.858191967010498\n",
      "3.985534906387329\n",
      "3.1582179069519043\n",
      "3.8888044357299805\n",
      "3.3276543617248535\n",
      "3.4083752632141113\n",
      "3.433598279953003\n",
      "4.280231952667236\n",
      "3.5168864727020264\n",
      "3.6333072185516357\n",
      "3.751875638961792\n",
      "2.9453182220458984\n",
      "3.9982261657714844\n",
      "3.0994491577148438\n",
      "4.345916748046875\n",
      "2.840771436691284\n",
      "3.393322229385376\n",
      "2.854077100753784\n",
      "3.2192437648773193\n",
      "4.0346879959106445\n",
      "3.492920398712158\n",
      "3.685861110687256\n",
      "3.473698854446411\n",
      "2.9657790660858154\n",
      "3.694730520248413\n",
      "4.326261520385742\n",
      "2.785231113433838\n",
      "3.5770182609558105\n",
      "3.2027432918548584\n",
      "3.176302909851074\n",
      "2.78159499168396\n",
      "2.636414051055908\n",
      "2.87298321723938\n",
      "3.0074069499969482\n",
      "3.2965774536132812\n",
      "3.8574960231781006\n",
      "2.9788200855255127\n",
      "3.010981798171997\n",
      "3.745880365371704\n",
      "2.8055896759033203\n",
      "3.138369083404541\n",
      "3.159212350845337\n",
      "2.723694324493408\n",
      "3.3405473232269287\n",
      "2.9601314067840576\n",
      "4.09190034866333\n",
      "2.9573757648468018\n",
      "3.3253748416900635\n",
      "4.230371475219727\n",
      "2.8674964904785156\n",
      "3.25618577003479\n",
      "3.273122549057007\n",
      "3.388359785079956\n",
      "3.036106586456299\n",
      "3.3008034229278564\n",
      "2.860668182373047\n",
      "3.0020828247070312\n",
      "3.360039234161377\n",
      "2.956408977508545\n",
      "2.611133575439453\n",
      "3.2742702960968018\n",
      "3.54990553855896\n",
      "2.6004714965820312\n",
      "3.0107102394104004\n",
      "3.2520411014556885\n",
      "3.225343942642212\n",
      "3.0457043647766113\n",
      "3.3429152965545654\n",
      "3.067366123199463\n",
      "3.4423365592956543\n",
      "3.5280520915985107\n",
      "3.2153728008270264\n",
      "2.918576955795288\n",
      "2.933176279067993\n",
      "3.2654058933258057\n",
      "3.048050880432129\n",
      "3.4469614028930664\n",
      "3.1859662532806396\n",
      "2.883507251739502\n",
      "3.4217610359191895\n",
      "3.2382028102874756\n",
      "3.2498910427093506\n",
      "2.7101075649261475\n",
      "2.958996057510376\n",
      "2.785371780395508\n",
      "3.408876895904541\n",
      "3.548306703567505\n",
      "3.227696180343628\n",
      "3.3757615089416504\n",
      "2.6165108680725098\n",
      "2.9221572875976562\n",
      "3.0237081050872803\n",
      "2.7686257362365723\n",
      "2.65374493598938\n",
      "2.7433700561523438\n",
      "2.7214810848236084\n",
      "3.006021738052368\n",
      "2.7083740234375\n",
      "2.4313998222351074\n",
      "3.0385422706604004\n",
      "3.222144842147827\n",
      "3.381742238998413\n",
      "3.3102738857269287\n",
      "2.7152791023254395\n",
      "3.158907890319824\n",
      "2.8250012397766113\n",
      "2.6628623008728027\n",
      "2.9832723140716553\n",
      "3.272949695587158\n",
      "3.3583946228027344\n",
      "3.125253438949585\n",
      "3.1540050506591797\n",
      "2.5966999530792236\n",
      "3.09437894821167\n",
      "2.932126045227051\n",
      "3.315049171447754\n",
      "2.771789312362671\n",
      "3.102353096008301\n",
      "3.351968288421631\n",
      "3.1717166900634766\n",
      "3.6081106662750244\n",
      "3.1493968963623047\n",
      "2.6125307083129883\n",
      "2.994128704071045\n",
      "2.5038247108459473\n",
      "3.8350579738616943\n",
      "2.8436543941497803\n",
      "3.5057361125946045\n",
      "2.9639291763305664\n",
      "3.3439462184906006\n",
      "2.9782094955444336\n",
      "2.988024950027466\n",
      "3.331073760986328\n",
      "3.434786558151245\n",
      "3.1758482456207275\n",
      "2.8369030952453613\n",
      "3.611811876296997\n",
      "2.7736191749572754\n",
      "3.6010806560516357\n",
      "2.8102426528930664\n",
      "3.2421185970306396\n",
      "3.3321571350097656\n",
      "2.7969982624053955\n",
      "2.937774658203125\n",
      "2.93552303314209\n",
      "3.0291619300842285\n",
      "3.5663089752197266\n",
      "3.0420477390289307\n",
      "2.8521969318389893\n",
      "3.138762950897217\n",
      "2.8506717681884766\n",
      "2.372328042984009\n",
      "3.036494493484497\n",
      "3.3763678073883057\n",
      "3.5261778831481934\n",
      "3.32580828666687\n",
      "2.88989520072937\n",
      "2.922945737838745\n",
      "3.664602279663086\n",
      "3.2458932399749756\n",
      "3.9180822372436523\n",
      "3.225645065307617\n",
      "3.001584529876709\n",
      "3.3166885375976562\n",
      "3.489020586013794\n",
      "4.234704971313477\n",
      "2.847421884536743\n",
      "2.69352650642395\n",
      "2.7535922527313232\n",
      "2.946066379547119\n",
      "3.8304107189178467\n",
      "2.935605049133301\n",
      "2.7131924629211426\n",
      "2.9529900550842285\n",
      "3.298607349395752\n",
      "2.7320303916931152\n",
      "2.2917187213897705\n",
      "3.1056621074676514\n",
      "2.9952406883239746\n",
      "3.1007394790649414\n",
      "3.0715384483337402\n",
      "2.8846747875213623\n",
      "2.9606821537017822\n",
      "2.6372060775756836\n",
      "3.145819664001465\n",
      "3.0119192600250244\n",
      "3.3547351360321045\n",
      "3.0340099334716797\n",
      "2.804030418395996\n",
      "3.3056418895721436\n",
      "3.06430983543396\n",
      "2.546412706375122\n",
      "2.810605525970459\n",
      "3.3105602264404297\n",
      "3.5240161418914795\n",
      "3.4302096366882324\n",
      "3.1641006469726562\n",
      "2.8791167736053467\n",
      "3.0631861686706543\n",
      "3.0732736587524414\n",
      "3.061300754547119\n",
      "2.8910958766937256\n",
      "2.834123134613037\n",
      "2.9517083168029785\n",
      "3.1316065788269043\n",
      "2.9257450103759766\n",
      "2.9562478065490723\n",
      "2.639636754989624\n",
      "2.863098621368408\n",
      "2.9308650493621826\n",
      "2.5695250034332275\n",
      "2.9717977046966553\n",
      "2.4922308921813965\n",
      "3.3870184421539307\n",
      "2.5280098915100098\n",
      "2.876934051513672\n",
      "2.8600194454193115\n",
      "2.8399128913879395\n",
      "2.1988513469696045\n",
      "3.232489824295044\n",
      "3.9648470878601074\n",
      "3.4200360774993896\n",
      "3.135450601577759\n",
      "3.187530994415283\n",
      "3.2185611724853516\n",
      "3.1961729526519775\n",
      "2.999829053878784\n",
      "2.7712764739990234\n",
      "3.2351906299591064\n",
      "3.74812388420105\n",
      "3.1749846935272217\n",
      "3.1541054248809814\n",
      "3.0837700366973877\n",
      "3.3037517070770264\n",
      "3.4065494537353516\n",
      "3.3967392444610596\n",
      "3.1385841369628906\n",
      "2.9489777088165283\n",
      "2.924100875854492\n",
      "3.1636416912078857\n",
      "3.538846492767334\n",
      "3.2081429958343506\n",
      "3.0184285640716553\n",
      "2.927351236343384\n",
      "2.9524755477905273\n",
      "3.1145570278167725\n",
      "3.971437454223633\n",
      "3.7523367404937744\n",
      "3.4715514183044434\n",
      "2.7769711017608643\n",
      "3.0782415866851807\n",
      "3.1304140090942383\n",
      "3.8953471183776855\n",
      "4.258930683135986\n",
      "3.32179856300354\n",
      "2.5837273597717285\n",
      "2.7473909854888916\n",
      "3.3975329399108887\n",
      "3.365511417388916\n",
      "3.365492105484009\n",
      "2.9873416423797607\n",
      "2.892517328262329\n",
      "3.500110387802124\n",
      "3.5663347244262695\n",
      "3.065096616744995\n",
      "3.264404058456421\n",
      "3.0313756465911865\n",
      "2.990746021270752\n",
      "3.195099353790283\n",
      "2.943251371383667\n",
      "3.401529312133789\n",
      "2.93062162399292\n",
      "2.702136754989624\n",
      "2.6080894470214844\n",
      "3.046093225479126\n",
      "2.63274884223938\n",
      "3.404374837875366\n",
      "3.3659605979919434\n",
      "3.2898263931274414\n",
      "2.9352645874023438\n",
      "3.657952070236206\n",
      "3.5706188678741455\n",
      "3.139998435974121\n",
      "3.3108699321746826\n",
      "4.072256088256836\n",
      "3.026552438735962\n",
      "2.9559948444366455\n",
      "3.5446507930755615\n",
      "3.279049873352051\n",
      "3.230163812637329\n",
      "2.801758289337158\n",
      "3.31459379196167\n",
      "2.8517208099365234\n",
      "3.153693437576294\n",
      "3.408057451248169\n",
      "3.8772621154785156\n",
      "3.2586474418640137\n",
      "3.468116283416748\n",
      "4.436711311340332\n",
      "3.6324524879455566\n",
      "3.653195381164551\n",
      "3.1455671787261963\n",
      "2.9953787326812744\n",
      "3.456939220428467\n",
      "3.791527509689331\n",
      "3.286447763442993\n",
      "3.27854323387146\n",
      "3.21795654296875\n",
      "4.194166660308838\n",
      "4.244316577911377\n",
      "3.917423963546753\n",
      "3.5197644233703613\n",
      "4.075778961181641\n",
      "4.029099941253662\n",
      "4.857448101043701\n",
      "3.892507791519165\n",
      "4.801429271697998\n",
      "4.599567890167236\n",
      "4.399627208709717\n",
      "3.289243698120117\n",
      "3.587005138397217\n",
      "3.3110666275024414\n",
      "3.961557388305664\n",
      "3.114799976348877\n",
      "3.683556079864502\n",
      "4.401402473449707\n",
      "4.955419540405273\n",
      "4.930741786956787\n",
      "4.916413307189941\n",
      "3.9406380653381348\n",
      "5.82266902923584\n",
      "5.077717304229736\n",
      "4.800150394439697\n",
      "3.8263020515441895\n",
      "4.758310794830322\n",
      "4.508496284484863\n",
      "3.3363640308380127\n",
      "3.464709997177124\n",
      "4.961190700531006\n",
      "4.701900005340576\n",
      "4.974167823791504\n",
      "3.0524203777313232\n",
      "3.929457664489746\n",
      "3.3306519985198975\n",
      "3.9410929679870605\n",
      "3.917726993560791\n",
      "3.8799896240234375\n",
      "2.708035469055176\n",
      "3.5241503715515137\n",
      "3.533450126647949\n",
      "3.052325487136841\n",
      "3.6449942588806152\n",
      "3.7392473220825195\n",
      "4.063446521759033\n",
      "5.528869152069092\n",
      "3.6643738746643066\n",
      "3.5822677612304688\n",
      "3.998931646347046\n",
      "3.73211407661438\n",
      "3.665261745452881\n",
      "4.5029296875\n",
      "3.0719540119171143\n",
      "7.551349639892578\n",
      "4.936671733856201\n",
      "5.1655592918396\n",
      "6.660882472991943\n",
      "4.5035810470581055\n",
      "4.118415832519531\n",
      "3.8641297817230225\n",
      "7.558221817016602\n",
      "5.902565002441406\n",
      "3.719409704208374\n",
      "3.515125274658203\n",
      "4.41945743560791\n",
      "3.240605592727661\n",
      "3.997690200805664\n",
      "5.005417346954346\n",
      "7.213421821594238\n",
      "2.6465201377868652\n",
      "4.884825229644775\n",
      "3.645615816116333\n",
      "3.6006388664245605\n",
      "3.3198466300964355\n",
      "3.497236490249634\n",
      "3.174839973449707\n",
      "4.243806838989258\n",
      "6.175928592681885\n",
      "4.282019138336182\n",
      "6.228469371795654\n",
      "6.660581588745117\n",
      "7.414700984954834\n",
      "5.731480121612549\n",
      "3.8331618309020996\n",
      "3.843705415725708\n",
      "4.58881950378418\n",
      "4.979132652282715\n",
      "4.814441204071045\n",
      "6.939707279205322\n",
      "4.016493320465088\n"
     ]
    },
    {
     "name": "stdout",
     "output_type": "stream",
     "text": [
      "3.978483200073242\n",
      "4.691576957702637\n",
      "3.528175115585327\n",
      "3.7718117237091064\n",
      "5.409267902374268\n",
      "5.049508094787598\n",
      "4.50767183303833\n",
      "6.651455402374268\n",
      "4.378150463104248\n",
      "4.089488506317139\n",
      "4.364913463592529\n",
      "3.217946767807007\n",
      "3.469348192214966\n",
      "5.95911979675293\n",
      "7.330340385437012\n",
      "11.271224975585938\n",
      "8.823877334594727\n",
      "4.792705535888672\n",
      "4.5939459800720215\n",
      "5.0544023513793945\n",
      "4.747861385345459\n",
      "6.525347709655762\n",
      "4.1698079109191895\n",
      "3.517338275909424\n",
      "5.082663536071777\n",
      "8.241408348083496\n",
      "4.749773979187012\n",
      "7.044714450836182\n",
      "8.156347274780273\n",
      "4.687533378601074\n",
      "5.519313812255859\n",
      "5.759998798370361\n",
      "5.839644908905029\n",
      "5.844503879547119\n",
      "4.3915934562683105\n",
      "5.243415832519531\n",
      "7.041904926300049\n",
      "6.609964847564697\n",
      "5.939275741577148\n",
      "5.734142303466797\n",
      "2.813887596130371\n",
      "4.226243495941162\n",
      "4.983874320983887\n",
      "6.022886753082275\n",
      "4.7775421142578125\n",
      "5.89966344833374\n",
      "6.191433906555176\n",
      "5.729623317718506\n",
      "5.223484992980957\n",
      "6.299342632293701\n",
      "4.535141944885254\n",
      "4.721187591552734\n",
      "6.282458305358887\n",
      "5.421631813049316\n",
      "5.6520771980285645\n",
      "7.831754207611084\n",
      "7.508852481842041\n",
      "5.7321085929870605\n",
      "4.317287445068359\n",
      "5.502284526824951\n",
      "5.310403347015381\n",
      "4.309847354888916\n",
      "6.70684814453125\n",
      "4.891318321228027\n",
      "6.5486040115356445\n",
      "6.223512172698975\n",
      "6.593839168548584\n",
      "6.234424114227295\n",
      "5.127303123474121\n",
      "7.790706157684326\n",
      "5.658458232879639\n",
      "7.235026836395264\n",
      "5.821167945861816\n",
      "5.756956100463867\n",
      "7.463597297668457\n",
      "6.575669288635254\n",
      "6.018302917480469\n",
      "5.099050045013428\n",
      "5.4298248291015625\n",
      "4.5600714683532715\n",
      "5.2480244636535645\n",
      "7.055278778076172\n",
      "8.985616683959961\n",
      "6.391490459442139\n",
      "7.347965240478516\n",
      "6.179653167724609\n",
      "6.301211833953857\n",
      "5.5082244873046875\n",
      "5.468932151794434\n",
      "7.654919624328613\n",
      "9.618014335632324\n",
      "7.456697463989258\n",
      "7.751275539398193\n",
      "8.203744888305664\n",
      "9.360782623291016\n",
      "9.167168617248535\n",
      "8.357316970825195\n",
      "6.467618942260742\n",
      "8.058856964111328\n",
      "8.677236557006836\n",
      "9.462775230407715\n",
      "7.551252365112305\n",
      "7.582019329071045\n",
      "9.011520385742188\n",
      "6.629051685333252\n",
      "8.321272850036621\n",
      "5.783390522003174\n",
      "6.108640193939209\n",
      "9.112040519714355\n",
      "9.032151222229004\n",
      "8.17955207824707\n",
      "9.370118141174316\n",
      "8.592610359191895\n",
      "10.208657264709473\n",
      "11.489852905273438\n",
      "8.738874435424805\n",
      "9.882668495178223\n",
      "8.150228500366211\n",
      "8.244839668273926\n",
      "8.398229598999023\n",
      "10.558716773986816\n",
      "8.872130393981934\n",
      "8.70423698425293\n",
      "7.506699085235596\n",
      "9.747359275817871\n",
      "10.39525318145752\n",
      "9.391709327697754\n",
      "7.080723285675049\n",
      "9.21301555633545\n",
      "8.117016792297363\n",
      "6.779250621795654\n",
      "6.134092330932617\n",
      "5.4086480140686035\n"
     ]
    }
   ],
   "source": [
    "# Mini-batch GD\n",
    "epoch = 1000\n",
    "batch_size = 32\n",
    "lri = []\n",
    "lossi = []\n",
    "for i in range(epoch):\n",
    "    # construct mini-batch\n",
    "    ixs = torch.randint(0,X.shape[0],(batch_size,))\n",
    "    mini_batch = X[ixs,:]\n",
    "    mini_batch_y = Y[ixs]\n",
    "    \n",
    "    # forward pass\n",
    "    emb = C[mini_batch]\n",
    "    h = torch.tanh(emb.view(-1,6) @ W1+b1)\n",
    "    logits = h @ W2 + b2\n",
    "    loss = F.cross_entropy(logits, mini_batch_y)\n",
    "    print(loss.item())\n",
    "    \n",
    "    #backward pass\n",
    "    for p in parameters:\n",
    "        p.grad = None\n",
    "    loss.backward()\n",
    "    \n",
    "    #update\n",
    "    lr = lrs[i]\n",
    "    for p in parameters:\n",
    "        p.data += -lr * p.grad\n",
    "    \n",
    "    # track stats\n",
    "    lri.append(lr)\n",
    "    lossi.append(loss.item())"
   ]
  },
  {
   "cell_type": "code",
   "execution_count": 172,
   "id": "7bacd11e",
   "metadata": {},
   "outputs": [
    {
     "data": {
      "text/plain": [
       "[<matplotlib.lines.Line2D at 0x14f095f90>]"
      ]
     },
     "execution_count": 172,
     "metadata": {},
     "output_type": "execute_result"
    },
    {
     "data": {
      "image/png": "[encoded data removed]",
      "text/plain": [
       "<Figure size 640x480 with 1 Axes>"
      ]
     },
     "metadata": {},
     "output_type": "display_data"
    }
   ],
   "source": [
    "plt.plot(lri,lossi)"
   ]
  },
  {
   "cell_type": "code",
   "execution_count": 179,
   "id": "20530d91",
   "metadata": {},
   "outputs": [
    {
     "data": {
      "text/plain": [
       "[<matplotlib.lines.Line2D at 0x14f1e1110>]"
      ]
     },
     "execution_count": 179,
     "metadata": {},
     "output_type": "execute_result"
    },
    {
     "data": {
      "image/png": "[encoded data removed]",
      "text/plain": [
       "<Figure size 640x480 with 1 Axes>"
      ]
     },
     "metadata": {},
     "output_type": "display_data"
    }
   ],
   "source": [
    "# 10**-1 was actually good\n",
    "plt.plot(np.log10(lri),lossi)"
   ]
  },
  {
   "cell_type": "markdown",
   "id": "31f2bc5c",
   "metadata": {},
   "source": [
    "**Observations**\n",
    "\n",
    "- Beginning was too low\n",
    "- Then around somewhere it started getting too big and got unstable\n",
    "- Pick the region where it was consistent\n",
    "- Good lr is on the consistent region"
   ]
  },
  {
   "cell_type": "markdown",
   "id": "5094d3f1",
   "metadata": {},
   "source": [
    "## Lets crank up the iterations and do it again"
   ]
  },
  {
   "cell_type": "code",
   "execution_count": 191,
   "id": "0d49b3c5",
   "metadata": {},
   "outputs": [],
   "source": [
    "g = torch.Generator().manual_seed(2147483647)\n",
    "W1 = torch.randn((6,100))\n",
    "b1 = torch.randn(100)\n",
    "W2 = torch.randn((100,27))\n",
    "b2 = torch.randn(27)\n",
    "parameters = [C,W1,b1,W2,b2]"
   ]
  },
  {
   "cell_type": "code",
   "execution_count": 192,
   "id": "9243d610",
   "metadata": {},
   "outputs": [],
   "source": [
    "for p in parameters:\n",
    "    p.requires_grad= True"
   ]
  },
  {
   "cell_type": "code",
   "execution_count": 211,
   "id": "775050f0",
   "metadata": {},
   "outputs": [],
   "source": [
    "# Mini-batch GD\n",
    "epoch = 10000\n",
    "batch_size = 32\n",
    "for _ in range(epoch):\n",
    "    # construct mini-batch\n",
    "    ixs = torch.randint(0,X.shape[0],(batch_size,))\n",
    "    mini_batch = X[ixs,:]\n",
    "    mini_batch_y = Y[ixs]\n",
    "    \n",
    "    # forward pass\n",
    "    emb = C[mini_batch]\n",
    "    h = torch.tanh(emb.view(-1,6) @ W1+b1)\n",
    "    logits = h @ W2 + b2\n",
    "    loss = F.cross_entropy(logits, mini_batch_y)\n",
    "    \n",
    "    #backward pass\n",
    "    for p in parameters:\n",
    "        p.grad = None\n",
    "    loss.backward()\n",
    "    \n",
    "    #update\n",
    "    l_r = 0.01\n",
    "    for p in parameters:\n",
    "        p.data += - l_r* p.grad\n"
   ]
  },
  {
   "cell_type": "code",
   "execution_count": 212,
   "id": "541022a1",
   "metadata": {},
   "outputs": [
    {
     "data": {
      "text/plain": [
       "2.3588647842407227"
      ]
     },
     "execution_count": 212,
     "metadata": {},
     "output_type": "execute_result"
    }
   ],
   "source": [
    "emb = C[X]\n",
    "h = torch.tanh(emb.view(-1,6) @ W1+b1)\n",
    "logits = h @ W2 + b2\n",
    "loss = F.cross_entropy(logits, Y)\n",
    "loss.item()"
   ]
  },
  {
   "cell_type": "code",
   "execution_count": null,
   "id": "2caaa7cc",
   "metadata": {},
   "outputs": [],
   "source": [
    "# Then lets decay the learning rate after 30k iterations\n",
    "# We already surpassed the bigram error which was 2.45"
   ]
  },
  {
   "cell_type": "markdown",
   "id": "f9c535b8",
   "metadata": {},
   "source": [
    "### Overfitting \n",
    "\n",
    "- We already surpassed the bigram error which was 2.45\n",
    "- But this doesnt mean that our model is actually better\n",
    "- Since we have 3481 parameters, it is easier to overfit\n",
    "- Better approach is to have a train/dev/test split\n",
    "- Evaluate hyperparam changes on the dev set \n",
    "- Compare results on test set (compare with other model)\n",
    "- Do the last comparison sparingly because we would overfit to test set"
   ]
  },
  {
   "cell_type": "markdown",
   "id": "3a798ae0",
   "metadata": {},
   "source": [
    "## Data Splitting\n"
   ]
  },
  {
   "cell_type": "code",
   "execution_count": 227,
   "id": "c8f0dbfb",
   "metadata": {},
   "outputs": [
    {
     "name": "stdout",
     "output_type": "stream",
     "text": [
      "torch.Size([182512, 3]) torch.Size([182512])\n",
      "torch.Size([22860, 3]) torch.Size([22860])\n",
      "torch.Size([22774, 3]) torch.Size([22774])\n"
     ]
    }
   ],
   "source": [
    "# build dataset\n",
    "\n",
    "def build_dataset(words):\n",
    "    block_size = 3 # context length\n",
    "\n",
    "    X,Y = [], []\n",
    "    for w in words:\n",
    "        context = [0]*block_size\n",
    "        for ch in w + '.':\n",
    "            ix = stoi[ch]\n",
    "            X.append(context)\n",
    "            Y.append(ix)\n",
    "            context = context[1:] + [ix] # crop and append\n",
    "\n",
    "    X = torch.tensor(X)\n",
    "    Y = torch.tensor(Y)\n",
    "    print(X.shape,Y.shape)\n",
    "    return X,Y\n",
    "\n",
    "#random shuffling\n",
    "import random\n",
    "random.seed(42)\n",
    "random.shuffle(words)\n",
    "n1 = int(0.8*len(words))\n",
    "n2 = int(0.9*len(words))\n",
    "\n",
    "Xtr,Ytr = build_dataset(words[:n1])\n",
    "Xdev,Ydev = build_dataset(words[n1:n2])\n",
    "Xte,Yte = build_dataset(words[n2:])\n"
   ]
  },
  {
   "cell_type": "code",
   "execution_count": 219,
   "id": "635d567e",
   "metadata": {},
   "outputs": [
    {
     "data": {
      "text/plain": [
       "True"
      ]
     },
     "execution_count": 219,
     "metadata": {},
     "output_type": "execute_result"
    }
   ],
   "source": [
    "torch.cat([Xtr,Xdev,Xte],dim=0).shape == X.shape"
   ]
  },
  {
   "cell_type": "code",
   "execution_count": 222,
   "id": "0525e9bb",
   "metadata": {},
   "outputs": [],
   "source": [
    "g = torch.Generator().manual_seed(2147483647)\n",
    "W1 = torch.randn((6,100))\n",
    "b1 = torch.randn(100)\n",
    "W2 = torch.randn((100,27))\n",
    "b2 = torch.randn(27)\n",
    "parameters = [C,W1,b1,W2,b2]"
   ]
  },
  {
   "cell_type": "code",
   "execution_count": 223,
   "id": "abe9ce0c",
   "metadata": {},
   "outputs": [],
   "source": [
    "for p in parameters:\n",
    "    p.requires_grad= True"
   ]
  },
  {
   "cell_type": "code",
   "execution_count": 230,
   "id": "a774b8a1",
   "metadata": {},
   "outputs": [
    {
     "name": "stdout",
     "output_type": "stream",
     "text": [
      "2.654650926589966\n"
     ]
    }
   ],
   "source": [
    "# Mini-batch GD\n",
    "# Only train on Xtr\n",
    "epoch = 10000\n",
    "batch_size = 32\n",
    "for _ in range(epoch):\n",
    "    # construct mini-batch\n",
    "    ixs = torch.randint(0,Xtr.shape[0],(batch_size,))\n",
    "    mini_batch = Xtr[ixs,:]\n",
    "    mini_batch_y = Ytr[ixs]\n",
    "    \n",
    "    # forward pass\n",
    "    emb = C[mini_batch]\n",
    "    h = torch.tanh(emb.view(-1,6) @ W1+b1)\n",
    "    logits = h @ W2 + b2\n",
    "    loss = F.cross_entropy(logits, mini_batch_y)\n",
    "    \n",
    "    #backward pass\n",
    "    for p in parameters:\n",
    "        p.grad = None\n",
    "        \n",
    "    loss.backward()\n",
    "    \n",
    "    #update\n",
    "    l_r = 0.01\n",
    "    for p in parameters:\n",
    "        p.data += - l_r* p.grad\n",
    "print(loss.item())"
   ]
  },
  {
   "cell_type": "code",
   "execution_count": 231,
   "id": "ccca8f3f",
   "metadata": {},
   "outputs": [
    {
     "data": {
      "text/plain": [
       "2.3484723567962646"
      ]
     },
     "execution_count": 231,
     "metadata": {},
     "output_type": "execute_result"
    }
   ],
   "source": [
    "emb = C[Xdev]\n",
    "h = torch.tanh(emb.view(-1,6) @ W1+b1)\n",
    "logits = h @ W2 + b2\n",
    "loss = F.cross_entropy(logits, Ydev)\n",
    "loss.item()"
   ]
  },
  {
   "cell_type": "code",
   "execution_count": 232,
   "id": "6525e1cb",
   "metadata": {},
   "outputs": [
    {
     "data": {
      "text/plain": [
       "2.346670389175415"
      ]
     },
     "execution_count": 232,
     "metadata": {},
     "output_type": "execute_result"
    }
   ],
   "source": [
    "emb = C[Xtr]\n",
    "h = torch.tanh(emb.view(-1,6) @ W1+b1)\n",
    "logits = h @ W2 + b2\n",
    "loss = F.cross_entropy(logits, Ytr)\n",
    "loss.item()"
   ]
  },
  {
   "cell_type": "markdown",
   "id": "669ed599",
   "metadata": {},
   "source": [
    "### Underfitting\n",
    "\n",
    "- Our training loss is big 2.34\n",
    "- But our dev and train losses are quite similar (low variance)\n",
    "- This means we are definitely underfitting (high bias)\n",
    "- We can solve this by scaling up the size of the network"
   ]
  },
  {
   "cell_type": "code",
   "execution_count": 270,
   "id": "1bdb6813",
   "metadata": {},
   "outputs": [],
   "source": [
    "hidden_size = 200\n",
    "g = torch.Generator().manual_seed(2147483647)\n",
    "C = torch.randn((27,10), generator=g)\n",
    "W1 = torch.randn((30,hidden_size), generator=g)\n",
    "b1 = torch.randn(hidden_size, generator=g)\n",
    "W2 = torch.randn((hidden_size,27), generator=g)\n",
    "b2 = torch.randn(27, generator=g)\n",
    "parameters = [C,W1,b1,W2,b2]\n",
    "for p in parameters:\n",
    "    p.requires_grad= True"
   ]
  },
  {
   "cell_type": "code",
   "execution_count": 271,
   "id": "2e66330a",
   "metadata": {},
   "outputs": [
    {
     "data": {
      "text/plain": [
       "11897"
      ]
     },
     "execution_count": 271,
     "metadata": {},
     "output_type": "execute_result"
    }
   ],
   "source": [
    "sum(p.nelement() for p in parameters)"
   ]
  },
  {
   "cell_type": "code",
   "execution_count": 274,
   "id": "3fd0cefb",
   "metadata": {},
   "outputs": [],
   "source": [
    "stepi = []\n",
    "lossi = []"
   ]
  },
  {
   "cell_type": "code",
   "execution_count": 284,
   "id": "20600f05",
   "metadata": {},
   "outputs": [
    {
     "name": "stdout",
     "output_type": "stream",
     "text": [
      "1.9438235759735107\n"
     ]
    }
   ],
   "source": [
    "# Mini-batch GD\n",
    "# Only train on Xtr\n",
    "epoch = 50000\n",
    "batch_size = 32\n",
    "for i in range(epoch):\n",
    "    # construct mini-batch\n",
    "    ixs = torch.randint(0,Xtr.shape[0],(batch_size,))\n",
    "    mini_batch = Xtr[ixs,:]\n",
    "    mini_batch_y = Ytr[ixs]\n",
    "    \n",
    "    # forward pass\n",
    "    emb = C[mini_batch]\n",
    "    h = torch.tanh(emb.view(-1,30) @ W1+b1)\n",
    "    logits = h @ W2 + b2\n",
    "    loss = F.cross_entropy(logits, mini_batch_y)\n",
    "    \n",
    "    #backward pass\n",
    "    for p in parameters:\n",
    "        p.grad = None\n",
    "        \n",
    "    loss.backward()\n",
    "    \n",
    "    #update\n",
    "    l_r = 0.01\n",
    "    for p in parameters:\n",
    "        p.data += - l_r* p.grad\n",
    "        \n",
    "    # track stats\n",
    "    stepi.append(i)\n",
    "    lossi.append(loss.log10().item())\n",
    "print(loss.item())"
   ]
  },
  {
   "cell_type": "code",
   "execution_count": 285,
   "id": "278b4020",
   "metadata": {},
   "outputs": [
    {
     "data": {
      "text/plain": [
       "[<matplotlib.lines.Line2D at 0x15025db90>]"
      ]
     },
     "execution_count": 285,
     "metadata": {},
     "output_type": "execute_result"
    },
    {
     "data": {
      "image/png": "[encoded data removed]",
      "text/plain": [
       "<Figure size 640x480 with 1 Axes>"
      ]
     },
     "metadata": {},
     "output_type": "display_data"
    }
   ],
   "source": [
    "# noisy due to mini-batch\n",
    "# increasing batch size would help us remove the mini-batch noise\n",
    "plt.plot(stepi,lossi)"
   ]
  },
  {
   "cell_type": "code",
   "execution_count": 286,
   "id": "c40e3b0a",
   "metadata": {},
   "outputs": [
    {
     "data": {
      "text/plain": [
       "2.136791706085205"
      ]
     },
     "execution_count": 286,
     "metadata": {},
     "output_type": "execute_result"
    }
   ],
   "source": [
    "# dev eval\n",
    "emb = C[Xdev]\n",
    "h = torch.tanh(emb.view(-1,30) @ W1+b1)\n",
    "logits = h @ W2 + b2\n",
    "loss = F.cross_entropy(logits, Ydev)\n",
    "loss.item()"
   ]
  },
  {
   "cell_type": "code",
   "execution_count": 287,
   "id": "145f9aa0",
   "metadata": {},
   "outputs": [
    {
     "data": {
      "text/plain": [
       "2.0916059017181396"
      ]
     },
     "execution_count": 287,
     "metadata": {},
     "output_type": "execute_result"
    }
   ],
   "source": [
    "# train eval\n",
    "emb = C[Xtr]\n",
    "h = torch.tanh(emb.view(-1,30) @ W1+b1)\n",
    "logits = h @ W2 + b2\n",
    "loss = F.cross_entropy(logits, Ytr)\n",
    "loss.item()"
   ]
  },
  {
   "cell_type": "markdown",
   "id": "4b05439e",
   "metadata": {},
   "source": [
    "- Another point is that maybe embedding dim is too low\n",
    "- Might consider increasing that as well"
   ]
  },
  {
   "cell_type": "code",
   "execution_count": 269,
   "id": "edd4c7a6",
   "metadata": {},
   "outputs": [
    {
     "data": {
      "image/png": "[encoded data removed]",
      "text/plain": [
       "<Figure size 800x800 with 1 Axes>"
      ]
     },
     "metadata": {},
     "output_type": "display_data"
    }
   ],
   "source": [
    "# visualize dimensions 0 and 1 of the embedding matrix C for all characters\n",
    "plt.figure(figsize=(8,8))\n",
    "plt.scatter(C[:,0].data, C[:,1].data, s=200)\n",
    "for i in range(C.shape[0]):\n",
    "    plt.text(C[i,0].item(), C[i,1].item(), itos[i], ha=\"center\", va=\"center\", color='white')\n",
    "plt.grid('minor')"
   ]
  },
  {
   "cell_type": "markdown",
   "id": "43da5914",
   "metadata": {},
   "source": [
    "**Observations**\n",
    "- See that vowels nicely clustered together!!!\n",
    "- q is unique\n",
    "- . is separate"
   ]
  },
  {
   "cell_type": "markdown",
   "id": "af9b7f1d",
   "metadata": {},
   "source": [
    "- Last thing we try is we moved embedding dim from 2 to 10. \n",
    "- Learning rate decay is also done manually several times \n",
    "- See if we improve the final performance"
   ]
  },
  {
   "cell_type": "markdown",
   "id": "5426a4f3",
   "metadata": {},
   "source": [
    "### Overfit \n",
    "- Now our model is larger \n",
    "- We might start seeing train loss is getting separated from dev loss\n",
    "- This is a sign that finally we have enough capacity to overfit.\n",
    "\n",
    "\n",
    "**Things to improve perf.**\n",
    "\n",
    "- block size different\n",
    "- embedding size different\n",
    "- How long we run\n",
    "- hidden size\n",
    "- batch size\n",
    "- learning rate.\n",
    "\n",
    "\n",
    "### Challenge\n",
    "\n",
    "Try to beat the 2.13 dev score  achieved about.\n"
   ]
  },
  {
   "cell_type": "markdown",
   "id": "7c5f2440",
   "metadata": {},
   "source": [
    "### Finally\n",
    "\n",
    "Sample from the model"
   ]
  },
  {
   "cell_type": "code",
   "execution_count": 291,
   "id": "dea63b21",
   "metadata": {},
   "outputs": [
    {
     "name": "stdout",
     "output_type": "stream",
     "text": [
      "mora.\n",
      "kayah.\n",
      "seel.\n",
      "nihah.\n",
      "larethruthng.\n",
      "leg.\n",
      "adelyn.\n",
      "elin.\n",
      "shy.\n",
      "jenne.\n",
      "elissopharleilyn.\n",
      "houra.\n",
      "noshuberglairiel.\n",
      "kin.\n",
      "renlynn.\n",
      "nopulfy.\n",
      "brence.\n",
      "ryylene.\n",
      "elsyn.\n",
      "ajahshournihia.\n"
     ]
    }
   ],
   "source": [
    "# Sample from the trained model\n",
    "g = torch.Generator().manual_seed(2147483647 + 10)\n",
    "\n",
    "for _ in range(20):\n",
    "    out = []\n",
    "    context = [0] * block_size # initialize with all ...\n",
    "    while True:\n",
    "        emb = C[torch.tensor([context])] # (1,block_size,d)\n",
    "        h = torch.tanh(emb.view(1, -1) @ W1 + b1)\n",
    "        logits = h @ W2 + b2\n",
    "        probs = F.softmax(logits, dim=1)\n",
    "        ix = torch.multinomial(probs, num_samples=1, generator=g).item()\n",
    "        context = context[1:] + [ix]\n",
    "        out.append(ix)\n",
    "        if ix == 0:\n",
    "            break\n",
    "    \n",
    "    print(''.join(itos[i] for i in out))"
   ]
  },
  {
   "cell_type": "code",
   "execution_count": null,
   "id": "6554515f",
   "metadata": {},
   "outputs": [],
   "source": []
  },
  {
   "cell_type": "code",
   "execution_count": null,
   "id": "ce69c981",
   "metadata": {},
   "outputs": [],
   "source": []
  },
  {
   "cell_type": "code",
   "execution_count": null,
   "id": "eda6c9ff",
   "metadata": {},
   "outputs": [],
   "source": []
  },
  {
   "cell_type": "code",
   "execution_count": null,
   "id": "ccf2ff48",
   "metadata": {},
   "outputs": [],
   "source": []
  },
  {
   "cell_type": "code",
   "execution_count": null,
   "id": "ce967dc2",
   "metadata": {},
   "outputs": [],
   "source": []
  },
  {
   "cell_type": "code",
   "execution_count": null,
   "id": "166f6b2e",
   "metadata": {},
   "outputs": [],
   "source": []
  }
 ],
 "metadata": {
  "kernelspec": {
   "display_name": "venv-karpathy",
   "language": "python",
   "name": "venv-karpathy"
  },
  "language_info": {
   "codemirror_mode": {
    "name": "ipython",
    "version": 3
   },
   "file_extension": ".py",
   "mimetype": "text/x-python",
   "name": "python",
   "nbconvert_exporter": "python",
   "pygments_lexer": "ipython3",
   "version": "3.11.6"
  }
 },
 "nbformat": 4,
 "nbformat_minor": 5
}
