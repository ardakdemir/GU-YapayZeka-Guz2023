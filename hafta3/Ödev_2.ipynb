{
 "cells": [
  {
   "cell_type": "markdown",
   "id": "bd1ad4e7",
   "metadata": {},
   "source": [
    "# Ödev 2 Notebook\n",
    "gerekli kutuphane `python-chess`\n",
    "https://github.com/niklasf/python-chess/tree/master\n",
    "\n",
    "Nasil install edilir: https://github.com/niklasf/python-chess/tree/master#installing"
   ]
  },
  {
   "cell_type": "code",
   "execution_count": null,
   "id": "122ef2f7",
   "metadata": {},
   "outputs": [],
   "source": [
    "import chess\n",
    "from chess import Move #hamle"
   ]
  },
  {
   "cell_type": "code",
   "execution_count": null,
   "id": "769f4d1a",
   "metadata": {},
   "outputs": [],
   "source": [
    "board = chess.Board()"
   ]
  },
  {
   "cell_type": "code",
   "execution_count": null,
   "id": "023c2478",
   "metadata": {},
   "outputs": [],
   "source": [
    "board"
   ]
  },
  {
   "cell_type": "markdown",
   "id": "f2e3fb42",
   "metadata": {},
   "source": [
    "### Tek boyutlu karakter dizisi olarak gösterimi"
   ]
  },
  {
   "cell_type": "code",
   "execution_count": null,
   "id": "febcb187",
   "metadata": {},
   "outputs": [],
   "source": [
    "# str(board) kullanarak bu gosterime erisebilirsiniz"
   ]
  },
  {
   "cell_type": "code",
   "execution_count": null,
   "id": "9b69c342",
   "metadata": {},
   "outputs": [],
   "source": [
    "str(board)"
   ]
  },
  {
   "cell_type": "code",
   "execution_count": null,
   "id": "49eb31e2",
   "metadata": {},
   "outputs": [],
   "source": [
    "pozisyon = \"r n b q k b n r\\np p p p p p p p\\n. . . . . . . .\\n. . . . . . . .\\n. . . . . . . .\\n. . . . . . . .\\nP P P P P P P P\\nR N B Q K B N R\"\n",
    "\n"
   ]
  },
  {
   "cell_type": "code",
   "execution_count": null,
   "id": "912c54ab",
   "metadata": {},
   "outputs": [],
   "source": [
    "board"
   ]
  },
  {
   "cell_type": "code",
   "execution_count": null,
   "id": "880f578e",
   "metadata": {},
   "outputs": [],
   "source": [
    "# hamle yap\n",
    "move = Move.from_uci('e2e4')\n",
    "board.push(move)"
   ]
  },
  {
   "cell_type": "code",
   "execution_count": null,
   "id": "49d27473",
   "metadata": {},
   "outputs": [],
   "source": [
    "board"
   ]
  },
  {
   "cell_type": "code",
   "execution_count": null,
   "id": "fc0cb9ef",
   "metadata": {},
   "outputs": [],
   "source": [
    "str(board)"
   ]
  },
  {
   "cell_type": "code",
   "execution_count": null,
   "id": "0d3a5f2f",
   "metadata": {},
   "outputs": [],
   "source": [
    "# hamleyi geri al\n",
    "board.pop()"
   ]
  },
  {
   "cell_type": "code",
   "execution_count": null,
   "id": "cccbe078",
   "metadata": {},
   "outputs": [],
   "source": [
    "board"
   ]
  },
  {
   "cell_type": "markdown",
   "id": "70ece72c",
   "metadata": {},
   "source": [
    "## Hamle ileri geri ornegi"
   ]
  },
  {
   "cell_type": "code",
   "execution_count": null,
   "id": "c91b095d",
   "metadata": {},
   "outputs": [],
   "source": [
    "board = chess.Board()\n",
    "i = 0\n",
    "move = Move.from_uci('e2e4')"
   ]
  },
  {
   "cell_type": "code",
   "execution_count": null,
   "id": "4067c56d",
   "metadata": {},
   "outputs": [],
   "source": [
    "# move back and forth\n",
    "i+=1\n",
    "if i %2 == 0:\n",
    "    board.pop()\n",
    "else:\n",
    "    board.push(move)\n",
    "board"
   ]
  },
  {
   "cell_type": "markdown",
   "id": "96241690",
   "metadata": {},
   "source": [
    "## Olasi hamleleri uretme"
   ]
  },
  {
   "cell_type": "code",
   "execution_count": null,
   "id": "f2bc11e9",
   "metadata": {},
   "outputs": [],
   "source": [
    "# bunu kullanarak olasi hamlelere erişebiliriz\n",
    "# board.legal_moves "
   ]
  },
  {
   "cell_type": "code",
   "execution_count": null,
   "id": "054f0195",
   "metadata": {},
   "outputs": [],
   "source": [
    "board"
   ]
  },
  {
   "cell_type": "code",
   "execution_count": null,
   "id": "599f4aad",
   "metadata": {},
   "outputs": [],
   "source": [
    "legal_moves = list(board.legal_moves)\n",
    "for move in legal_moves:\n",
    "    print(move)"
   ]
  },
  {
   "cell_type": "code",
   "execution_count": null,
   "id": "e56b6ea6",
   "metadata": {},
   "outputs": [],
   "source": [
    "board.push(Move.from_uci('h2h4'))"
   ]
  },
  {
   "cell_type": "code",
   "execution_count": null,
   "id": "86f24b4f",
   "metadata": {},
   "outputs": [],
   "source": [
    "board"
   ]
  },
  {
   "cell_type": "code",
   "execution_count": null,
   "id": "32d486e7",
   "metadata": {},
   "outputs": [],
   "source": [
    "legal_moves = list(board.legal_moves)\n",
    "print(legal_moves,len(legal_moves))"
   ]
  },
  {
   "cell_type": "code",
   "execution_count": null,
   "id": "87753be0",
   "metadata": {},
   "outputs": [],
   "source": [
    "board.push(Move.from_uci('h7h5'))"
   ]
  },
  {
   "cell_type": "code",
   "execution_count": null,
   "id": "1b0176cd",
   "metadata": {},
   "outputs": [],
   "source": [
    "board"
   ]
  },
  {
   "cell_type": "code",
   "execution_count": null,
   "id": "2df1da9d",
   "metadata": {},
   "outputs": [],
   "source": [
    "str(board)"
   ]
  },
  {
   "cell_type": "code",
   "execution_count": null,
   "id": "c78efb20",
   "metadata": {},
   "outputs": [],
   "source": [
    "# Depth-first search vs Breadth-first search d=3\n",
    "list_of_board_positions_dfs = ['str_board_1', 'str_board_2', 'str_board_3'] # some list\n",
    "list_of_board_positions_bfs = [] # other list"
   ]
  },
  {
   "cell_type": "code",
   "execution_count": null,
   "id": "bc393170",
   "metadata": {},
   "outputs": [],
   "source": [
    "legal_moves = list(board.legal_moves)\n",
    "print(len(legal_moves),legal_moves)"
   ]
  },
  {
   "cell_type": "raw",
   "id": "5cc5e427",
   "metadata": {},
   "source": [
    "str(board)"
   ]
  },
  {
   "cell_type": "code",
   "execution_count": null,
   "id": "d145efd3",
   "metadata": {},
   "outputs": [],
   "source": [
    "board.push(legal_moves[0])"
   ]
  },
  {
   "cell_type": "code",
   "execution_count": null,
   "id": "686b925d",
   "metadata": {},
   "outputs": [],
   "source": [
    "board"
   ]
  },
  {
   "cell_type": "markdown",
   "id": "9172be14",
   "metadata": {},
   "source": [
    "# Ödev\n",
    "\n",
    "Oyun başından verilen bir derinlik (d) için, DFS ve BFS kullanarak olası bütün pozisyonları oluşturalım. \n",
    "\n",
    "- Input: Başlangıç pozisyonu board, derinlik d(integer)\n",
    "- Output: iki adet string dizisi (DFS için bir liste) (BFS için bir liste)\n",
    "\n",
    "d=3 için yanıtları yazdıralım"
   ]
  },
  {
   "cell_type": "markdown",
   "id": "12c04748",
   "metadata": {},
   "source": [
    "# Ödevin teslimi\n",
    "\n",
    "Ödev yanıtları iki bölümden oluşuyor:\n",
    " * Yanıtın kodlandığı .ipynb noktası (bu dosya)\n",
    " * Yanıtların yazdırıldığı output.txt dosyası\n",
    "    \n",
    "Bu dosyaları zip halinde birleştirin ve bana isim_soyisim.zip dosyası olarak gönderin.\n",
    "\n",
    "Teşekkürler!! \n"
   ]
  },
  {
   "cell_type": "code",
   "execution_count": null,
   "id": "45f1123e",
   "metadata": {},
   "outputs": [],
   "source": [
    "board = chess.Board()"
   ]
  },
  {
   "cell_type": "code",
   "execution_count": null,
   "id": "fac57046",
   "metadata": {},
   "outputs": [],
   "source": [
    "board"
   ]
  },
  {
   "cell_type": "code",
   "execution_count": null,
   "id": "b29be1e0",
   "metadata": {},
   "outputs": [],
   "source": [
    "def DFS(tahta: chess.Board, derinlik: int) -> list[str]: \n",
    "    tahta_listesi: list[str] = []\n",
    "    print(\"Implement Me\")\n",
    "    \n",
    "    # Algoritma buraya gelecek\n",
    "    \n",
    "    \n",
    "    return tahta_listesi\n",
    "\n",
    "def BFS(tahta: chess.Board, derinlik: int) -> list[str]: \n",
    "    tahta_listesi: list[str] = []\n",
    "    print(\"Implement Me too\")\n",
    "    \n",
    "    # Algoritma buraya gelecek\n",
    "    \n",
    "    \n",
    "    return tahta_listesi\n",
    "\n",
    "def main():\n",
    "    d = 3 \n",
    "    dfs_list = DFS(chess.Board(),d)\n",
    "    bfs_list = BFS(chess.Board(),d)\n",
    "    \n",
    "    path_to_output = \"output.txt\"\n",
    "    with open(path_to_output,\"w\") as out:\n",
    "        for liste in [dfs_list,bfs_list]:\n",
    "            out.write(\"\\n\".join(liste))\n",
    "            out.write(\"\\n\")\n",
    "    print(f\"Wrote results to: {path_to_output}\")"
   ]
  },
  {
   "cell_type": "code",
   "execution_count": null,
   "id": "5b527625",
   "metadata": {},
   "outputs": [],
   "source": [
    "main()"
   ]
  },
  {
   "cell_type": "markdown",
   "id": "109c0a93",
   "metadata": {},
   "source": []
  },
  {
   "cell_type": "code",
   "execution_count": null,
   "id": "9d8d98e6",
   "metadata": {},
   "outputs": [],
   "source": []
  }
 ],
 "metadata": {
  "kernelspec": {
   "display_name": "venv",
   "language": "python",
   "name": "venv"
  },
  "language_info": {
   "codemirror_mode": {
    "name": "ipython",
    "version": 3
   },
   "file_extension": ".py",
   "mimetype": "text/x-python",
   "name": "python",
   "nbconvert_exporter": "python",
   "pygments_lexer": "ipython3",
   "version": "3.11.4"
  }
 },
 "nbformat": 4,
 "nbformat_minor": 5
}
