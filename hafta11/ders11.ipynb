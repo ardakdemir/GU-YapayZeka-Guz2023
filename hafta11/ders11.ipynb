{
 "cells": [
  {
   "cell_type": "code",
   "execution_count": 1,
   "id": "5d9ba07c",
   "metadata": {},
   "outputs": [],
   "source": [
    "import sys \n",
    "import os\n",
    "root_dir = os.getcwd()\n",
    "sys.path.append(root_dir)"
   ]
  },
  {
   "cell_type": "code",
   "execution_count": 2,
   "id": "b857f8b0",
   "metadata": {},
   "outputs": [
    {
     "ename": "ModuleNotFoundError",
     "evalue": "No module named 'graphviz'",
     "output_type": "error",
     "traceback": [
      "\u001b[0;31m---------------------------------------------------------------------------\u001b[0m",
      "\u001b[0;31mModuleNotFoundError\u001b[0m                       Traceback (most recent call last)",
      "Cell \u001b[0;32mIn[2], line 1\u001b[0m\n\u001b[0;32m----> 1\u001b[0m \u001b[38;5;28;01mfrom\u001b[39;00m \u001b[38;5;21;01mutils\u001b[39;00m\u001b[38;5;21;01m.\u001b[39;00m\u001b[38;5;21;01mgraphviz\u001b[39;00m \u001b[38;5;28;01mimport\u001b[39;00m draw_dot, trace\n",
      "File \u001b[0;32m~/gedik_related/GU-YapayZeka-Guz2023/hafta11/utils/graphviz.py:1\u001b[0m\n\u001b[0;32m----> 1\u001b[0m \u001b[38;5;28;01mfrom\u001b[39;00m \u001b[38;5;21;01mgraphviz\u001b[39;00m \u001b[38;5;28;01mimport\u001b[39;00m Digraph\n\u001b[1;32m      3\u001b[0m \u001b[38;5;28;01mdef\u001b[39;00m \u001b[38;5;21mtrace\u001b[39m(root):\n\u001b[1;32m      4\u001b[0m \u001b[38;5;66;03m# builds a set of all nodes and edges in a graph\u001b[39;00m\n\u001b[1;32m      5\u001b[0m \tnodes, edges \u001b[38;5;241m=\u001b[39m \u001b[38;5;28mset\u001b[39m(), \u001b[38;5;28mset\u001b[39m()\n",
      "\u001b[0;31mModuleNotFoundError\u001b[0m: No module named 'graphviz'"
     ]
    }
   ],
   "source": [
    "from utils.graphviz import draw_dot, trace"
   ]
  },
  {
   "cell_type": "code",
   "execution_count": null,
   "id": "a6c2b3c4",
   "metadata": {},
   "outputs": [],
   "source": [
    "import math \n",
    "import numpy as np\n",
    "import matplotlib.pyplot as plt\n",
    "%matplotlib inline"
   ]
  },
  {
   "cell_type": "code",
   "execution_count": null,
   "id": "0356aaf5",
   "metadata": {},
   "outputs": [],
   "source": [
    "def f(x):\n",
    "    return 3*x**2-4*x+5"
   ]
  },
  {
   "cell_type": "code",
   "execution_count": null,
   "id": "ef3357a9",
   "metadata": {},
   "outputs": [],
   "source": []
  },
  {
   "cell_type": "code",
   "execution_count": null,
   "id": "7892000c",
   "metadata": {},
   "outputs": [],
   "source": [
    "xs = np.arange(-5,5,0.25)\n",
    "ys = f(xs)\n",
    "plt.plot(xs,ys);"
   ]
  },
  {
   "cell_type": "code",
   "execution_count": null,
   "id": "71f79522",
   "metadata": {},
   "outputs": [],
   "source": [
    "x = 3 \n",
    "f(x)"
   ]
  },
  {
   "cell_type": "code",
   "execution_count": null,
   "id": "5fc52389",
   "metadata": {},
   "outputs": [],
   "source": [
    "h = 0.000001\n",
    "x = 3.0 \n",
    "(f(x+h) - f(x)) / h"
   ]
  },
  {
   "cell_type": "code",
   "execution_count": null,
   "id": "5649c814",
   "metadata": {},
   "outputs": [],
   "source": [
    "\"\"\"\n",
    "\n",
    "3x**2 - 4x +5 \n",
    "\n",
    "6x -4  => 14\n",
    "\"\"\";"
   ]
  },
  {
   "cell_type": "code",
   "execution_count": null,
   "id": "f54070de",
   "metadata": {},
   "outputs": [],
   "source": [
    "# lets get more complex \n",
    "\n",
    "a = 2.0 \n",
    "b = -3.0\n",
    "c = 10.0 \n",
    "d = a*b +c\n",
    "print(d)"
   ]
  },
  {
   "cell_type": "code",
   "execution_count": null,
   "id": "4ad4f991",
   "metadata": {},
   "outputs": [],
   "source": [
    "h = 0.000000000000000001 \n",
    "a = 2.0 \n",
    "b = -3.0\n",
    "c = 10.0 \n",
    "\n",
    "e = a*b\n",
    "\n",
    "\n",
    "d1 = e+c\n",
    "b +=h\n",
    "e = a*b\n",
    "d2 = e +c\n",
    "\n",
    "print(f'{d1=}  {d2=}')\n",
    "print('slope', (d2-d1)/h)"
   ]
  },
  {
   "cell_type": "code",
   "execution_count": null,
   "id": "f0a772bd",
   "metadata": {},
   "outputs": [],
   "source": [
    "class Value:\n",
    "    def __init__(self,data,_children=(),_op='',label=''):\n",
    "        self.data = data\n",
    "        self._prev = set(_children)\n",
    "        self.label = label\n",
    "        self._op = _op\n",
    "        \n",
    "    def __repr__(self):\n",
    "        return f\"Value(data={self.data},label={self.label})\"\n",
    "    \n",
    "    def __add__(self,other: 'Value'):\n",
    "        data = self.data + other.data\n",
    "        \n",
    "        return Value(data,(self,other),'+')\n",
    "    \n",
    "    def __mul__(self,other):\n",
    "        out = Value(self.data * other.data,(self,other),'*')\n",
    "        return out"
   ]
  },
  {
   "cell_type": "code",
   "execution_count": null,
   "id": "88833f71",
   "metadata": {},
   "outputs": [],
   "source": [
    "a = Value(2.0,label='a')"
   ]
  },
  {
   "cell_type": "code",
   "execution_count": null,
   "id": "ad2865ef",
   "metadata": {},
   "outputs": [],
   "source": [
    "print(a)"
   ]
  },
  {
   "cell_type": "code",
   "execution_count": null,
   "id": "87049c8a",
   "metadata": {},
   "outputs": [],
   "source": [
    "a = Value(2.0,label='a')\n",
    "b = Value(-3.0,label='b')"
   ]
  },
  {
   "cell_type": "code",
   "execution_count": null,
   "id": "0788f4e6",
   "metadata": {},
   "outputs": [],
   "source": [
    "b"
   ]
  },
  {
   "cell_type": "code",
   "execution_count": null,
   "id": "3f6adf91",
   "metadata": {},
   "outputs": [],
   "source": [
    "d = a + b "
   ]
  },
  {
   "cell_type": "code",
   "execution_count": null,
   "id": "69eeb231",
   "metadata": {},
   "outputs": [],
   "source": []
  },
  {
   "cell_type": "code",
   "execution_count": null,
   "id": "2e336c1e",
   "metadata": {},
   "outputs": [],
   "source": [
    "d._prev"
   ]
  },
  {
   "cell_type": "code",
   "execution_count": null,
   "id": "d0a38c0e",
   "metadata": {},
   "outputs": [],
   "source": [
    "# a.__mul__(b)\n",
    "d = a * b"
   ]
  },
  {
   "cell_type": "code",
   "execution_count": null,
   "id": "85a3b0e5",
   "metadata": {},
   "outputs": [],
   "source": [
    "d"
   ]
  },
  {
   "cell_type": "code",
   "execution_count": null,
   "id": "530c4d31",
   "metadata": {},
   "outputs": [],
   "source": [
    "a = Value(2.0,label = 'a')\n",
    "b = Value(-3.0, label = 'b')\n",
    "e = a * b; e.label='e'\n",
    "\n",
    "c = Value(10.0,label='c')\n",
    "\n",
    "d = e + c; d.label='d'\n",
    "\n",
    "f = Value(-2, label = 'f')\n",
    "\n",
    "L = d*f ; L.label = 'L'\n",
    "L"
   ]
  },
  {
   "cell_type": "code",
   "execution_count": null,
   "id": "f0817077",
   "metadata": {},
   "outputs": [],
   "source": [
    "d._op"
   ]
  },
  {
   "cell_type": "code",
   "execution_count": null,
   "id": "a33ad603",
   "metadata": {},
   "outputs": [],
   "source": []
  }
 ],
 "metadata": {
  "kernelspec": {
   "display_name": "venv-bil413",
   "language": "python",
   "name": "venv-bil413"
  },
  "language_info": {
   "codemirror_mode": {
    "name": "ipython",
    "version": 3
   },
   "file_extension": ".py",
   "mimetype": "text/x-python",
   "name": "python",
   "nbconvert_exporter": "python",
   "pygments_lexer": "ipython3",
   "version": "3.11.6"
  }
 },
 "nbformat": 4,
 "nbformat_minor": 5
}
