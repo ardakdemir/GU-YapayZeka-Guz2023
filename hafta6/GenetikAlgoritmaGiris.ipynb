{
 "cells": [
  {
   "cell_type": "markdown",
   "id": "748601c4",
   "metadata": {},
   "source": [
    "# Genetik Algoritma Hatirlatma"
   ]
  },
  {
   "cell_type": "markdown",
   "id": "d8b54a92",
   "metadata": {},
   "source": [
    "## 8 Vezir Problemi icin Genetik Algoritma ile Cozumu"
   ]
  },
  {
   "cell_type": "code",
   "execution_count": null,
   "id": "51a98f78",
   "metadata": {},
   "outputs": [],
   "source": [
    "# TODO Implement the 8 Queens problem"
   ]
  },
  {
   "cell_type": "code",
   "execution_count": 5,
   "id": "178a4f98",
   "metadata": {},
   "outputs": [],
   "source": [
    "def print_board(row_indices, key = \"Q\"):\n",
    "    c = r = len(row_indices)\n",
    "    board = [[\".\" for _ in range(c)] for x in range(r)]\n",
    "    for col, ind in enumerate(row_indices):\n",
    "        board[int(ind)-1][col] = key\n",
    "    \n",
    "    board_str = \"\\n\".join([\" \".join([cell for cell in row]) for row in board])\n",
    "    \n",
    "    print(board_str)"
   ]
  },
  {
   "cell_type": "code",
   "execution_count": 6,
   "id": "9d33d233",
   "metadata": {},
   "outputs": [
    {
     "name": "stdout",
     "output_type": "stream",
     "text": [
      ". . . . . . . .\n",
      "Q . . . . . . Q\n",
      ". . . . . . . .\n",
      ". Q . Q . . . .\n",
      ". . . . . Q Q .\n",
      ". . . . . . . .\n",
      ". . Q . . . . .\n",
      ". . . . Q . . .\n"
     ]
    }
   ],
   "source": [
    "c = \"24748552\"\n",
    "print_board(c)"
   ]
  },
  {
   "cell_type": "code",
   "execution_count": 12,
   "id": "07e2e7d9",
   "metadata": {},
   "outputs": [
    {
     "data": {
      "text/plain": [
       "'5'"
      ]
     },
     "execution_count": 12,
     "metadata": {},
     "output_type": "execute_result"
    }
   ],
   "source": [
    "import random \n",
    "random.choice(\"123456\")"
   ]
  },
  {
   "cell_type": "code",
   "execution_count": 22,
   "id": "36133929",
   "metadata": {},
   "outputs": [
    {
     "data": {
      "text/plain": [
       "['1234']"
      ]
     },
     "execution_count": 22,
     "metadata": {},
     "output_type": "execute_result"
    }
   ],
   "source": [
    "population = [\"1234\",\"2345\"]\n",
    "random.choices(population,weights=[1,1],k=1)"
   ]
  },
  {
   "cell_type": "code",
   "execution_count": null,
   "id": "7e687cec",
   "metadata": {},
   "outputs": [],
   "source": []
  },
  {
   "cell_type": "code",
   "execution_count": 54,
   "id": "09f24e3e",
   "metadata": {},
   "outputs": [],
   "source": [
    "import random\n",
    "\n",
    "# Genetic Algorithm Parameters\n",
    "population_size = 500\n",
    "chromosome_length = 8\n",
    "mutation_rate = 0.01\n",
    "generations = 500\n",
    "\n",
    "MAX_SCORE = math.comb(chromosome_length,2)\n",
    "\n",
    "\n",
    "def fitness(chromosome):\n",
    "    conflicts = 0\n",
    "    for i in range(chromosome_length):\n",
    "        for j in range(i + 1, chromosome_length):\n",
    "            if chromosome[i] == chromosome[j] or abs(int(chromosome[i]) - int(chromosome[j])) == j - i:\n",
    "                conflicts += 1\n",
    "    return MAX_SCORE - conflicts  # Max fitness = 28 (no conflicts)\n",
    "\n",
    "\n",
    "def select_parents(population):\n",
    "    # Select two parents based on their fitness\n",
    "    # ref: https://docs.python.org/3/library/random.html#random.choices \n",
    "    return random.choices(population, weights=[fitness(chromosome) for chromosome in population], k=2)\n",
    "\n",
    "def crossover(parent1, parent2):\n",
    "    crossover_point = random.randint(1, chromosome_length - 1)\n",
    "    child = parent1[:crossover_point] + parent2[crossover_point:]\n",
    "    return child\n",
    "\n",
    "def mutate(child):\n",
    "    mutated_child = list(child)\n",
    "    for i in range(chromosome_length):\n",
    "        if random.random() < mutation_rate:\n",
    "            prev = mutated_child[i]\n",
    "            mutated_child[i] = random.choice([str(i+1) for i in range(chromosome_length) if str(i+1)!=prev])\n",
    "    return ''.join(mutated_child)\n",
    "\n",
    "def get_best_solution(population):\n",
    "    best_solution = max(population, key=fitness)\n",
    "    return best_solution, fitness(best_solution)\n",
    "\n",
    "def initialize():\n",
    "    choices = ''.join([str(i+1) for i in range(chromosome_length)])\n",
    "    return [''.join(random.choice(choices) for _ in range(chromosome_length)) for _ in range(population_size)]\n",
    "\n",
    "\n",
    "# Main Genetic Algorithm loop\n",
    "def run(): \n",
    "    # Create an initial population\n",
    "    population = initialize()\n",
    "    for generation in range(generations):\n",
    "        \n",
    "        # Evaluate the fitness of each chromosome in the population\n",
    "        fitness_scores = [fitness(birey) for birey in population]\n",
    "\n",
    "        # Select and create a new population\n",
    "        new_population = []\n",
    "        for _ in range(population_size // 2):\n",
    "            parent1, parent2 = select_parents(population)\n",
    "            child1 = crossover(parent1, parent2)\n",
    "            child1 = mutate(child1)\n",
    "            child2 = crossover(parent2, parent1)\n",
    "            child2 = mutate(child2)\n",
    "            new_population.extend([child1, child2])\n",
    "        \n",
    "        \n",
    "\n",
    "        # Replace the old population with the new population\n",
    "        population = new_population\n",
    "        current_best_solution, current_best_score = get_best_solution(population)\n",
    "        print(f\"Generation: {str(generation+1)} best solution: {current_best_solution}, score: {current_best_score}\")\n",
    "        if (generation + 1 ) % 20 == 0:\n",
    "            print(f\"Best solution at generation {generation+1}: {current_best_solution}, score: {current_best_score}\")\n",
    "        \n",
    "        if current_best_score >= MAX_SCORE:\n",
    "            break\n",
    "\n",
    "    # Find the best solution in the final population\n",
    "    best_solution, best_score = get_best_solution(population)\n",
    "    print(\"Best solution:\", best_solution)\n",
    "    print(\"Fitness:\", fitness(best_solution), \"Max score\", MAX_SCORE)\n",
    "    return best_solution, best_score\n",
    "\n"
   ]
  },
  {
   "cell_type": "code",
   "execution_count": 55,
   "id": "bb3bcaeb",
   "metadata": {
    "scrolled": true
   },
   "outputs": [
    {
     "name": "stdout",
     "output_type": "stream",
     "text": [
      "Generation: 1 best solution: 68317285, score: 26\n",
      "Generation: 2 best solution: 61317285, score: 26\n",
      "Generation: 3 best solution: 58842736, score: 26\n",
      "Generation: 4 best solution: 48158273, score: 26\n",
      "Generation: 5 best solution: 77316852, score: 27\n",
      "Generation: 6 best solution: 77316852, score: 27\n",
      "Generation: 7 best solution: 77316852, score: 27\n",
      "Generation: 8 best solution: 61157248, score: 27\n",
      "Generation: 9 best solution: 42853817, score: 26\n",
      "Generation: 10 best solution: 76258473, score: 26\n",
      "Generation: 11 best solution: 61425813, score: 26\n",
      "Generation: 12 best solution: 53868174, score: 27\n",
      "Generation: 13 best solution: 66258474, score: 26\n",
      "Generation: 14 best solution: 66258473, score: 27\n",
      "Generation: 15 best solution: 53868271, score: 27\n",
      "Generation: 16 best solution: 74855164, score: 26\n",
      "Generation: 17 best solution: 71468258, score: 26\n",
      "Generation: 18 best solution: 61588473, score: 27\n",
      "Generation: 19 best solution: 26175834, score: 26\n",
      "Generation: 20 best solution: 61357248, score: 27\n",
      "Best solution at generation 20: 61357248, score: 27\n",
      "Generation: 21 best solution: 61588473, score: 27\n",
      "Generation: 22 best solution: 41357242, score: 26\n",
      "Generation: 23 best solution: 41357282, score: 26\n",
      "Generation: 24 best solution: 41853272, score: 26\n",
      "Generation: 25 best solution: 51853174, score: 26\n",
      "Generation: 26 best solution: 71462853, score: 26\n",
      "Generation: 27 best solution: 21641853, score: 26\n",
      "Generation: 28 best solution: 57518473, score: 26\n",
      "Generation: 29 best solution: 17738253, score: 26\n",
      "Generation: 30 best solution: 61558473, score: 27\n",
      "Generation: 31 best solution: 41752813, score: 27\n",
      "Generation: 32 best solution: 64718273, score: 27\n",
      "Generation: 33 best solution: 51268473, score: 26\n",
      "Generation: 34 best solution: 64258473, score: 27\n",
      "Generation: 35 best solution: 51418273, score: 27\n",
      "Generation: 36 best solution: 61258473, score: 27\n",
      "Generation: 37 best solution: 31858272, score: 26\n",
      "Generation: 38 best solution: 61358272, score: 26\n",
      "Generation: 39 best solution: 15857266, score: 26\n",
      "Generation: 40 best solution: 64758253, score: 27\n",
      "Best solution at generation 40: 64758253, score: 27\n",
      "Generation: 41 best solution: 24175863, score: 26\n",
      "Generation: 42 best solution: 21748353, score: 26\n",
      "Generation: 43 best solution: 74853662, score: 26\n",
      "Generation: 44 best solution: 81718253, score: 26\n",
      "Generation: 45 best solution: 51813682, score: 26\n",
      "Generation: 46 best solution: 51273682, score: 26\n",
      "Generation: 47 best solution: 61748283, score: 26\n",
      "Generation: 48 best solution: 51273682, score: 26\n",
      "Generation: 49 best solution: 62758853, score: 26\n",
      "Generation: 50 best solution: 25811473, score: 26\n",
      "Generation: 51 best solution: 52813861, score: 26\n",
      "Generation: 52 best solution: 72461853, score: 27\n",
      "Generation: 53 best solution: 52617483, score: 28\n",
      "Best solution: 52617483\n",
      "Fitness: 28 Max score 28\n"
     ]
    }
   ],
   "source": [
    "best_solution, best_score = run()"
   ]
  },
  {
   "cell_type": "code",
   "execution_count": 53,
   "id": "a968a9ea",
   "metadata": {
    "scrolled": true
   },
   "outputs": [
    {
     "name": "stdout",
     "output_type": "stream",
     "text": [
      ". . . . . Q . .\n",
      ". . . Q . . . .\n",
      ". . . . . . Q .\n",
      "Q . . . . . . .\n",
      ". . . . . . . Q\n",
      ". Q . . . . . .\n",
      ". . . . Q . . .\n",
      ". . Q . . . . .\n"
     ]
    }
   ],
   "source": [
    "print_board(best_solution)"
   ]
  },
  {
   "cell_type": "code",
   "execution_count": null,
   "id": "d790cfcc",
   "metadata": {},
   "outputs": [],
   "source": []
  }
 ],
 "metadata": {
  "kernelspec": {
   "display_name": "venv",
   "language": "python",
   "name": "venv"
  },
  "language_info": {
   "codemirror_mode": {
    "name": "ipython",
    "version": 3
   },
   "file_extension": ".py",
   "mimetype": "text/x-python",
   "name": "python",
   "nbconvert_exporter": "python",
   "pygments_lexer": "ipython3",
   "version": "3.11.6"
  }
 },
 "nbformat": 4,
 "nbformat_minor": 5
}
