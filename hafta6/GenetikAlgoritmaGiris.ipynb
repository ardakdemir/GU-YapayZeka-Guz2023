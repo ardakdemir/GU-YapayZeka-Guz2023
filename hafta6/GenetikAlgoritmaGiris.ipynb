{
 "cells": [
  {
   "cell_type": "markdown",
   "id": "748601c4",
   "metadata": {},
   "source": [
    "# Genetik Algoritma Hatirlatma"
   ]
  },
  {
   "cell_type": "markdown",
   "id": "d8b54a92",
   "metadata": {},
   "source": [
    "## 8 Vezir Problemi icin Genetik Algoritma ile Cozumu"
   ]
  },
  {
   "cell_type": "code",
   "execution_count": null,
   "id": "51a98f78",
   "metadata": {},
   "outputs": [],
   "source": [
    "# TODO Implement the 8 Queens problem"
   ]
  },
  {
   "cell_type": "code",
   "execution_count": null,
   "id": "09f24e3e",
   "metadata": {},
   "outputs": [],
   "source": [
    "import random\n",
    "\n",
    "# Genetic Algorithm Parameters\n",
    "population_size = 100\n",
    "chromosome_length = 8\n",
    "mutation_rate = 0.01\n",
    "generations = 500\n",
    "\n",
    "MAX_SCORE = math.comb(chromosome_length,2)\n",
    "\n",
    "\n",
    "def fitness(chromosome):\n",
    "    ...\n",
    "\n",
    "def select_parents(population):\n",
    "    # Select two parents based on their fitness\n",
    "    # ref: https://docs.python.org/3/library/random.html#random.choices \n",
    "    ...\n",
    "\n",
    "def crossover(parent1, parent2):\n",
    "    ...\n",
    "\n",
    "def mutate(child):\n",
    "    ...\n",
    "\n",
    "def get_best_solution(population):\n",
    "    best_solution = max(population, key=fitness)\n",
    "    return best_solution, fitness(best_solution)\n",
    "\n",
    "def initialize():\n",
    "    ...\n",
    "\n",
    "\n",
    "# Main Genetic Algorithm loop\n",
    "def run(): \n",
    "    # Create an initial population\n",
    "    population = initialize()\n",
    "    for generation in range(generations):\n",
    "        # Evaluate the fitness of each chromosome in the population\n",
    "        fitness_scores = [fitness(chromosome) for chromosome in population]\n",
    "\n",
    "        # Select and create a new population\n",
    "        new_population = []\n",
    "        for _ in range(population_size // 2):\n",
    "            parent1, parent2 = select_parents(population)\n",
    "            child1 = crossover(parent1, parent2)\n",
    "            child1 = mutate(child1)\n",
    "            child2 = crossover(parent2, parent1)\n",
    "            child2 = mutate(child2)\n",
    "            new_population.extend([child1, child2])\n",
    "\n",
    "        # Replace the old population with the new population\n",
    "        population = new_population\n",
    "        current_best_solution, current_best_score = get_best_solution(population)\n",
    "        if (generation + 1 ) % 20 == 0:\n",
    "            print(f\"Best solution at generation {generation+1}: {current_best_solution}, score: {current_best_score}\")\n",
    "        \n",
    "        if current_best_score >= MAX_SCORE:\n",
    "            break\n",
    "\n",
    "    # Find the best solution in the final population\n",
    "    best_solution, best_score = get_best_solution(population)\n",
    "    print(\"Best solution:\", best_solution)\n",
    "    print(\"Fitness:\", fitness(best_solution), \"Max score\", MAX_SCORE)\n",
    "    return best_solution, best_score\n",
    "\n"
   ]
  },
  {
   "cell_type": "code",
   "execution_count": null,
   "id": "bb3bcaeb",
   "metadata": {},
   "outputs": [],
   "source": [
    "run()"
   ]
  },
  {
   "cell_type": "code",
   "execution_count": null,
   "id": "a968a9ea",
   "metadata": {},
   "outputs": [],
   "source": []
  }
 ],
 "metadata": {
  "kernelspec": {
   "display_name": "venv",
   "language": "python",
   "name": "venv"
  },
  "language_info": {
   "codemirror_mode": {
    "name": "ipython",
    "version": 3
   },
   "file_extension": ".py",
   "mimetype": "text/x-python",
   "name": "python",
   "nbconvert_exporter": "python",
   "pygments_lexer": "ipython3",
   "version": "3.11.6"
  }
 },
 "nbformat": 4,
 "nbformat_minor": 5
}
