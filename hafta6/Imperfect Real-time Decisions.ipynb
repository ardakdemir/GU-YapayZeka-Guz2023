{
 "cells": [
  {
   "cell_type": "code",
   "execution_count": 13,
   "id": "dd7469cc",
   "metadata": {},
   "outputs": [],
   "source": [
    "import chess\n",
    "from abc import abstractmethod"
   ]
  },
  {
   "cell_type": "markdown",
   "id": "7ff59c30",
   "metadata": {},
   "source": [
    "# Evaluation Function 101\n",
    "\n",
    "Yalnizca materyalleri dikkate alan bir evaluation function yazalim"
   ]
  },
  {
   "cell_type": "code",
   "execution_count": 14,
   "id": "ff9eda33",
   "metadata": {},
   "outputs": [],
   "source": [
    "import random"
   ]
  },
  {
   "cell_type": "code",
   "execution_count": 15,
   "id": "29804d49",
   "metadata": {},
   "outputs": [
    {
     "data": {
      "text/plain": [
       "0.22597507534591577"
      ]
     },
     "execution_count": 15,
     "metadata": {},
     "output_type": "execute_result"
    }
   ],
   "source": [
    "random.random()"
   ]
  },
  {
   "cell_type": "code",
   "execution_count": 16,
   "id": "e35a342c",
   "metadata": {},
   "outputs": [],
   "source": [
    "from chess import Board"
   ]
  },
  {
   "cell_type": "code",
   "execution_count": 17,
   "id": "2ef03668",
   "metadata": {},
   "outputs": [],
   "source": [
    "board = Board()"
   ]
  },
  {
   "cell_type": "code",
   "execution_count": 25,
   "id": "b19ab46d",
   "metadata": {},
   "outputs": [
    {
     "name": "stdout",
     "output_type": "stream",
     "text": [
      "r n b q k b n r\n",
      "p p p p p p p p\n",
      ". . . . . . . .\n",
      ". . . . . . . .\n",
      ". . . . . . . .\n",
      ". . . . . . . .\n",
      "P P P P P P P P\n",
      "R N B Q K B N R\n"
     ]
    }
   ],
   "source": [
    "print(board)"
   ]
  },
  {
   "cell_type": "code",
   "execution_count": 18,
   "id": "0289fd0b",
   "metadata": {},
   "outputs": [],
   "source": [
    "import random\n",
    "# Object-oriented gidelim ve bir feature'i bu sekilde tanimlayalim\n",
    "from collections import Counter\n",
    "\n",
    "\n",
    "class Feature:\n",
    "    def __init__(self, name, side=\"both\"):\n",
    "        self.name = name\n",
    "        if side not in (\"black\", \"white\", \"both\"):\n",
    "            raise \"Side must be one of black and white or both\"\n",
    "        self.side = side\n",
    "        \n",
    "    @abstractmethod\n",
    "    def value(board:chess.Board)-> int|float:\n",
    "        ...\n",
    "        \n",
    "class Evaluator:\n",
    "    def __init__(self, list_of_features: list[Feature]):\n",
    "        self.list_of_features = list_of_features\n",
    "        # basta rastgele degerler verelim\n",
    "        self.feature_weights = {f.name:random.random() for f in self.list_of_features}\n",
    "        self.feature_names = self.feature_weights.keys()\n",
    "        \n",
    "    def evaluate(self,board: chess.Board):\n",
    "        total_score = 0\n",
    "        for feature in self.list_of_features:\n",
    "            score = feature.value(board)\n",
    "            if feature.side == \"black\":\n",
    "                score = score * -1\n",
    "            total_score += score * self.feature_weights[feature.name]\n",
    "        return total_score\n",
    "    \n",
    "    def update_feature_weight(self, feature_name, new_weight):\n",
    "        if feature_name not in self.feature_names:\n",
    "            print(f\"{feature_name} is not defined. Must be one of {self.feature_names}\")\n",
    "        self.feature_weights[feature_name] = new_weight\n",
    "        \n",
    "class PieceCountFeature(Feature):\n",
    "    def __init__(self, name, piece_ids:dict[str, str]):\n",
    "        super(PieceCountFeature, self).__init__(name, \"both\")\n",
    "        self.piece_ids =  piece_ids\n",
    "    def value(self, board):\n",
    "        piece_counts = Counter(str(board)) \n",
    "        return piece_counts[self.piece_ids[\"white\"]] - piece_counts[self.piece_ids[\"black\"]]\n",
    "    \n"
   ]
  },
  {
   "cell_type": "code",
   "execution_count": 21,
   "id": "3cb765b7",
   "metadata": {},
   "outputs": [],
   "source": [
    "feature_a = Feature(\"abc\")"
   ]
  },
  {
   "cell_type": "code",
   "execution_count": 22,
   "id": "b2391786",
   "metadata": {},
   "outputs": [
    {
     "data": {
      "text/plain": [
       "'abc'"
      ]
     },
     "execution_count": 22,
     "metadata": {},
     "output_type": "execute_result"
    }
   ],
   "source": [
    "feature_a.name"
   ]
  },
  {
   "cell_type": "code",
   "execution_count": 23,
   "id": "95bef58c",
   "metadata": {},
   "outputs": [
    {
     "data": {
      "text/plain": [
       "'both'"
      ]
     },
     "execution_count": 23,
     "metadata": {},
     "output_type": "execute_result"
    }
   ],
   "source": [
    "feature_a.side"
   ]
  },
  {
   "cell_type": "code",
   "execution_count": 26,
   "id": "5387ec12",
   "metadata": {},
   "outputs": [],
   "source": [
    "board = chess.Board()"
   ]
  },
  {
   "cell_type": "code",
   "execution_count": 27,
   "id": "1b45f375",
   "metadata": {},
   "outputs": [
    {
     "name": "stdout",
     "output_type": "stream",
     "text": [
      "r n b q k b n r\n",
      "p p p p p p p p\n",
      ". . . . . . . .\n",
      ". . . . . . . .\n",
      ". . . . . . . .\n",
      ". . . . . . . .\n",
      "P P P P P P P P\n",
      "R N B Q K B N R\n"
     ]
    }
   ],
   "source": [
    "print(board)"
   ]
  },
  {
   "cell_type": "code",
   "execution_count": 28,
   "id": "3e021afd",
   "metadata": {},
   "outputs": [],
   "source": [
    "piyon_count = PieceCountFeature(\"piyon_count\", {\"white\":\"P\",\"black\":\"p\"})"
   ]
  },
  {
   "cell_type": "code",
   "execution_count": 29,
   "id": "80b589e0",
   "metadata": {},
   "outputs": [],
   "source": [
    "feature_list = [\n",
    "    piyon_count\n",
    "]"
   ]
  },
  {
   "cell_type": "code",
   "execution_count": 30,
   "id": "722e1a8e",
   "metadata": {},
   "outputs": [],
   "source": [
    "satranc_evaluator = Evaluator(feature_list)"
   ]
  },
  {
   "cell_type": "code",
   "execution_count": 31,
   "id": "755748d9",
   "metadata": {},
   "outputs": [
    {
     "data": {
      "text/plain": [
       "0.0"
      ]
     },
     "execution_count": 31,
     "metadata": {},
     "output_type": "execute_result"
    }
   ],
   "source": [
    "satranc_evaluator.evaluate(board)"
   ]
  },
  {
   "cell_type": "code",
   "execution_count": 35,
   "id": "b938ac6f",
   "metadata": {},
   "outputs": [],
   "source": [
    "board = \"\"\"\n",
    "r n b q k b n r\n",
    "p p p p p p p p\n",
    ". . . . . . . .\n",
    ". . . . . Q . .\n",
    ". . . . . . . .\n",
    ". . . . . . . .\n",
    "P P P P P . P P\n",
    "R N B . K B N R\n",
    "\"\"\""
   ]
  },
  {
   "cell_type": "code",
   "execution_count": 36,
   "id": "50cf0dea",
   "metadata": {},
   "outputs": [
    {
     "data": {
      "text/plain": [
       "-0.8089816292881677"
      ]
     },
     "execution_count": 36,
     "metadata": {},
     "output_type": "execute_result"
    }
   ],
   "source": [
    "satranc_evaluator.evaluate(board)"
   ]
  },
  {
   "cell_type": "code",
   "execution_count": 37,
   "id": "57aa1392",
   "metadata": {},
   "outputs": [
    {
     "data": {
      "text/plain": [
       "0.8089816292881677"
      ]
     },
     "execution_count": 37,
     "metadata": {},
     "output_type": "execute_result"
    }
   ],
   "source": [
    "satranc_evaluator.feature_weights['piyon_count']"
   ]
  },
  {
   "cell_type": "code",
   "execution_count": 38,
   "id": "ff74c51a",
   "metadata": {},
   "outputs": [],
   "source": [
    "piyon_count = PieceCountFeature(\"piyon_count\", {\"white\":\"P\",\"black\":\"p\"})\n",
    "at_count = PieceCountFeature(\"at_count\", {\"white\":\"N\",\"black\":\"n\"})\n",
    "fil_count = PieceCountFeature(\"fil_count\", {\"white\":\"B\",\"black\":\"b\"})\n",
    "kale_count = PieceCountFeature(\"kale_count\", {\"white\":\"R\",\"black\":\"r\"})\n",
    "vezir_count = PieceCountFeature(\"vezir_count\", {\"white\":\"Q\",\"black\":\"q\"})"
   ]
  },
  {
   "cell_type": "code",
   "execution_count": 39,
   "id": "2212157e",
   "metadata": {},
   "outputs": [],
   "source": [
    "feature_list = [\n",
    "    piyon_count,\n",
    "    at_count,\n",
    "    fil_count,\n",
    "    kale_count,\n",
    "    vezir_count\n",
    "]"
   ]
  },
  {
   "cell_type": "code",
   "execution_count": 40,
   "id": "239b34ca",
   "metadata": {},
   "outputs": [],
   "source": [
    "satranc_evaluator = Evaluator(feature_list)"
   ]
  },
  {
   "cell_type": "code",
   "execution_count": 41,
   "id": "d64e3238",
   "metadata": {},
   "outputs": [],
   "source": [
    "board = \"\"\"\n",
    "r n b . k b n r\n",
    "p p p p p p p p\n",
    ". . . . . . . .\n",
    ". . . . . . . .\n",
    ". . . . . . . .\n",
    ". . . . . . . .\n",
    "P P P P P . P P\n",
    "R N B Q K B N R\n",
    "\"\"\""
   ]
  },
  {
   "cell_type": "code",
   "execution_count": 42,
   "id": "993c6f4b",
   "metadata": {},
   "outputs": [
    {
     "data": {
      "text/plain": [
       "0.023903896848557205"
      ]
     },
     "execution_count": 42,
     "metadata": {},
     "output_type": "execute_result"
    }
   ],
   "source": [
    "satranc_evaluator.evaluate(board)"
   ]
  },
  {
   "cell_type": "code",
   "execution_count": 43,
   "id": "51b28608",
   "metadata": {},
   "outputs": [],
   "source": [
    "v_w = satranc_evaluator.feature_weights['vezir_count']"
   ]
  },
  {
   "cell_type": "code",
   "execution_count": 44,
   "id": "def3325a",
   "metadata": {},
   "outputs": [],
   "source": [
    "p_w = satranc_evaluator.feature_weights['piyon_count']"
   ]
  },
  {
   "cell_type": "code",
   "execution_count": 45,
   "id": "383cb666",
   "metadata": {},
   "outputs": [
    {
     "data": {
      "text/plain": [
       "0.023903896848557205"
      ]
     },
     "execution_count": 45,
     "metadata": {},
     "output_type": "execute_result"
    }
   ],
   "source": [
    "-p_w + v_w"
   ]
  },
  {
   "cell_type": "markdown",
   "id": "763d5c96",
   "metadata": {},
   "source": [
    "## Feature-based evaluation function and Equivalence Classes\n",
    "\n",
    "Biz bir state'i (satranc icin tahta pozisyonu) yalnizca weighted combination of features olarak tanimlarsak, feature value'su ayni olan butun pozisyonlar equivalence class olusturur. Bu da satrancta ve gercek hayatta cok limitleyici olabilir. \n"
   ]
  },
  {
   "cell_type": "code",
   "execution_count": null,
   "id": "34a10502",
   "metadata": {},
   "outputs": [],
   "source": []
  },
  {
   "cell_type": "markdown",
   "id": "b234bd25",
   "metadata": {},
   "source": [
    "# Stockfish\n",
    "\n",
    "Acik kaynak kodlu bir satranc yapay zeka sistemi  \n",
    "\n",
    "\n",
    "[wikipedia](https://en.wikipedia.org/wiki/Stockfish_(chess))\n",
    "\n",
    "\n",
    "\"Stockfish has consistently ranked first in most of the chess engine rating lists and, as of September 2023, is the strongest CPU chess engine in the world with an estimated Elo rating of 3546 \""
   ]
  },
  {
   "cell_type": "code",
   "execution_count": 122,
   "id": "56c961b8",
   "metadata": {},
   "outputs": [
    {
     "data": {
      "image/jpeg": "[encoded data removed]",
      "text/plain": [
       "<IPython.core.display.Image object>"
      ]
     },
     "execution_count": 122,
     "metadata": {},
     "output_type": "execute_result"
    }
   ],
   "source": [
    "from IPython.display import Image\n",
    "Image(filename='stockfish_image.jpeg')"
   ]
  },
  {
   "cell_type": "markdown",
   "id": "10acc09b",
   "metadata": {},
   "source": [
    "## Installation\n",
    "\n",
    "- engine download: https://stockfishchess.org/download/ \n",
    "\n",
    "- python library: https://pypi.org/project/stockfish/ "
   ]
  },
  {
   "cell_type": "markdown",
   "id": "046b9dfd",
   "metadata": {},
   "source": [
    "## Stockfishten ogrenen bir program yapabilir miyiz? \n"
   ]
  },
  {
   "cell_type": "code",
   "execution_count": 46,
   "id": "69b3bd99",
   "metadata": {},
   "outputs": [],
   "source": [
    "from stockfish import Stockfish"
   ]
  },
  {
   "cell_type": "code",
   "execution_count": 47,
   "id": "e8b333b9",
   "metadata": {},
   "outputs": [],
   "source": [
    "stockfish = Stockfish()"
   ]
  },
  {
   "cell_type": "code",
   "execution_count": 48,
   "id": "6460b613",
   "metadata": {},
   "outputs": [],
   "source": [
    "from chess import Board\n",
    "board = Board()"
   ]
  },
  {
   "cell_type": "code",
   "execution_count": 49,
   "id": "e4cbc287",
   "metadata": {},
   "outputs": [
    {
     "data": {
      "text/plain": [
       "'rnbqkbnr/pppppppp/8/8/8/8/PPPPPPPP/RNBQKBNR w KQkq - 0 1'"
      ]
     },
     "execution_count": 49,
     "metadata": {},
     "output_type": "execute_result"
    }
   ],
   "source": [
    "board.fen()"
   ]
  },
  {
   "cell_type": "code",
   "execution_count": 50,
   "id": "4bfc0804",
   "metadata": {},
   "outputs": [],
   "source": [
    "stockfish.set_fen_position(board.fen())"
   ]
  },
  {
   "cell_type": "code",
   "execution_count": 51,
   "id": "a93b0bfd",
   "metadata": {},
   "outputs": [
    {
     "data": {
      "text/plain": [
       "[{'Move': 'e2e4', 'Centipawn': 33, 'Mate': None}]"
      ]
     },
     "execution_count": 51,
     "metadata": {},
     "output_type": "execute_result"
    }
   ],
   "source": [
    "stockfish.get_top_moves(1)"
   ]
  },
  {
   "cell_type": "code",
   "execution_count": null,
   "id": "cdf067a6",
   "metadata": {},
   "outputs": [],
   "source": [
    "0.33"
   ]
  },
  {
   "cell_type": "code",
   "execution_count": 52,
   "id": "0b39284b",
   "metadata": {},
   "outputs": [],
   "source": [
    "stockfish_board = stockfish.get_board_visual()"
   ]
  },
  {
   "cell_type": "code",
   "execution_count": 53,
   "id": "c5204286",
   "metadata": {},
   "outputs": [
    {
     "name": "stdout",
     "output_type": "stream",
     "text": [
      "+---+---+---+---+---+---+---+---+\n",
      "| r | n | b | q | k | b | n | r | 8\n",
      "+---+---+---+---+---+---+---+---+\n",
      "| p | p | p | p | p | p | p | p | 7\n",
      "+---+---+---+---+---+---+---+---+\n",
      "|   |   |   |   |   |   |   |   | 6\n",
      "+---+---+---+---+---+---+---+---+\n",
      "|   |   |   |   |   |   |   |   | 5\n",
      "+---+---+---+---+---+---+---+---+\n",
      "|   |   |   |   |   |   |   |   | 4\n",
      "+---+---+---+---+---+---+---+---+\n",
      "|   |   |   |   |   |   |   |   | 3\n",
      "+---+---+---+---+---+---+---+---+\n",
      "| P | P | P | P | P | P | P | P | 2\n",
      "+---+---+---+---+---+---+---+---+\n",
      "| R | N | B | Q | K | B | N | R | 1\n",
      "+---+---+---+---+---+---+---+---+\n",
      "  a   b   c   d   e   f   g   h\n",
      "\n"
     ]
    }
   ],
   "source": [
    "print(stockfish_board)"
   ]
  },
  {
   "cell_type": "code",
   "execution_count": null,
   "id": "a8aee741",
   "metadata": {},
   "outputs": [],
   "source": [
    "#ders"
   ]
  }
 ],
 "metadata": {
  "kernelspec": {
   "display_name": "venv",
   "language": "python",
   "name": "venv"
  },
  "language_info": {
   "codemirror_mode": {
    "name": "ipython",
    "version": 3
   },
   "file_extension": ".py",
   "mimetype": "text/x-python",
   "name": "python",
   "nbconvert_exporter": "python",
   "pygments_lexer": "ipython3",
   "version": "3.11.6"
  }
 },
 "nbformat": 4,
 "nbformat_minor": 5
}
